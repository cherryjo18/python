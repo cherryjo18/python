{
 "metadata": {
  "language_info": {
   "codemirror_mode": {
    "name": "ipython",
    "version": 3
   },
   "file_extension": ".py",
   "mimetype": "text/x-python",
   "name": "python",
   "nbconvert_exporter": "python",
   "pygments_lexer": "ipython3",
   "version": "3.8.6-final"
  },
  "orig_nbformat": 2,
  "kernelspec": {
   "name": "python3",
   "display_name": "Python 3.8.6 32-bit",
   "metadata": {
    "interpreter": {
     "hash": "b977b1c54e1ae8995c85ab62d32bcef0fe2b3afde370ca3cc67a760e8e35de10"
    }
   }
  }
 },
 "nbformat": 4,
 "nbformat_minor": 2,
 "cells": [
  {
   "source": [
    " # What is Pandas?\n",
    "python library for data manipulation and analysis\n",
    "\n",
    "설치 : **pip install pandas** "
   ],
   "cell_type": "markdown",
   "metadata": {}
  },
  {
   "source": [
    "# Library Highlights\n",
    "* A fast and efficient **DataFrame** object for data manipulation with integrated indexing;\n",
    "\n",
    "* Tools for **reading and writing data** between in-memory data structures and different formats: CSV and text files, Microsoft Excel, SQL databases, and the fast HDF5 format;\n",
    "\n",
    "* Intelligent **data alignment** and integrated handling of **missing data**: gain automatic label-based alignment in computations and easily manipulate messy data into an orderly form;\n",
    "\n",
    "* Flexible **reshaping** and pivoting of data sets;\n",
    "\n",
    "* Intelligent label-based **slicing, fancy indexing,** and **subsetting** of large data sets;\n",
    "\n",
    "* Columns can be inserted and deleted from data structures for **size mutability**;\n",
    "\n",
    "* Aggregating or transforming data with a powerful **group by** engine allowing split-apply-combine operations on data sets;\n",
    "\n",
    "* High performance **merging and joining** of data sets;\n",
    "\n",
    "* **Hierarchical axis indexing** provides an intuitive way of working with high-dimensional data in a lower-dimensional data structure;\n",
    "\n",
    "* **Time series**-functionality: date range generation and frequency conversion, moving window statistics, date shifting and lagging. Even create domain-specific time offsets and join time series without losing data;\n",
    "\n",
    "* Highly **optimized for performance**, with critical code paths written in Cython or C.\n",
    "\n",
    "* Python with pandas is in use in a wide variety of **academic and commercial** domains, including Finance, Neuroscience, Economics, Statistics, Advertising, Web Analytics, and more."
   ],
   "cell_type": "markdown",
   "metadata": {}
  },
  {
   "cell_type": "code",
   "execution_count": 3,
   "metadata": {},
   "outputs": [
    {
     "output_type": "execute_result",
     "data": {
      "text/plain": [
       "        CUST_ID  TARGET  BNK_LNIF_CNT  CPT_LNIF_CNT  SPART_LNIF_CNT  \\\n",
       "0             1       0             1             0               0   \n",
       "1             2       0             1             0               0   \n",
       "2             3       0             0             1               3   \n",
       "3             4       1             0             2               4   \n",
       "4             5       0             4             0               0   \n",
       "...         ...     ...           ...           ...             ...   \n",
       "100228   102248       0             1             0               2   \n",
       "100229   102249       0             2             0               0   \n",
       "100230   102250       0             1             0               0   \n",
       "100231   102251       0             0             0               1   \n",
       "100232   102252       0             1             0               0   \n",
       "\n",
       "        ECT_LNIF_CNT  TOT_LNIF_AMT  TOT_CLIF_AMT  BNK_LNIF_AMT  CPT_LNIF_AMT  \\\n",
       "0                  0          9001          9001          9001             0   \n",
       "1                  0         24001             0         24001             0   \n",
       "2                  2         15001          9001             0          3001   \n",
       "3                  2          6001          3001             0          3001   \n",
       "4                  0         21001         15001         21001             0   \n",
       "...              ...           ...           ...           ...           ...   \n",
       "100228             2         75001         15001         57001             0   \n",
       "100229             0         54001          9001         54001             0   \n",
       "100230             0         27001         27001         27001             0   \n",
       "100231             1         57001             0             0             0   \n",
       "100232             0         18001         18001         18001             0   \n",
       "\n",
       "        ...  CBPT_MBSP_YN  MOBL_FATY_PRC  TEL_CNTT_QTR  NUM_DAY_SUSP  \\\n",
       "0       ...             N         800000         20111             0   \n",
       "1       ...             N         500000         20143             0   \n",
       "2       ...             Y         500000         20103             0   \n",
       "3       ...             N         900000         20144             0   \n",
       "4       ...             Y         800000         20131             0   \n",
       "...     ...           ...            ...           ...           ...   \n",
       "100228  ...             N              0         20111             0   \n",
       "100229  ...             Y         900000         20134             0   \n",
       "100230  ...             N              0         20141             0   \n",
       "100231  ...             N         900000         20103             0   \n",
       "100232  ...             N         400000         20151             0   \n",
       "\n",
       "        CRMM_OVDU_AMT  TLFE_UNPD_CNT LT1Y_MXOD_AMT  PAYM_METD  LINE_STUS  \\\n",
       "0                   0              0             0          O          U   \n",
       "1                   0              0             0          O          U   \n",
       "2                   0              0             0          O          U   \n",
       "3              540000              0        630000          G          S   \n",
       "4              130000              0         90000          G          U   \n",
       "...               ...            ...           ...        ...        ...   \n",
       "100228          20000              0             0          R          U   \n",
       "100229              0              0             0          K          U   \n",
       "100230              0              0             0          O          U   \n",
       "100231              0              0             0          O          U   \n",
       "100232              0              0         60000          K          U   \n",
       "\n",
       "        MOBL_PRIN  \n",
       "0          580000  \n",
       "1           90000  \n",
       "2          120000  \n",
       "3          320000  \n",
       "4          410000  \n",
       "...           ...  \n",
       "100228          0  \n",
       "100229     180000  \n",
       "100230          0  \n",
       "100231     540000  \n",
       "100232     180000  \n",
       "\n",
       "[100233 rows x 69 columns]"
      ],
      "text/html": "<div>\n<style scoped>\n    .dataframe tbody tr th:only-of-type {\n        vertical-align: middle;\n    }\n\n    .dataframe tbody tr th {\n        vertical-align: top;\n    }\n\n    .dataframe thead th {\n        text-align: right;\n    }\n</style>\n<table border=\"1\" class=\"dataframe\">\n  <thead>\n    <tr style=\"text-align: right;\">\n      <th></th>\n      <th>CUST_ID</th>\n      <th>TARGET</th>\n      <th>BNK_LNIF_CNT</th>\n      <th>CPT_LNIF_CNT</th>\n      <th>SPART_LNIF_CNT</th>\n      <th>ECT_LNIF_CNT</th>\n      <th>TOT_LNIF_AMT</th>\n      <th>TOT_CLIF_AMT</th>\n      <th>BNK_LNIF_AMT</th>\n      <th>CPT_LNIF_AMT</th>\n      <th>...</th>\n      <th>CBPT_MBSP_YN</th>\n      <th>MOBL_FATY_PRC</th>\n      <th>TEL_CNTT_QTR</th>\n      <th>NUM_DAY_SUSP</th>\n      <th>CRMM_OVDU_AMT</th>\n      <th>TLFE_UNPD_CNT</th>\n      <th>LT1Y_MXOD_AMT</th>\n      <th>PAYM_METD</th>\n      <th>LINE_STUS</th>\n      <th>MOBL_PRIN</th>\n    </tr>\n  </thead>\n  <tbody>\n    <tr>\n      <th>0</th>\n      <td>1</td>\n      <td>0</td>\n      <td>1</td>\n      <td>0</td>\n      <td>0</td>\n      <td>0</td>\n      <td>9001</td>\n      <td>9001</td>\n      <td>9001</td>\n      <td>0</td>\n      <td>...</td>\n      <td>N</td>\n      <td>800000</td>\n      <td>20111</td>\n      <td>0</td>\n      <td>0</td>\n      <td>0</td>\n      <td>0</td>\n      <td>O</td>\n      <td>U</td>\n      <td>580000</td>\n    </tr>\n    <tr>\n      <th>1</th>\n      <td>2</td>\n      <td>0</td>\n      <td>1</td>\n      <td>0</td>\n      <td>0</td>\n      <td>0</td>\n      <td>24001</td>\n      <td>0</td>\n      <td>24001</td>\n      <td>0</td>\n      <td>...</td>\n      <td>N</td>\n      <td>500000</td>\n      <td>20143</td>\n      <td>0</td>\n      <td>0</td>\n      <td>0</td>\n      <td>0</td>\n      <td>O</td>\n      <td>U</td>\n      <td>90000</td>\n    </tr>\n    <tr>\n      <th>2</th>\n      <td>3</td>\n      <td>0</td>\n      <td>0</td>\n      <td>1</td>\n      <td>3</td>\n      <td>2</td>\n      <td>15001</td>\n      <td>9001</td>\n      <td>0</td>\n      <td>3001</td>\n      <td>...</td>\n      <td>Y</td>\n      <td>500000</td>\n      <td>20103</td>\n      <td>0</td>\n      <td>0</td>\n      <td>0</td>\n      <td>0</td>\n      <td>O</td>\n      <td>U</td>\n      <td>120000</td>\n    </tr>\n    <tr>\n      <th>3</th>\n      <td>4</td>\n      <td>1</td>\n      <td>0</td>\n      <td>2</td>\n      <td>4</td>\n      <td>2</td>\n      <td>6001</td>\n      <td>3001</td>\n      <td>0</td>\n      <td>3001</td>\n      <td>...</td>\n      <td>N</td>\n      <td>900000</td>\n      <td>20144</td>\n      <td>0</td>\n      <td>540000</td>\n      <td>0</td>\n      <td>630000</td>\n      <td>G</td>\n      <td>S</td>\n      <td>320000</td>\n    </tr>\n    <tr>\n      <th>4</th>\n      <td>5</td>\n      <td>0</td>\n      <td>4</td>\n      <td>0</td>\n      <td>0</td>\n      <td>0</td>\n      <td>21001</td>\n      <td>15001</td>\n      <td>21001</td>\n      <td>0</td>\n      <td>...</td>\n      <td>Y</td>\n      <td>800000</td>\n      <td>20131</td>\n      <td>0</td>\n      <td>130000</td>\n      <td>0</td>\n      <td>90000</td>\n      <td>G</td>\n      <td>U</td>\n      <td>410000</td>\n    </tr>\n    <tr>\n      <th>...</th>\n      <td>...</td>\n      <td>...</td>\n      <td>...</td>\n      <td>...</td>\n      <td>...</td>\n      <td>...</td>\n      <td>...</td>\n      <td>...</td>\n      <td>...</td>\n      <td>...</td>\n      <td>...</td>\n      <td>...</td>\n      <td>...</td>\n      <td>...</td>\n      <td>...</td>\n      <td>...</td>\n      <td>...</td>\n      <td>...</td>\n      <td>...</td>\n      <td>...</td>\n      <td>...</td>\n    </tr>\n    <tr>\n      <th>100228</th>\n      <td>102248</td>\n      <td>0</td>\n      <td>1</td>\n      <td>0</td>\n      <td>2</td>\n      <td>2</td>\n      <td>75001</td>\n      <td>15001</td>\n      <td>57001</td>\n      <td>0</td>\n      <td>...</td>\n      <td>N</td>\n      <td>0</td>\n      <td>20111</td>\n      <td>0</td>\n      <td>20000</td>\n      <td>0</td>\n      <td>0</td>\n      <td>R</td>\n      <td>U</td>\n      <td>0</td>\n    </tr>\n    <tr>\n      <th>100229</th>\n      <td>102249</td>\n      <td>0</td>\n      <td>2</td>\n      <td>0</td>\n      <td>0</td>\n      <td>0</td>\n      <td>54001</td>\n      <td>9001</td>\n      <td>54001</td>\n      <td>0</td>\n      <td>...</td>\n      <td>Y</td>\n      <td>900000</td>\n      <td>20134</td>\n      <td>0</td>\n      <td>0</td>\n      <td>0</td>\n      <td>0</td>\n      <td>K</td>\n      <td>U</td>\n      <td>180000</td>\n    </tr>\n    <tr>\n      <th>100230</th>\n      <td>102250</td>\n      <td>0</td>\n      <td>1</td>\n      <td>0</td>\n      <td>0</td>\n      <td>0</td>\n      <td>27001</td>\n      <td>27001</td>\n      <td>27001</td>\n      <td>0</td>\n      <td>...</td>\n      <td>N</td>\n      <td>0</td>\n      <td>20141</td>\n      <td>0</td>\n      <td>0</td>\n      <td>0</td>\n      <td>0</td>\n      <td>O</td>\n      <td>U</td>\n      <td>0</td>\n    </tr>\n    <tr>\n      <th>100231</th>\n      <td>102251</td>\n      <td>0</td>\n      <td>0</td>\n      <td>0</td>\n      <td>1</td>\n      <td>1</td>\n      <td>57001</td>\n      <td>0</td>\n      <td>0</td>\n      <td>0</td>\n      <td>...</td>\n      <td>N</td>\n      <td>900000</td>\n      <td>20103</td>\n      <td>0</td>\n      <td>0</td>\n      <td>0</td>\n      <td>0</td>\n      <td>O</td>\n      <td>U</td>\n      <td>540000</td>\n    </tr>\n    <tr>\n      <th>100232</th>\n      <td>102252</td>\n      <td>0</td>\n      <td>1</td>\n      <td>0</td>\n      <td>0</td>\n      <td>0</td>\n      <td>18001</td>\n      <td>18001</td>\n      <td>18001</td>\n      <td>0</td>\n      <td>...</td>\n      <td>N</td>\n      <td>400000</td>\n      <td>20151</td>\n      <td>0</td>\n      <td>0</td>\n      <td>0</td>\n      <td>60000</td>\n      <td>K</td>\n      <td>U</td>\n      <td>180000</td>\n    </tr>\n  </tbody>\n</table>\n<p>100233 rows × 69 columns</p>\n</div>"
     },
     "metadata": {},
     "execution_count": 3
    }
   ],
   "source": [
    "import pandas as pd\n",
    "\n",
    "df = pd.read_csv(r\"C:\\Temp\\Data_set.csv\", encoding='euc-kr')\n",
    "df"
   ]
  },
  {
   "source": [
    "# What is DataFrame?\n",
    "dataframe is a 2-dimensional labeled data structure with columns"
   ],
   "cell_type": "markdown",
   "metadata": {}
  },
  {
   "cell_type": "code",
   "execution_count": 13,
   "metadata": {},
   "outputs": [
    {
     "output_type": "execute_result",
     "data": {
      "text/plain": [
       "   CUST_ID  TARGET  BNK_LNIF_CNT  CPT_LNIF_CNT  SPART_LNIF_CNT  ECT_LNIF_CNT  \\\n",
       "0        1       0             1             0               0             0   \n",
       "1        2       0             1             0               0             0   \n",
       "2        3       0             0             1               3             2   \n",
       "3        4       1             0             2               4             2   \n",
       "4        5       0             4             0               0             0   \n",
       "\n",
       "   TOT_LNIF_AMT  TOT_CLIF_AMT  BNK_LNIF_AMT  CPT_LNIF_AMT  ...  CBPT_MBSP_YN  \\\n",
       "0          9001          9001          9001             0  ...             N   \n",
       "1         24001             0         24001             0  ...             N   \n",
       "2         15001          9001             0          3001  ...             Y   \n",
       "3          6001          3001             0          3001  ...             N   \n",
       "4         21001         15001         21001             0  ...             Y   \n",
       "\n",
       "   MOBL_FATY_PRC  TEL_CNTT_QTR  NUM_DAY_SUSP  CRMM_OVDU_AMT  TLFE_UNPD_CNT  \\\n",
       "0         800000         20111             0              0              0   \n",
       "1         500000         20143             0              0              0   \n",
       "2         500000         20103             0              0              0   \n",
       "3         900000         20144             0         540000              0   \n",
       "4         800000         20131             0         130000              0   \n",
       "\n",
       "  LT1Y_MXOD_AMT  PAYM_METD  LINE_STUS  MOBL_PRIN  \n",
       "0             0          O          U     580000  \n",
       "1             0          O          U      90000  \n",
       "2             0          O          U     120000  \n",
       "3        630000          G          S     320000  \n",
       "4         90000          G          U     410000  \n",
       "\n",
       "[5 rows x 69 columns]"
      ],
      "text/html": "<div>\n<style scoped>\n    .dataframe tbody tr th:only-of-type {\n        vertical-align: middle;\n    }\n\n    .dataframe tbody tr th {\n        vertical-align: top;\n    }\n\n    .dataframe thead th {\n        text-align: right;\n    }\n</style>\n<table border=\"1\" class=\"dataframe\">\n  <thead>\n    <tr style=\"text-align: right;\">\n      <th></th>\n      <th>CUST_ID</th>\n      <th>TARGET</th>\n      <th>BNK_LNIF_CNT</th>\n      <th>CPT_LNIF_CNT</th>\n      <th>SPART_LNIF_CNT</th>\n      <th>ECT_LNIF_CNT</th>\n      <th>TOT_LNIF_AMT</th>\n      <th>TOT_CLIF_AMT</th>\n      <th>BNK_LNIF_AMT</th>\n      <th>CPT_LNIF_AMT</th>\n      <th>...</th>\n      <th>CBPT_MBSP_YN</th>\n      <th>MOBL_FATY_PRC</th>\n      <th>TEL_CNTT_QTR</th>\n      <th>NUM_DAY_SUSP</th>\n      <th>CRMM_OVDU_AMT</th>\n      <th>TLFE_UNPD_CNT</th>\n      <th>LT1Y_MXOD_AMT</th>\n      <th>PAYM_METD</th>\n      <th>LINE_STUS</th>\n      <th>MOBL_PRIN</th>\n    </tr>\n  </thead>\n  <tbody>\n    <tr>\n      <th>0</th>\n      <td>1</td>\n      <td>0</td>\n      <td>1</td>\n      <td>0</td>\n      <td>0</td>\n      <td>0</td>\n      <td>9001</td>\n      <td>9001</td>\n      <td>9001</td>\n      <td>0</td>\n      <td>...</td>\n      <td>N</td>\n      <td>800000</td>\n      <td>20111</td>\n      <td>0</td>\n      <td>0</td>\n      <td>0</td>\n      <td>0</td>\n      <td>O</td>\n      <td>U</td>\n      <td>580000</td>\n    </tr>\n    <tr>\n      <th>1</th>\n      <td>2</td>\n      <td>0</td>\n      <td>1</td>\n      <td>0</td>\n      <td>0</td>\n      <td>0</td>\n      <td>24001</td>\n      <td>0</td>\n      <td>24001</td>\n      <td>0</td>\n      <td>...</td>\n      <td>N</td>\n      <td>500000</td>\n      <td>20143</td>\n      <td>0</td>\n      <td>0</td>\n      <td>0</td>\n      <td>0</td>\n      <td>O</td>\n      <td>U</td>\n      <td>90000</td>\n    </tr>\n    <tr>\n      <th>2</th>\n      <td>3</td>\n      <td>0</td>\n      <td>0</td>\n      <td>1</td>\n      <td>3</td>\n      <td>2</td>\n      <td>15001</td>\n      <td>9001</td>\n      <td>0</td>\n      <td>3001</td>\n      <td>...</td>\n      <td>Y</td>\n      <td>500000</td>\n      <td>20103</td>\n      <td>0</td>\n      <td>0</td>\n      <td>0</td>\n      <td>0</td>\n      <td>O</td>\n      <td>U</td>\n      <td>120000</td>\n    </tr>\n    <tr>\n      <th>3</th>\n      <td>4</td>\n      <td>1</td>\n      <td>0</td>\n      <td>2</td>\n      <td>4</td>\n      <td>2</td>\n      <td>6001</td>\n      <td>3001</td>\n      <td>0</td>\n      <td>3001</td>\n      <td>...</td>\n      <td>N</td>\n      <td>900000</td>\n      <td>20144</td>\n      <td>0</td>\n      <td>540000</td>\n      <td>0</td>\n      <td>630000</td>\n      <td>G</td>\n      <td>S</td>\n      <td>320000</td>\n    </tr>\n    <tr>\n      <th>4</th>\n      <td>5</td>\n      <td>0</td>\n      <td>4</td>\n      <td>0</td>\n      <td>0</td>\n      <td>0</td>\n      <td>21001</td>\n      <td>15001</td>\n      <td>21001</td>\n      <td>0</td>\n      <td>...</td>\n      <td>Y</td>\n      <td>800000</td>\n      <td>20131</td>\n      <td>0</td>\n      <td>130000</td>\n      <td>0</td>\n      <td>90000</td>\n      <td>G</td>\n      <td>U</td>\n      <td>410000</td>\n    </tr>\n  </tbody>\n</table>\n<p>5 rows × 69 columns</p>\n</div>"
     },
     "metadata": {},
     "execution_count": 13
    }
   ],
   "source": [
    "df.head()"
   ]
  },
  {
   "source": [
    "# What is Series?\n",
    "Every single column in dataframe is series"
   ],
   "cell_type": "markdown",
   "metadata": {}
  },
  {
   "cell_type": "code",
   "execution_count": 19,
   "metadata": {},
   "outputs": [
    {
     "output_type": "execute_result",
     "data": {
      "text/plain": [
       "0          9001\n",
       "1         24001\n",
       "2         15001\n",
       "3          6001\n",
       "4         21001\n",
       "          ...  \n",
       "100228    75001\n",
       "100229    54001\n",
       "100230    27001\n",
       "100231    57001\n",
       "100232    18001\n",
       "Name: TOT_LNIF_AMT, Length: 100233, dtype: int64"
      ]
     },
     "metadata": {},
     "execution_count": 19
    }
   ],
   "source": [
    "df[\"TOT_LNIF_AMT\"]\n"
   ]
  },
  {
   "cell_type": "code",
   "execution_count": 7,
   "metadata": {},
   "outputs": [
    {
     "output_type": "execute_result",
     "data": {
      "text/plain": [
       "   CUST_ID  TARGET  BNK_LNIF_CNT  CPT_LNIF_CNT  SPART_LNIF_CNT  ECT_LNIF_CNT  \\\n",
       "0        1       0             1             0               0             0   \n",
       "1        2       0             1             0               0             0   \n",
       "2        3       0             0             1               3             2   \n",
       "3        4       1             0             2               4             2   \n",
       "4        5       0             4             0               0             0   \n",
       "\n",
       "   TOT_LNIF_AMT  TOT_CLIF_AMT  BNK_LNIF_AMT  CPT_LNIF_AMT  ...  CBPT_MBSP_YN  \\\n",
       "0          9001          9001          9001             0  ...             n   \n",
       "1         24001             0         24001             0  ...             n   \n",
       "2         15001          9001             0          3001  ...             y   \n",
       "3          6001          3001             0          3001  ...             n   \n",
       "4         21001         15001         21001             0  ...             y   \n",
       "\n",
       "   MOBL_FATY_PRC  TEL_CNTT_QTR  NUM_DAY_SUSP  CRMM_OVDU_AMT  TLFE_UNPD_CNT  \\\n",
       "0         800000         20111             0              0              0   \n",
       "1         500000         20143             0              0              0   \n",
       "2         500000         20103             0              0              0   \n",
       "3         900000         20144             0         540000              0   \n",
       "4         800000         20131             0         130000              0   \n",
       "\n",
       "  LT1Y_MXOD_AMT  PAYM_METD  LINE_STUS  MOBL_PRIN  \n",
       "0             0          O          U     580000  \n",
       "1             0          O          U      90000  \n",
       "2             0          O          U     120000  \n",
       "3        630000          G          S     320000  \n",
       "4         90000          G          U     410000  \n",
       "\n",
       "[5 rows x 69 columns]"
      ],
      "text/html": "<div>\n<style scoped>\n    .dataframe tbody tr th:only-of-type {\n        vertical-align: middle;\n    }\n\n    .dataframe tbody tr th {\n        vertical-align: top;\n    }\n\n    .dataframe thead th {\n        text-align: right;\n    }\n</style>\n<table border=\"1\" class=\"dataframe\">\n  <thead>\n    <tr style=\"text-align: right;\">\n      <th></th>\n      <th>CUST_ID</th>\n      <th>TARGET</th>\n      <th>BNK_LNIF_CNT</th>\n      <th>CPT_LNIF_CNT</th>\n      <th>SPART_LNIF_CNT</th>\n      <th>ECT_LNIF_CNT</th>\n      <th>TOT_LNIF_AMT</th>\n      <th>TOT_CLIF_AMT</th>\n      <th>BNK_LNIF_AMT</th>\n      <th>CPT_LNIF_AMT</th>\n      <th>...</th>\n      <th>CBPT_MBSP_YN</th>\n      <th>MOBL_FATY_PRC</th>\n      <th>TEL_CNTT_QTR</th>\n      <th>NUM_DAY_SUSP</th>\n      <th>CRMM_OVDU_AMT</th>\n      <th>TLFE_UNPD_CNT</th>\n      <th>LT1Y_MXOD_AMT</th>\n      <th>PAYM_METD</th>\n      <th>LINE_STUS</th>\n      <th>MOBL_PRIN</th>\n    </tr>\n  </thead>\n  <tbody>\n    <tr>\n      <th>0</th>\n      <td>1</td>\n      <td>0</td>\n      <td>1</td>\n      <td>0</td>\n      <td>0</td>\n      <td>0</td>\n      <td>9001</td>\n      <td>9001</td>\n      <td>9001</td>\n      <td>0</td>\n      <td>...</td>\n      <td>n</td>\n      <td>800000</td>\n      <td>20111</td>\n      <td>0</td>\n      <td>0</td>\n      <td>0</td>\n      <td>0</td>\n      <td>O</td>\n      <td>U</td>\n      <td>580000</td>\n    </tr>\n    <tr>\n      <th>1</th>\n      <td>2</td>\n      <td>0</td>\n      <td>1</td>\n      <td>0</td>\n      <td>0</td>\n      <td>0</td>\n      <td>24001</td>\n      <td>0</td>\n      <td>24001</td>\n      <td>0</td>\n      <td>...</td>\n      <td>n</td>\n      <td>500000</td>\n      <td>20143</td>\n      <td>0</td>\n      <td>0</td>\n      <td>0</td>\n      <td>0</td>\n      <td>O</td>\n      <td>U</td>\n      <td>90000</td>\n    </tr>\n    <tr>\n      <th>2</th>\n      <td>3</td>\n      <td>0</td>\n      <td>0</td>\n      <td>1</td>\n      <td>3</td>\n      <td>2</td>\n      <td>15001</td>\n      <td>9001</td>\n      <td>0</td>\n      <td>3001</td>\n      <td>...</td>\n      <td>y</td>\n      <td>500000</td>\n      <td>20103</td>\n      <td>0</td>\n      <td>0</td>\n      <td>0</td>\n      <td>0</td>\n      <td>O</td>\n      <td>U</td>\n      <td>120000</td>\n    </tr>\n    <tr>\n      <th>3</th>\n      <td>4</td>\n      <td>1</td>\n      <td>0</td>\n      <td>2</td>\n      <td>4</td>\n      <td>2</td>\n      <td>6001</td>\n      <td>3001</td>\n      <td>0</td>\n      <td>3001</td>\n      <td>...</td>\n      <td>n</td>\n      <td>900000</td>\n      <td>20144</td>\n      <td>0</td>\n      <td>540000</td>\n      <td>0</td>\n      <td>630000</td>\n      <td>G</td>\n      <td>S</td>\n      <td>320000</td>\n    </tr>\n    <tr>\n      <th>4</th>\n      <td>5</td>\n      <td>0</td>\n      <td>4</td>\n      <td>0</td>\n      <td>0</td>\n      <td>0</td>\n      <td>21001</td>\n      <td>15001</td>\n      <td>21001</td>\n      <td>0</td>\n      <td>...</td>\n      <td>y</td>\n      <td>800000</td>\n      <td>20131</td>\n      <td>0</td>\n      <td>130000</td>\n      <td>0</td>\n      <td>90000</td>\n      <td>G</td>\n      <td>U</td>\n      <td>410000</td>\n    </tr>\n  </tbody>\n</table>\n<p>5 rows × 69 columns</p>\n</div>"
     },
     "metadata": {},
     "execution_count": 7
    }
   ],
   "source": [
    "df.CBPT_MBSP_YN = df.CBPT_MBSP_YN.str.lower()\n",
    "df.head()"
   ]
  },
  {
   "source": [
    "# Why Pandas?\n",
    "\n",
    "Very similar to **Excel spreadsheet** view,  \n",
    "support various functions for data manipulation and analysis.  \n",
    "Fast based on Numpy.\n",
    "Easy to manipulate data for your purpose"
   ],
   "cell_type": "markdown",
   "metadata": {}
  },
  {
   "source": [
    "# Read Data \n",
    "\n",
    "* pd.read_csv('data/friend_list.csv') <br>\n",
    "  Read a comma-separated values (csv) file into DataFrame.\n",
    "\n",
    "* pd.read_excel(filename) <br>\n",
    "  Supports xls, xlsx, xlsm, xlsb, odf, ods and odt file extensions read from a local filesystem or URL. \n",
    "\n",
    "* pd.read_sas(fileame) <br>\n",
    "  Read SAS files stored as either XPORT or SAS7BDAT format files.\n",
    "\n",
    "* pandas.read_sql(sql, conn) <br>\n",
    "  Read SQL database table into a DataFrame\n",
    "\n",
    "  외에도 다양한 데이터를 읽어오는 방법 제공\n",
    " \n",
    "\n"
   ],
   "cell_type": "markdown",
   "metadata": {}
  },
  {
   "source": [
    "# Create DataFrame\n",
    "when you want to create dataframe from your python code"
   ],
   "cell_type": "markdown",
   "metadata": {}
  },
  {
   "cell_type": "code",
   "execution_count": 20,
   "metadata": {},
   "outputs": [
    {
     "output_type": "execute_result",
     "data": {
      "text/plain": [
       "    name  age        job\n",
       "0   Jone   20    student\n",
       "1  Jenny   30  developer\n",
       "2   Nate   30    teacher"
      ],
      "text/html": "<div>\n<style scoped>\n    .dataframe tbody tr th:only-of-type {\n        vertical-align: middle;\n    }\n\n    .dataframe tbody tr th {\n        vertical-align: top;\n    }\n\n    .dataframe thead th {\n        text-align: right;\n    }\n</style>\n<table border=\"1\" class=\"dataframe\">\n  <thead>\n    <tr style=\"text-align: right;\">\n      <th></th>\n      <th>name</th>\n      <th>age</th>\n      <th>job</th>\n    </tr>\n  </thead>\n  <tbody>\n    <tr>\n      <th>0</th>\n      <td>Jone</td>\n      <td>20</td>\n      <td>student</td>\n    </tr>\n    <tr>\n      <th>1</th>\n      <td>Jenny</td>\n      <td>30</td>\n      <td>developer</td>\n    </tr>\n    <tr>\n      <th>2</th>\n      <td>Nate</td>\n      <td>30</td>\n      <td>teacher</td>\n    </tr>\n  </tbody>\n</table>\n</div>"
     },
     "metadata": {},
     "execution_count": 20
    }
   ],
   "source": [
    "friend_dict_list = [{'name': 'Jone', 'age': 20, 'job': 'student'},\n",
    "         {'name': 'Jenny', 'age': 30, 'job': 'developer'},\n",
    "         {'name': 'Nate', 'age': 30, 'job': 'teacher'}]\n",
    "df1 = pd.DataFrame(friend_dict_list)\n",
    "df1"
   ]
  },
  {
   "source": [
    "if you need fixed column order, you can adjust column order like below,"
   ],
   "cell_type": "markdown",
   "metadata": {}
  },
  {
   "cell_type": "code",
   "execution_count": 25,
   "metadata": {},
   "outputs": [
    {
     "output_type": "execute_result",
     "data": {
      "text/plain": [
       "    name        job\n",
       "1  Jenny  developer"
      ],
      "text/html": "<div>\n<style scoped>\n    .dataframe tbody tr th:only-of-type {\n        vertical-align: middle;\n    }\n\n    .dataframe tbody tr th {\n        vertical-align: top;\n    }\n\n    .dataframe thead th {\n        text-align: right;\n    }\n</style>\n<table border=\"1\" class=\"dataframe\">\n  <thead>\n    <tr style=\"text-align: right;\">\n      <th></th>\n      <th>name</th>\n      <th>job</th>\n    </tr>\n  </thead>\n  <tbody>\n    <tr>\n      <th>1</th>\n      <td>Jenny</td>\n      <td>developer</td>\n    </tr>\n  </tbody>\n</table>\n</div>"
     },
     "metadata": {},
     "execution_count": 25
    }
   ],
   "source": [
    "df1 = df1[ ['name', 'job']]\n",
    "df1"
   ]
  },
  {
   "source": [
    "## from list"
   ],
   "cell_type": "markdown",
   "metadata": {}
  },
  {
   "cell_type": "code",
   "execution_count": 53,
   "metadata": {},
   "outputs": [
    {
     "output_type": "execute_result",
     "data": {
      "text/plain": [
       "    name  age        job\n",
       "0   John   20    student\n",
       "1  Jenny   30  developer\n",
       "2   Nate   30    teacher"
      ],
      "text/html": "<div>\n<style scoped>\n    .dataframe tbody tr th:only-of-type {\n        vertical-align: middle;\n    }\n\n    .dataframe tbody tr th {\n        vertical-align: top;\n    }\n\n    .dataframe thead th {\n        text-align: right;\n    }\n</style>\n<table border=\"1\" class=\"dataframe\">\n  <thead>\n    <tr style=\"text-align: right;\">\n      <th></th>\n      <th>name</th>\n      <th>age</th>\n      <th>job</th>\n    </tr>\n  </thead>\n  <tbody>\n    <tr>\n      <th>0</th>\n      <td>John</td>\n      <td>20</td>\n      <td>student</td>\n    </tr>\n    <tr>\n      <th>1</th>\n      <td>Jenny</td>\n      <td>30</td>\n      <td>developer</td>\n    </tr>\n    <tr>\n      <th>2</th>\n      <td>Nate</td>\n      <td>30</td>\n      <td>teacher</td>\n    </tr>\n  </tbody>\n</table>\n</div>"
     },
     "metadata": {},
     "execution_count": 53
    }
   ],
   "source": [
    "friend_list = [ ['John', 20, 'student'],['Jenny', 30, 'developer'],['Nate', 30, 'teacher'] ]\n",
    "column_name = ['name', 'age', 'job']\n",
    "df1 = pd.DataFrame.from_records(friend_list, columns=column_name)\n",
    "df1"
   ]
  },
  {
   "source": [
    "# Write DataFrame to File"
   ],
   "cell_type": "markdown",
   "metadata": {}
  },
  {
   "cell_type": "code",
   "execution_count": 20,
   "metadata": {},
   "outputs": [],
   "source": [
    "df.to_csv(r'c:\\temp\\loan.csv')\n"
   ]
  },
  {
   "cell_type": "code",
   "execution_count": 5,
   "metadata": {},
   "outputs": [],
   "source": [
    "#pip install xlsxwriter\n",
    "#but slow\n",
    "\n",
    "df.to_excel(r'c:\\temp\\loan.xlsx', engine='xlsxwriter')"
   ]
  },
  {
   "source": [
    "# select rows \n"
   ],
   "cell_type": "markdown",
   "metadata": {}
  },
  {
   "cell_type": "code",
   "execution_count": 27,
   "metadata": {},
   "outputs": [
    {
     "output_type": "execute_result",
     "data": {
      "text/plain": [
       "     CUST_ID  TARGET  BNK_LNIF_CNT  CPT_LNIF_CNT  SPART_LNIF_CNT  \\\n",
       "100      102       0             2             0               0   \n",
       "101      103       0             1             1               1   \n",
       "102      104       0             1             0               0   \n",
       "103      105       0             2             2               2   \n",
       "104      106       0             1             0               0   \n",
       "..       ...     ...           ...           ...             ...   \n",
       "195      198       0             1             0               0   \n",
       "196      199       1             1             2               2   \n",
       "197      200       0             1             0               0   \n",
       "198      201       0             0             2               4   \n",
       "199      202       0             3             0               0   \n",
       "\n",
       "     ECT_LNIF_CNT  TOT_LNIF_AMT  TOT_CLIF_AMT  BNK_LNIF_AMT  CPT_LNIF_AMT  \\\n",
       "100             0         66001         66001         66001             0   \n",
       "101             0         30001             0         27001          3001   \n",
       "102             0         87001             0         87001             0   \n",
       "103             0         66001         12001         42001         24001   \n",
       "104             0             1             1             1             0   \n",
       "..            ...           ...           ...           ...           ...   \n",
       "195             0         33001             0         33001             0   \n",
       "196             0         18001          9001          9001          6001   \n",
       "197             0         15001             0         15001             0   \n",
       "198             2         36001         27001             0         18001   \n",
       "199             0        468001         45001        468001             0   \n",
       "\n",
       "     ...  CBPT_MBSP_YN  MOBL_FATY_PRC  TEL_CNTT_QTR  NUM_DAY_SUSP  \\\n",
       "100  ...             N              0         20131             4   \n",
       "101  ...             Y         300000         20123             0   \n",
       "102  ...             N         900000         20124             0   \n",
       "103  ...             Y              0         20134            46   \n",
       "104  ...             Y         700000         20143             0   \n",
       "..   ...           ...            ...           ...           ...   \n",
       "195  ...             Y         600000         20143             0   \n",
       "196  ...             N              0         20132             0   \n",
       "197  ...             Y        1000000         20141             0   \n",
       "198  ...             N         900000         20094             0   \n",
       "199  ...             N              0         20134             0   \n",
       "\n",
       "     CRMM_OVDU_AMT  TLFE_UNPD_CNT LT1Y_MXOD_AMT  PAYM_METD  LINE_STUS  \\\n",
       "100              0              0             0          K          U   \n",
       "101          50000              2         50000          O          U   \n",
       "102              0              0             0          O          U   \n",
       "103              0              0             0          K          U   \n",
       "104              0              0             0          O          U   \n",
       "..             ...            ...           ...        ...        ...   \n",
       "195              0              0             0          O          U   \n",
       "196              0              0             0          K          U   \n",
       "197              0              0             0          O          U   \n",
       "198              0              0             0          K          U   \n",
       "199              0              0             0        NaN          U   \n",
       "\n",
       "     MOBL_PRIN  \n",
       "100      40000  \n",
       "101          0  \n",
       "102     410000  \n",
       "103          0  \n",
       "104     330000  \n",
       "..         ...  \n",
       "195     220000  \n",
       "196     200000  \n",
       "197     130000  \n",
       "198     780000  \n",
       "199     130000  \n",
       "\n",
       "[100 rows x 69 columns]"
      ],
      "text/html": "<div>\n<style scoped>\n    .dataframe tbody tr th:only-of-type {\n        vertical-align: middle;\n    }\n\n    .dataframe tbody tr th {\n        vertical-align: top;\n    }\n\n    .dataframe thead th {\n        text-align: right;\n    }\n</style>\n<table border=\"1\" class=\"dataframe\">\n  <thead>\n    <tr style=\"text-align: right;\">\n      <th></th>\n      <th>CUST_ID</th>\n      <th>TARGET</th>\n      <th>BNK_LNIF_CNT</th>\n      <th>CPT_LNIF_CNT</th>\n      <th>SPART_LNIF_CNT</th>\n      <th>ECT_LNIF_CNT</th>\n      <th>TOT_LNIF_AMT</th>\n      <th>TOT_CLIF_AMT</th>\n      <th>BNK_LNIF_AMT</th>\n      <th>CPT_LNIF_AMT</th>\n      <th>...</th>\n      <th>CBPT_MBSP_YN</th>\n      <th>MOBL_FATY_PRC</th>\n      <th>TEL_CNTT_QTR</th>\n      <th>NUM_DAY_SUSP</th>\n      <th>CRMM_OVDU_AMT</th>\n      <th>TLFE_UNPD_CNT</th>\n      <th>LT1Y_MXOD_AMT</th>\n      <th>PAYM_METD</th>\n      <th>LINE_STUS</th>\n      <th>MOBL_PRIN</th>\n    </tr>\n  </thead>\n  <tbody>\n    <tr>\n      <th>100</th>\n      <td>102</td>\n      <td>0</td>\n      <td>2</td>\n      <td>0</td>\n      <td>0</td>\n      <td>0</td>\n      <td>66001</td>\n      <td>66001</td>\n      <td>66001</td>\n      <td>0</td>\n      <td>...</td>\n      <td>N</td>\n      <td>0</td>\n      <td>20131</td>\n      <td>4</td>\n      <td>0</td>\n      <td>0</td>\n      <td>0</td>\n      <td>K</td>\n      <td>U</td>\n      <td>40000</td>\n    </tr>\n    <tr>\n      <th>101</th>\n      <td>103</td>\n      <td>0</td>\n      <td>1</td>\n      <td>1</td>\n      <td>1</td>\n      <td>0</td>\n      <td>30001</td>\n      <td>0</td>\n      <td>27001</td>\n      <td>3001</td>\n      <td>...</td>\n      <td>Y</td>\n      <td>300000</td>\n      <td>20123</td>\n      <td>0</td>\n      <td>50000</td>\n      <td>2</td>\n      <td>50000</td>\n      <td>O</td>\n      <td>U</td>\n      <td>0</td>\n    </tr>\n    <tr>\n      <th>102</th>\n      <td>104</td>\n      <td>0</td>\n      <td>1</td>\n      <td>0</td>\n      <td>0</td>\n      <td>0</td>\n      <td>87001</td>\n      <td>0</td>\n      <td>87001</td>\n      <td>0</td>\n      <td>...</td>\n      <td>N</td>\n      <td>900000</td>\n      <td>20124</td>\n      <td>0</td>\n      <td>0</td>\n      <td>0</td>\n      <td>0</td>\n      <td>O</td>\n      <td>U</td>\n      <td>410000</td>\n    </tr>\n    <tr>\n      <th>103</th>\n      <td>105</td>\n      <td>0</td>\n      <td>2</td>\n      <td>2</td>\n      <td>2</td>\n      <td>0</td>\n      <td>66001</td>\n      <td>12001</td>\n      <td>42001</td>\n      <td>24001</td>\n      <td>...</td>\n      <td>Y</td>\n      <td>0</td>\n      <td>20134</td>\n      <td>46</td>\n      <td>0</td>\n      <td>0</td>\n      <td>0</td>\n      <td>K</td>\n      <td>U</td>\n      <td>0</td>\n    </tr>\n    <tr>\n      <th>104</th>\n      <td>106</td>\n      <td>0</td>\n      <td>1</td>\n      <td>0</td>\n      <td>0</td>\n      <td>0</td>\n      <td>1</td>\n      <td>1</td>\n      <td>1</td>\n      <td>0</td>\n      <td>...</td>\n      <td>Y</td>\n      <td>700000</td>\n      <td>20143</td>\n      <td>0</td>\n      <td>0</td>\n      <td>0</td>\n      <td>0</td>\n      <td>O</td>\n      <td>U</td>\n      <td>330000</td>\n    </tr>\n    <tr>\n      <th>...</th>\n      <td>...</td>\n      <td>...</td>\n      <td>...</td>\n      <td>...</td>\n      <td>...</td>\n      <td>...</td>\n      <td>...</td>\n      <td>...</td>\n      <td>...</td>\n      <td>...</td>\n      <td>...</td>\n      <td>...</td>\n      <td>...</td>\n      <td>...</td>\n      <td>...</td>\n      <td>...</td>\n      <td>...</td>\n      <td>...</td>\n      <td>...</td>\n      <td>...</td>\n      <td>...</td>\n    </tr>\n    <tr>\n      <th>195</th>\n      <td>198</td>\n      <td>0</td>\n      <td>1</td>\n      <td>0</td>\n      <td>0</td>\n      <td>0</td>\n      <td>33001</td>\n      <td>0</td>\n      <td>33001</td>\n      <td>0</td>\n      <td>...</td>\n      <td>Y</td>\n      <td>600000</td>\n      <td>20143</td>\n      <td>0</td>\n      <td>0</td>\n      <td>0</td>\n      <td>0</td>\n      <td>O</td>\n      <td>U</td>\n      <td>220000</td>\n    </tr>\n    <tr>\n      <th>196</th>\n      <td>199</td>\n      <td>1</td>\n      <td>1</td>\n      <td>2</td>\n      <td>2</td>\n      <td>0</td>\n      <td>18001</td>\n      <td>9001</td>\n      <td>9001</td>\n      <td>6001</td>\n      <td>...</td>\n      <td>N</td>\n      <td>0</td>\n      <td>20132</td>\n      <td>0</td>\n      <td>0</td>\n      <td>0</td>\n      <td>0</td>\n      <td>K</td>\n      <td>U</td>\n      <td>200000</td>\n    </tr>\n    <tr>\n      <th>197</th>\n      <td>200</td>\n      <td>0</td>\n      <td>1</td>\n      <td>0</td>\n      <td>0</td>\n      <td>0</td>\n      <td>15001</td>\n      <td>0</td>\n      <td>15001</td>\n      <td>0</td>\n      <td>...</td>\n      <td>Y</td>\n      <td>1000000</td>\n      <td>20141</td>\n      <td>0</td>\n      <td>0</td>\n      <td>0</td>\n      <td>0</td>\n      <td>O</td>\n      <td>U</td>\n      <td>130000</td>\n    </tr>\n    <tr>\n      <th>198</th>\n      <td>201</td>\n      <td>0</td>\n      <td>0</td>\n      <td>2</td>\n      <td>4</td>\n      <td>2</td>\n      <td>36001</td>\n      <td>27001</td>\n      <td>0</td>\n      <td>18001</td>\n      <td>...</td>\n      <td>N</td>\n      <td>900000</td>\n      <td>20094</td>\n      <td>0</td>\n      <td>0</td>\n      <td>0</td>\n      <td>0</td>\n      <td>K</td>\n      <td>U</td>\n      <td>780000</td>\n    </tr>\n    <tr>\n      <th>199</th>\n      <td>202</td>\n      <td>0</td>\n      <td>3</td>\n      <td>0</td>\n      <td>0</td>\n      <td>0</td>\n      <td>468001</td>\n      <td>45001</td>\n      <td>468001</td>\n      <td>0</td>\n      <td>...</td>\n      <td>N</td>\n      <td>0</td>\n      <td>20134</td>\n      <td>0</td>\n      <td>0</td>\n      <td>0</td>\n      <td>0</td>\n      <td>NaN</td>\n      <td>U</td>\n      <td>130000</td>\n    </tr>\n  </tbody>\n</table>\n<p>100 rows × 69 columns</p>\n</div>"
     },
     "metadata": {},
     "execution_count": 27
    }
   ],
   "source": [
    "# select rows from index 1 to index 2\n",
    "\n",
    "df[100:200]"
   ]
  },
  {
   "cell_type": "code",
   "execution_count": 30,
   "metadata": {},
   "outputs": [
    {
     "output_type": "execute_result",
     "data": {
      "text/plain": [
       "   CUST_ID  TARGET  BNK_LNIF_CNT  CPT_LNIF_CNT  SPART_LNIF_CNT  ECT_LNIF_CNT  \\\n",
       "0        1       0             1             0               0             0   \n",
       "2        3       0             0             1               3             2   \n",
       "4        5       0             4             0               0             0   \n",
       "6        7       0             0             1               2             1   \n",
       "8        9       0             2             0               0             0   \n",
       "\n",
       "   TOT_LNIF_AMT  TOT_CLIF_AMT  BNK_LNIF_AMT  CPT_LNIF_AMT  ...  CBPT_MBSP_YN  \\\n",
       "0          9001          9001          9001             0  ...             N   \n",
       "2         15001          9001             0          3001  ...             Y   \n",
       "4         21001         15001         21001             0  ...             Y   \n",
       "6         12001          3001             0          9001  ...             N   \n",
       "8        273001        273001        273001             0  ...             Y   \n",
       "\n",
       "   MOBL_FATY_PRC  TEL_CNTT_QTR  NUM_DAY_SUSP  CRMM_OVDU_AMT  TLFE_UNPD_CNT  \\\n",
       "0         800000         20111             0              0              0   \n",
       "2         500000         20103             0              0              0   \n",
       "4         800000         20131             0         130000              0   \n",
       "6         900000         20143             0         120000              0   \n",
       "8              0         20131             0              0              0   \n",
       "\n",
       "  LT1Y_MXOD_AMT  PAYM_METD  LINE_STUS  MOBL_PRIN  \n",
       "0             0          O          U     580000  \n",
       "2             0          O          U     120000  \n",
       "4         90000          G          U     410000  \n",
       "6        290000          G          U     720000  \n",
       "8             0          O          U          0  \n",
       "\n",
       "[5 rows x 69 columns]"
      ],
      "text/html": "<div>\n<style scoped>\n    .dataframe tbody tr th:only-of-type {\n        vertical-align: middle;\n    }\n\n    .dataframe tbody tr th {\n        vertical-align: top;\n    }\n\n    .dataframe thead th {\n        text-align: right;\n    }\n</style>\n<table border=\"1\" class=\"dataframe\">\n  <thead>\n    <tr style=\"text-align: right;\">\n      <th></th>\n      <th>CUST_ID</th>\n      <th>TARGET</th>\n      <th>BNK_LNIF_CNT</th>\n      <th>CPT_LNIF_CNT</th>\n      <th>SPART_LNIF_CNT</th>\n      <th>ECT_LNIF_CNT</th>\n      <th>TOT_LNIF_AMT</th>\n      <th>TOT_CLIF_AMT</th>\n      <th>BNK_LNIF_AMT</th>\n      <th>CPT_LNIF_AMT</th>\n      <th>...</th>\n      <th>CBPT_MBSP_YN</th>\n      <th>MOBL_FATY_PRC</th>\n      <th>TEL_CNTT_QTR</th>\n      <th>NUM_DAY_SUSP</th>\n      <th>CRMM_OVDU_AMT</th>\n      <th>TLFE_UNPD_CNT</th>\n      <th>LT1Y_MXOD_AMT</th>\n      <th>PAYM_METD</th>\n      <th>LINE_STUS</th>\n      <th>MOBL_PRIN</th>\n    </tr>\n  </thead>\n  <tbody>\n    <tr>\n      <th>0</th>\n      <td>1</td>\n      <td>0</td>\n      <td>1</td>\n      <td>0</td>\n      <td>0</td>\n      <td>0</td>\n      <td>9001</td>\n      <td>9001</td>\n      <td>9001</td>\n      <td>0</td>\n      <td>...</td>\n      <td>N</td>\n      <td>800000</td>\n      <td>20111</td>\n      <td>0</td>\n      <td>0</td>\n      <td>0</td>\n      <td>0</td>\n      <td>O</td>\n      <td>U</td>\n      <td>580000</td>\n    </tr>\n    <tr>\n      <th>2</th>\n      <td>3</td>\n      <td>0</td>\n      <td>0</td>\n      <td>1</td>\n      <td>3</td>\n      <td>2</td>\n      <td>15001</td>\n      <td>9001</td>\n      <td>0</td>\n      <td>3001</td>\n      <td>...</td>\n      <td>Y</td>\n      <td>500000</td>\n      <td>20103</td>\n      <td>0</td>\n      <td>0</td>\n      <td>0</td>\n      <td>0</td>\n      <td>O</td>\n      <td>U</td>\n      <td>120000</td>\n    </tr>\n    <tr>\n      <th>4</th>\n      <td>5</td>\n      <td>0</td>\n      <td>4</td>\n      <td>0</td>\n      <td>0</td>\n      <td>0</td>\n      <td>21001</td>\n      <td>15001</td>\n      <td>21001</td>\n      <td>0</td>\n      <td>...</td>\n      <td>Y</td>\n      <td>800000</td>\n      <td>20131</td>\n      <td>0</td>\n      <td>130000</td>\n      <td>0</td>\n      <td>90000</td>\n      <td>G</td>\n      <td>U</td>\n      <td>410000</td>\n    </tr>\n    <tr>\n      <th>6</th>\n      <td>7</td>\n      <td>0</td>\n      <td>0</td>\n      <td>1</td>\n      <td>2</td>\n      <td>1</td>\n      <td>12001</td>\n      <td>3001</td>\n      <td>0</td>\n      <td>9001</td>\n      <td>...</td>\n      <td>N</td>\n      <td>900000</td>\n      <td>20143</td>\n      <td>0</td>\n      <td>120000</td>\n      <td>0</td>\n      <td>290000</td>\n      <td>G</td>\n      <td>U</td>\n      <td>720000</td>\n    </tr>\n    <tr>\n      <th>8</th>\n      <td>9</td>\n      <td>0</td>\n      <td>2</td>\n      <td>0</td>\n      <td>0</td>\n      <td>0</td>\n      <td>273001</td>\n      <td>273001</td>\n      <td>273001</td>\n      <td>0</td>\n      <td>...</td>\n      <td>Y</td>\n      <td>0</td>\n      <td>20131</td>\n      <td>0</td>\n      <td>0</td>\n      <td>0</td>\n      <td>0</td>\n      <td>O</td>\n      <td>U</td>\n      <td>0</td>\n    </tr>\n  </tbody>\n</table>\n<p>5 rows × 69 columns</p>\n</div>"
     },
     "metadata": {},
     "execution_count": 30
    }
   ],
   "source": [
    "df[0:10:2]"
   ]
  },
  {
   "cell_type": "code",
   "execution_count": 9,
   "metadata": {},
   "outputs": [
    {
     "output_type": "execute_result",
     "data": {
      "text/plain": [
       "     CUST_ID  TARGET  BNK_LNIF_CNT  CPT_LNIF_CNT  SPART_LNIF_CNT  \\\n",
       "0          1       0             1             0               0   \n",
       "50        51       0             1             0               1   \n",
       "100      102       0             2             0               0   \n",
       "\n",
       "     ECT_LNIF_CNT  TOT_LNIF_AMT  TOT_CLIF_AMT  BNK_LNIF_AMT  CPT_LNIF_AMT  \\\n",
       "0               0          9001          9001          9001             0   \n",
       "50              1         84001          9001         75001             0   \n",
       "100             0         66001         66001         66001             0   \n",
       "\n",
       "     ...  CBPT_MBSP_YN  MOBL_FATY_PRC  TEL_CNTT_QTR  NUM_DAY_SUSP  \\\n",
       "0    ...             N         800000         20111             0   \n",
       "50   ...             N         900000         19993             0   \n",
       "100  ...             N              0         20131             4   \n",
       "\n",
       "     CRMM_OVDU_AMT  TLFE_UNPD_CNT LT1Y_MXOD_AMT  PAYM_METD  LINE_STUS  \\\n",
       "0                0              0             0          O          U   \n",
       "50               0              0             0          G          U   \n",
       "100              0              0             0          K          U   \n",
       "\n",
       "     MOBL_PRIN  \n",
       "0       580000  \n",
       "50           0  \n",
       "100      40000  \n",
       "\n",
       "[3 rows x 69 columns]"
      ],
      "text/html": "<div>\n<style scoped>\n    .dataframe tbody tr th:only-of-type {\n        vertical-align: middle;\n    }\n\n    .dataframe tbody tr th {\n        vertical-align: top;\n    }\n\n    .dataframe thead th {\n        text-align: right;\n    }\n</style>\n<table border=\"1\" class=\"dataframe\">\n  <thead>\n    <tr style=\"text-align: right;\">\n      <th></th>\n      <th>CUST_ID</th>\n      <th>TARGET</th>\n      <th>BNK_LNIF_CNT</th>\n      <th>CPT_LNIF_CNT</th>\n      <th>SPART_LNIF_CNT</th>\n      <th>ECT_LNIF_CNT</th>\n      <th>TOT_LNIF_AMT</th>\n      <th>TOT_CLIF_AMT</th>\n      <th>BNK_LNIF_AMT</th>\n      <th>CPT_LNIF_AMT</th>\n      <th>...</th>\n      <th>CBPT_MBSP_YN</th>\n      <th>MOBL_FATY_PRC</th>\n      <th>TEL_CNTT_QTR</th>\n      <th>NUM_DAY_SUSP</th>\n      <th>CRMM_OVDU_AMT</th>\n      <th>TLFE_UNPD_CNT</th>\n      <th>LT1Y_MXOD_AMT</th>\n      <th>PAYM_METD</th>\n      <th>LINE_STUS</th>\n      <th>MOBL_PRIN</th>\n    </tr>\n  </thead>\n  <tbody>\n    <tr>\n      <th>0</th>\n      <td>1</td>\n      <td>0</td>\n      <td>1</td>\n      <td>0</td>\n      <td>0</td>\n      <td>0</td>\n      <td>9001</td>\n      <td>9001</td>\n      <td>9001</td>\n      <td>0</td>\n      <td>...</td>\n      <td>N</td>\n      <td>800000</td>\n      <td>20111</td>\n      <td>0</td>\n      <td>0</td>\n      <td>0</td>\n      <td>0</td>\n      <td>O</td>\n      <td>U</td>\n      <td>580000</td>\n    </tr>\n    <tr>\n      <th>50</th>\n      <td>51</td>\n      <td>0</td>\n      <td>1</td>\n      <td>0</td>\n      <td>1</td>\n      <td>1</td>\n      <td>84001</td>\n      <td>9001</td>\n      <td>75001</td>\n      <td>0</td>\n      <td>...</td>\n      <td>N</td>\n      <td>900000</td>\n      <td>19993</td>\n      <td>0</td>\n      <td>0</td>\n      <td>0</td>\n      <td>0</td>\n      <td>G</td>\n      <td>U</td>\n      <td>0</td>\n    </tr>\n    <tr>\n      <th>100</th>\n      <td>102</td>\n      <td>0</td>\n      <td>2</td>\n      <td>0</td>\n      <td>0</td>\n      <td>0</td>\n      <td>66001</td>\n      <td>66001</td>\n      <td>66001</td>\n      <td>0</td>\n      <td>...</td>\n      <td>N</td>\n      <td>0</td>\n      <td>20131</td>\n      <td>4</td>\n      <td>0</td>\n      <td>0</td>\n      <td>0</td>\n      <td>K</td>\n      <td>U</td>\n      <td>40000</td>\n    </tr>\n  </tbody>\n</table>\n<p>3 rows × 69 columns</p>\n</div>"
     },
     "metadata": {},
     "execution_count": 9
    }
   ],
   "source": [
    "# select row index 0 and index 50 and 100\n",
    "\n",
    "df.loc[[0,50,100]]"
   ]
  },
  {
   "cell_type": "code",
   "execution_count": 32,
   "metadata": {},
   "outputs": [
    {
     "output_type": "execute_result",
     "data": {
      "text/plain": [
       "    CUST_ID  TARGET  BNK_LNIF_CNT  CPT_LNIF_CNT  SPART_LNIF_CNT  ECT_LNIF_CNT  \\\n",
       "3         4       1             0             2               4             2   \n",
       "10       11       1             0             3               5             2   \n",
       "36       37       1             0             1               2             1   \n",
       "46       47       1             0             1               2             1   \n",
       "75       76       1             0             1               2             1   \n",
       "\n",
       "    TOT_LNIF_AMT  TOT_CLIF_AMT  BNK_LNIF_AMT  CPT_LNIF_AMT  ...  CBPT_MBSP_YN  \\\n",
       "3           6001          3001             0          3001  ...             N   \n",
       "10         27001         27001             0         18001  ...             N   \n",
       "36          3001          3001             0             1  ...             N   \n",
       "46          3001          3001             0             1  ...             N   \n",
       "75             1             1             0             1  ...             N   \n",
       "\n",
       "    MOBL_FATY_PRC  TEL_CNTT_QTR  NUM_DAY_SUSP  CRMM_OVDU_AMT  TLFE_UNPD_CNT  \\\n",
       "3          900000         20144             0         540000              0   \n",
       "10         900000         20062             0              0              0   \n",
       "36         900000         20123             0         120000              0   \n",
       "46              0         20132             0          50000              0   \n",
       "75              0         20102             8              0              0   \n",
       "\n",
       "   LT1Y_MXOD_AMT  PAYM_METD  LINE_STUS  MOBL_PRIN  \n",
       "3         630000          G          S     320000  \n",
       "10             0          R          U     470000  \n",
       "36        490000          G          U     460000  \n",
       "46             0          O          U          0  \n",
       "75             0          G          U     110000  \n",
       "\n",
       "[5 rows x 69 columns]"
      ],
      "text/html": "<div>\n<style scoped>\n    .dataframe tbody tr th:only-of-type {\n        vertical-align: middle;\n    }\n\n    .dataframe tbody tr th {\n        vertical-align: top;\n    }\n\n    .dataframe thead th {\n        text-align: right;\n    }\n</style>\n<table border=\"1\" class=\"dataframe\">\n  <thead>\n    <tr style=\"text-align: right;\">\n      <th></th>\n      <th>CUST_ID</th>\n      <th>TARGET</th>\n      <th>BNK_LNIF_CNT</th>\n      <th>CPT_LNIF_CNT</th>\n      <th>SPART_LNIF_CNT</th>\n      <th>ECT_LNIF_CNT</th>\n      <th>TOT_LNIF_AMT</th>\n      <th>TOT_CLIF_AMT</th>\n      <th>BNK_LNIF_AMT</th>\n      <th>CPT_LNIF_AMT</th>\n      <th>...</th>\n      <th>CBPT_MBSP_YN</th>\n      <th>MOBL_FATY_PRC</th>\n      <th>TEL_CNTT_QTR</th>\n      <th>NUM_DAY_SUSP</th>\n      <th>CRMM_OVDU_AMT</th>\n      <th>TLFE_UNPD_CNT</th>\n      <th>LT1Y_MXOD_AMT</th>\n      <th>PAYM_METD</th>\n      <th>LINE_STUS</th>\n      <th>MOBL_PRIN</th>\n    </tr>\n  </thead>\n  <tbody>\n    <tr>\n      <th>3</th>\n      <td>4</td>\n      <td>1</td>\n      <td>0</td>\n      <td>2</td>\n      <td>4</td>\n      <td>2</td>\n      <td>6001</td>\n      <td>3001</td>\n      <td>0</td>\n      <td>3001</td>\n      <td>...</td>\n      <td>N</td>\n      <td>900000</td>\n      <td>20144</td>\n      <td>0</td>\n      <td>540000</td>\n      <td>0</td>\n      <td>630000</td>\n      <td>G</td>\n      <td>S</td>\n      <td>320000</td>\n    </tr>\n    <tr>\n      <th>10</th>\n      <td>11</td>\n      <td>1</td>\n      <td>0</td>\n      <td>3</td>\n      <td>5</td>\n      <td>2</td>\n      <td>27001</td>\n      <td>27001</td>\n      <td>0</td>\n      <td>18001</td>\n      <td>...</td>\n      <td>N</td>\n      <td>900000</td>\n      <td>20062</td>\n      <td>0</td>\n      <td>0</td>\n      <td>0</td>\n      <td>0</td>\n      <td>R</td>\n      <td>U</td>\n      <td>470000</td>\n    </tr>\n    <tr>\n      <th>36</th>\n      <td>37</td>\n      <td>1</td>\n      <td>0</td>\n      <td>1</td>\n      <td>2</td>\n      <td>1</td>\n      <td>3001</td>\n      <td>3001</td>\n      <td>0</td>\n      <td>1</td>\n      <td>...</td>\n      <td>N</td>\n      <td>900000</td>\n      <td>20123</td>\n      <td>0</td>\n      <td>120000</td>\n      <td>0</td>\n      <td>490000</td>\n      <td>G</td>\n      <td>U</td>\n      <td>460000</td>\n    </tr>\n    <tr>\n      <th>46</th>\n      <td>47</td>\n      <td>1</td>\n      <td>0</td>\n      <td>1</td>\n      <td>2</td>\n      <td>1</td>\n      <td>3001</td>\n      <td>3001</td>\n      <td>0</td>\n      <td>1</td>\n      <td>...</td>\n      <td>N</td>\n      <td>0</td>\n      <td>20132</td>\n      <td>0</td>\n      <td>50000</td>\n      <td>0</td>\n      <td>0</td>\n      <td>O</td>\n      <td>U</td>\n      <td>0</td>\n    </tr>\n    <tr>\n      <th>75</th>\n      <td>76</td>\n      <td>1</td>\n      <td>0</td>\n      <td>1</td>\n      <td>2</td>\n      <td>1</td>\n      <td>1</td>\n      <td>1</td>\n      <td>0</td>\n      <td>1</td>\n      <td>...</td>\n      <td>N</td>\n      <td>0</td>\n      <td>20102</td>\n      <td>8</td>\n      <td>0</td>\n      <td>0</td>\n      <td>0</td>\n      <td>G</td>\n      <td>U</td>\n      <td>110000</td>\n    </tr>\n  </tbody>\n</table>\n<p>5 rows × 69 columns</p>\n</div>"
     },
     "metadata": {},
     "execution_count": 32
    }
   ],
   "source": [
    "# by column condition\n",
    "\n",
    "df_filtered = df[df.TARGET == 1]\n",
    "df_filtered.head()"
   ]
  },
  {
   "cell_type": "code",
   "execution_count": 34,
   "metadata": {},
   "outputs": [
    {
     "output_type": "execute_result",
     "data": {
      "text/plain": [
       "    CUST_ID  TARGET  BNK_LNIF_CNT  CPT_LNIF_CNT  SPART_LNIF_CNT  ECT_LNIF_CNT  \\\n",
       "1         2       0             1             0               0             0   \n",
       "4         5       0             4             0               0             0   \n",
       "5         6       0             1             0               1             1   \n",
       "8         9       0             2             0               0             0   \n",
       "10       11       1             0             3               5             2   \n",
       "\n",
       "    TOT_LNIF_AMT  TOT_CLIF_AMT  BNK_LNIF_AMT  CPT_LNIF_AMT  ...  CBPT_MBSP_YN  \\\n",
       "1          24001             0         24001             0  ...             N   \n",
       "4          21001         15001         21001             0  ...             Y   \n",
       "5         141001         27001        111001             0  ...             N   \n",
       "8         273001        273001        273001             0  ...             Y   \n",
       "10         27001         27001             0         18001  ...             N   \n",
       "\n",
       "    MOBL_FATY_PRC  TEL_CNTT_QTR  NUM_DAY_SUSP  CRMM_OVDU_AMT  TLFE_UNPD_CNT  \\\n",
       "1          500000         20143             0              0              0   \n",
       "4          800000         20131             0         130000              0   \n",
       "5          400000         20154             0              0              0   \n",
       "8               0         20131             0              0              0   \n",
       "10         900000         20062             0              0              0   \n",
       "\n",
       "   LT1Y_MXOD_AMT  PAYM_METD  LINE_STUS  MOBL_PRIN  \n",
       "1              0          O          U      90000  \n",
       "4          90000          G          U     410000  \n",
       "5              0          O          U     170000  \n",
       "8              0          O          U          0  \n",
       "10             0          R          U     470000  \n",
       "\n",
       "[5 rows x 69 columns]"
      ],
      "text/html": "<div>\n<style scoped>\n    .dataframe tbody tr th:only-of-type {\n        vertical-align: middle;\n    }\n\n    .dataframe tbody tr th {\n        vertical-align: top;\n    }\n\n    .dataframe thead th {\n        text-align: right;\n    }\n</style>\n<table border=\"1\" class=\"dataframe\">\n  <thead>\n    <tr style=\"text-align: right;\">\n      <th></th>\n      <th>CUST_ID</th>\n      <th>TARGET</th>\n      <th>BNK_LNIF_CNT</th>\n      <th>CPT_LNIF_CNT</th>\n      <th>SPART_LNIF_CNT</th>\n      <th>ECT_LNIF_CNT</th>\n      <th>TOT_LNIF_AMT</th>\n      <th>TOT_CLIF_AMT</th>\n      <th>BNK_LNIF_AMT</th>\n      <th>CPT_LNIF_AMT</th>\n      <th>...</th>\n      <th>CBPT_MBSP_YN</th>\n      <th>MOBL_FATY_PRC</th>\n      <th>TEL_CNTT_QTR</th>\n      <th>NUM_DAY_SUSP</th>\n      <th>CRMM_OVDU_AMT</th>\n      <th>TLFE_UNPD_CNT</th>\n      <th>LT1Y_MXOD_AMT</th>\n      <th>PAYM_METD</th>\n      <th>LINE_STUS</th>\n      <th>MOBL_PRIN</th>\n    </tr>\n  </thead>\n  <tbody>\n    <tr>\n      <th>1</th>\n      <td>2</td>\n      <td>0</td>\n      <td>1</td>\n      <td>0</td>\n      <td>0</td>\n      <td>0</td>\n      <td>24001</td>\n      <td>0</td>\n      <td>24001</td>\n      <td>0</td>\n      <td>...</td>\n      <td>N</td>\n      <td>500000</td>\n      <td>20143</td>\n      <td>0</td>\n      <td>0</td>\n      <td>0</td>\n      <td>0</td>\n      <td>O</td>\n      <td>U</td>\n      <td>90000</td>\n    </tr>\n    <tr>\n      <th>4</th>\n      <td>5</td>\n      <td>0</td>\n      <td>4</td>\n      <td>0</td>\n      <td>0</td>\n      <td>0</td>\n      <td>21001</td>\n      <td>15001</td>\n      <td>21001</td>\n      <td>0</td>\n      <td>...</td>\n      <td>Y</td>\n      <td>800000</td>\n      <td>20131</td>\n      <td>0</td>\n      <td>130000</td>\n      <td>0</td>\n      <td>90000</td>\n      <td>G</td>\n      <td>U</td>\n      <td>410000</td>\n    </tr>\n    <tr>\n      <th>5</th>\n      <td>6</td>\n      <td>0</td>\n      <td>1</td>\n      <td>0</td>\n      <td>1</td>\n      <td>1</td>\n      <td>141001</td>\n      <td>27001</td>\n      <td>111001</td>\n      <td>0</td>\n      <td>...</td>\n      <td>N</td>\n      <td>400000</td>\n      <td>20154</td>\n      <td>0</td>\n      <td>0</td>\n      <td>0</td>\n      <td>0</td>\n      <td>O</td>\n      <td>U</td>\n      <td>170000</td>\n    </tr>\n    <tr>\n      <th>8</th>\n      <td>9</td>\n      <td>0</td>\n      <td>2</td>\n      <td>0</td>\n      <td>0</td>\n      <td>0</td>\n      <td>273001</td>\n      <td>273001</td>\n      <td>273001</td>\n      <td>0</td>\n      <td>...</td>\n      <td>Y</td>\n      <td>0</td>\n      <td>20131</td>\n      <td>0</td>\n      <td>0</td>\n      <td>0</td>\n      <td>0</td>\n      <td>O</td>\n      <td>U</td>\n      <td>0</td>\n    </tr>\n    <tr>\n      <th>10</th>\n      <td>11</td>\n      <td>1</td>\n      <td>0</td>\n      <td>3</td>\n      <td>5</td>\n      <td>2</td>\n      <td>27001</td>\n      <td>27001</td>\n      <td>0</td>\n      <td>18001</td>\n      <td>...</td>\n      <td>N</td>\n      <td>900000</td>\n      <td>20062</td>\n      <td>0</td>\n      <td>0</td>\n      <td>0</td>\n      <td>0</td>\n      <td>R</td>\n      <td>U</td>\n      <td>470000</td>\n    </tr>\n  </tbody>\n</table>\n<p>5 rows × 69 columns</p>\n</div>"
     },
     "metadata": {},
     "execution_count": 34
    }
   ],
   "source": [
    "df_filtered = df.query('TOT_LNIF_AMT>20000')\n",
    "df_filtered.head()"
   ]
  },
  {
   "cell_type": "code",
   "execution_count": 46,
   "metadata": {},
   "outputs": [
    {
     "output_type": "execute_result",
     "data": {
      "text/plain": [
       "        CUST_ID  TARGET  BNK_LNIF_CNT  CPT_LNIF_CNT  SPART_LNIF_CNT  \\\n",
       "521         529       1             3             0               1   \n",
       "721         732       1             0             0               1   \n",
       "1132       1156       1             1             4               4   \n",
       "1726       1763       1             0             0               3   \n",
       "1761       1798       1             0             1               2   \n",
       "...         ...     ...           ...           ...             ...   \n",
       "99342    101350       1             0             5               7   \n",
       "99586    101595       1             1             0               0   \n",
       "99937    101952       1             5             2               3   \n",
       "100069   102085       1             0             1               2   \n",
       "100096   102112       1             0             0               2   \n",
       "\n",
       "        ECT_LNIF_CNT  TOT_LNIF_AMT  TOT_CLIF_AMT  BNK_LNIF_AMT  CPT_LNIF_AMT  \\\n",
       "521                1        219001        180001        198001             0   \n",
       "721                1        994001        994001             0             0   \n",
       "1132               0        204001        186001        186001         18001   \n",
       "1726               3        804001         63001             0             0   \n",
       "1761               1        222001             0             0             1   \n",
       "...              ...           ...           ...           ...           ...   \n",
       "99342              3        204001         24001             0         21001   \n",
       "99586              0        204001             0        204001             0   \n",
       "99937              1        246001         75001         75001          9001   \n",
       "100069             1        306001             0             0             1   \n",
       "100096             2        684001        684001             0             0   \n",
       "\n",
       "        ...  CBPT_MBSP_YN  MOBL_FATY_PRC  TEL_CNTT_QTR  NUM_DAY_SUSP  \\\n",
       "521     ...             N         300000         20153             0   \n",
       "721     ...             N         500000         20143             0   \n",
       "1132    ...             N              0         20151             0   \n",
       "1726    ...             N              0         20154             0   \n",
       "1761    ...             N              0         20022             0   \n",
       "...     ...           ...            ...           ...           ...   \n",
       "99342   ...             N         300000         20144             0   \n",
       "99586   ...             N              0         20112             0   \n",
       "99937   ...             Y        1000000         19982            22   \n",
       "100069  ...             N              0         20114             0   \n",
       "100096  ...             N              0         20133             0   \n",
       "\n",
       "        CRMM_OVDU_AMT  TLFE_UNPD_CNT LT1Y_MXOD_AMT  PAYM_METD  LINE_STUS  \\\n",
       "521                 0              0         50000          O          U   \n",
       "721            350000              0        370000          G          U   \n",
       "1132                0              0        140000          O          U   \n",
       "1726                0              0             0          O          U   \n",
       "1761                0              0             0        NaN          U   \n",
       "...               ...            ...           ...        ...        ...   \n",
       "99342           80000              0         80000          G          S   \n",
       "99586               0              0             0          O          U   \n",
       "99937               0              0        270000          O          U   \n",
       "100069              0              0             0          O          U   \n",
       "100096         270000              0             0          G          U   \n",
       "\n",
       "        MOBL_PRIN  \n",
       "521        210000  \n",
       "721         60000  \n",
       "1132            0  \n",
       "1726            0  \n",
       "1761            0  \n",
       "...           ...  \n",
       "99342       60000  \n",
       "99586           0  \n",
       "99937           0  \n",
       "100069          0  \n",
       "100096     110000  \n",
       "\n",
       "[182 rows x 69 columns]"
      ],
      "text/html": "<div>\n<style scoped>\n    .dataframe tbody tr th:only-of-type {\n        vertical-align: middle;\n    }\n\n    .dataframe tbody tr th {\n        vertical-align: top;\n    }\n\n    .dataframe thead th {\n        text-align: right;\n    }\n</style>\n<table border=\"1\" class=\"dataframe\">\n  <thead>\n    <tr style=\"text-align: right;\">\n      <th></th>\n      <th>CUST_ID</th>\n      <th>TARGET</th>\n      <th>BNK_LNIF_CNT</th>\n      <th>CPT_LNIF_CNT</th>\n      <th>SPART_LNIF_CNT</th>\n      <th>ECT_LNIF_CNT</th>\n      <th>TOT_LNIF_AMT</th>\n      <th>TOT_CLIF_AMT</th>\n      <th>BNK_LNIF_AMT</th>\n      <th>CPT_LNIF_AMT</th>\n      <th>...</th>\n      <th>CBPT_MBSP_YN</th>\n      <th>MOBL_FATY_PRC</th>\n      <th>TEL_CNTT_QTR</th>\n      <th>NUM_DAY_SUSP</th>\n      <th>CRMM_OVDU_AMT</th>\n      <th>TLFE_UNPD_CNT</th>\n      <th>LT1Y_MXOD_AMT</th>\n      <th>PAYM_METD</th>\n      <th>LINE_STUS</th>\n      <th>MOBL_PRIN</th>\n    </tr>\n  </thead>\n  <tbody>\n    <tr>\n      <th>521</th>\n      <td>529</td>\n      <td>1</td>\n      <td>3</td>\n      <td>0</td>\n      <td>1</td>\n      <td>1</td>\n      <td>219001</td>\n      <td>180001</td>\n      <td>198001</td>\n      <td>0</td>\n      <td>...</td>\n      <td>N</td>\n      <td>300000</td>\n      <td>20153</td>\n      <td>0</td>\n      <td>0</td>\n      <td>0</td>\n      <td>50000</td>\n      <td>O</td>\n      <td>U</td>\n      <td>210000</td>\n    </tr>\n    <tr>\n      <th>721</th>\n      <td>732</td>\n      <td>1</td>\n      <td>0</td>\n      <td>0</td>\n      <td>1</td>\n      <td>1</td>\n      <td>994001</td>\n      <td>994001</td>\n      <td>0</td>\n      <td>0</td>\n      <td>...</td>\n      <td>N</td>\n      <td>500000</td>\n      <td>20143</td>\n      <td>0</td>\n      <td>350000</td>\n      <td>0</td>\n      <td>370000</td>\n      <td>G</td>\n      <td>U</td>\n      <td>60000</td>\n    </tr>\n    <tr>\n      <th>1132</th>\n      <td>1156</td>\n      <td>1</td>\n      <td>1</td>\n      <td>4</td>\n      <td>4</td>\n      <td>0</td>\n      <td>204001</td>\n      <td>186001</td>\n      <td>186001</td>\n      <td>18001</td>\n      <td>...</td>\n      <td>N</td>\n      <td>0</td>\n      <td>20151</td>\n      <td>0</td>\n      <td>0</td>\n      <td>0</td>\n      <td>140000</td>\n      <td>O</td>\n      <td>U</td>\n      <td>0</td>\n    </tr>\n    <tr>\n      <th>1726</th>\n      <td>1763</td>\n      <td>1</td>\n      <td>0</td>\n      <td>0</td>\n      <td>3</td>\n      <td>3</td>\n      <td>804001</td>\n      <td>63001</td>\n      <td>0</td>\n      <td>0</td>\n      <td>...</td>\n      <td>N</td>\n      <td>0</td>\n      <td>20154</td>\n      <td>0</td>\n      <td>0</td>\n      <td>0</td>\n      <td>0</td>\n      <td>O</td>\n      <td>U</td>\n      <td>0</td>\n    </tr>\n    <tr>\n      <th>1761</th>\n      <td>1798</td>\n      <td>1</td>\n      <td>0</td>\n      <td>1</td>\n      <td>2</td>\n      <td>1</td>\n      <td>222001</td>\n      <td>0</td>\n      <td>0</td>\n      <td>1</td>\n      <td>...</td>\n      <td>N</td>\n      <td>0</td>\n      <td>20022</td>\n      <td>0</td>\n      <td>0</td>\n      <td>0</td>\n      <td>0</td>\n      <td>NaN</td>\n      <td>U</td>\n      <td>0</td>\n    </tr>\n    <tr>\n      <th>...</th>\n      <td>...</td>\n      <td>...</td>\n      <td>...</td>\n      <td>...</td>\n      <td>...</td>\n      <td>...</td>\n      <td>...</td>\n      <td>...</td>\n      <td>...</td>\n      <td>...</td>\n      <td>...</td>\n      <td>...</td>\n      <td>...</td>\n      <td>...</td>\n      <td>...</td>\n      <td>...</td>\n      <td>...</td>\n      <td>...</td>\n      <td>...</td>\n      <td>...</td>\n      <td>...</td>\n    </tr>\n    <tr>\n      <th>99342</th>\n      <td>101350</td>\n      <td>1</td>\n      <td>0</td>\n      <td>5</td>\n      <td>7</td>\n      <td>3</td>\n      <td>204001</td>\n      <td>24001</td>\n      <td>0</td>\n      <td>21001</td>\n      <td>...</td>\n      <td>N</td>\n      <td>300000</td>\n      <td>20144</td>\n      <td>0</td>\n      <td>80000</td>\n      <td>0</td>\n      <td>80000</td>\n      <td>G</td>\n      <td>S</td>\n      <td>60000</td>\n    </tr>\n    <tr>\n      <th>99586</th>\n      <td>101595</td>\n      <td>1</td>\n      <td>1</td>\n      <td>0</td>\n      <td>0</td>\n      <td>0</td>\n      <td>204001</td>\n      <td>0</td>\n      <td>204001</td>\n      <td>0</td>\n      <td>...</td>\n      <td>N</td>\n      <td>0</td>\n      <td>20112</td>\n      <td>0</td>\n      <td>0</td>\n      <td>0</td>\n      <td>0</td>\n      <td>O</td>\n      <td>U</td>\n      <td>0</td>\n    </tr>\n    <tr>\n      <th>99937</th>\n      <td>101952</td>\n      <td>1</td>\n      <td>5</td>\n      <td>2</td>\n      <td>3</td>\n      <td>1</td>\n      <td>246001</td>\n      <td>75001</td>\n      <td>75001</td>\n      <td>9001</td>\n      <td>...</td>\n      <td>Y</td>\n      <td>1000000</td>\n      <td>19982</td>\n      <td>22</td>\n      <td>0</td>\n      <td>0</td>\n      <td>270000</td>\n      <td>O</td>\n      <td>U</td>\n      <td>0</td>\n    </tr>\n    <tr>\n      <th>100069</th>\n      <td>102085</td>\n      <td>1</td>\n      <td>0</td>\n      <td>1</td>\n      <td>2</td>\n      <td>1</td>\n      <td>306001</td>\n      <td>0</td>\n      <td>0</td>\n      <td>1</td>\n      <td>...</td>\n      <td>N</td>\n      <td>0</td>\n      <td>20114</td>\n      <td>0</td>\n      <td>0</td>\n      <td>0</td>\n      <td>0</td>\n      <td>O</td>\n      <td>U</td>\n      <td>0</td>\n    </tr>\n    <tr>\n      <th>100096</th>\n      <td>102112</td>\n      <td>1</td>\n      <td>0</td>\n      <td>0</td>\n      <td>2</td>\n      <td>2</td>\n      <td>684001</td>\n      <td>684001</td>\n      <td>0</td>\n      <td>0</td>\n      <td>...</td>\n      <td>N</td>\n      <td>0</td>\n      <td>20133</td>\n      <td>0</td>\n      <td>270000</td>\n      <td>0</td>\n      <td>0</td>\n      <td>G</td>\n      <td>U</td>\n      <td>110000</td>\n    </tr>\n  </tbody>\n</table>\n<p>182 rows × 69 columns</p>\n</div>"
     },
     "metadata": {},
     "execution_count": 46
    }
   ],
   "source": [
    "df_filtered = df[(df.TOT_LNIF_AMT > 200000) & (df.TARGET == 1)]\n",
    "#df_filtered = df.query('TOT_LNIF_AMT>20000 & TARGET == 1')\n",
    "df_filtered"
   ]
  },
  {
   "source": [
    "# Filter Column"
   ],
   "cell_type": "markdown",
   "metadata": {}
  },
  {
   "source": [
    "by index"
   ],
   "cell_type": "markdown",
   "metadata": {}
  },
  {
   "cell_type": "code",
   "execution_count": 20,
   "metadata": {},
   "outputs": [
    {
     "output_type": "execute_result",
     "data": {
      "text/plain": [
       "        CUST_ID  TARGET\n",
       "0             1       0\n",
       "1             2       0\n",
       "2             3       0\n",
       "3             4       1\n",
       "4             5       0\n",
       "...         ...     ...\n",
       "100228   102248       0\n",
       "100229   102249       0\n",
       "100230   102250       0\n",
       "100231   102251       0\n",
       "100232   102252       0\n",
       "\n",
       "[100233 rows x 2 columns]"
      ],
      "text/html": "<div>\n<style scoped>\n    .dataframe tbody tr th:only-of-type {\n        vertical-align: middle;\n    }\n\n    .dataframe tbody tr th {\n        vertical-align: top;\n    }\n\n    .dataframe thead th {\n        text-align: right;\n    }\n</style>\n<table border=\"1\" class=\"dataframe\">\n  <thead>\n    <tr style=\"text-align: right;\">\n      <th></th>\n      <th>CUST_ID</th>\n      <th>TARGET</th>\n    </tr>\n  </thead>\n  <tbody>\n    <tr>\n      <th>0</th>\n      <td>1</td>\n      <td>0</td>\n    </tr>\n    <tr>\n      <th>1</th>\n      <td>2</td>\n      <td>0</td>\n    </tr>\n    <tr>\n      <th>2</th>\n      <td>3</td>\n      <td>0</td>\n    </tr>\n    <tr>\n      <th>3</th>\n      <td>4</td>\n      <td>1</td>\n    </tr>\n    <tr>\n      <th>4</th>\n      <td>5</td>\n      <td>0</td>\n    </tr>\n    <tr>\n      <th>...</th>\n      <td>...</td>\n      <td>...</td>\n    </tr>\n    <tr>\n      <th>100228</th>\n      <td>102248</td>\n      <td>0</td>\n    </tr>\n    <tr>\n      <th>100229</th>\n      <td>102249</td>\n      <td>0</td>\n    </tr>\n    <tr>\n      <th>100230</th>\n      <td>102250</td>\n      <td>0</td>\n    </tr>\n    <tr>\n      <th>100231</th>\n      <td>102251</td>\n      <td>0</td>\n    </tr>\n    <tr>\n      <th>100232</th>\n      <td>102252</td>\n      <td>0</td>\n    </tr>\n  </tbody>\n</table>\n<p>100233 rows × 2 columns</p>\n</div>"
     },
     "metadata": {},
     "execution_count": 20
    }
   ],
   "source": [
    "#df.iloc[row선택, column선택]\n",
    "df.iloc[:, 0:2]"
   ]
  },
  {
   "cell_type": "code",
   "execution_count": 22,
   "metadata": {},
   "outputs": [
    {
     "output_type": "execute_result",
     "data": {
      "text/plain": [
       "        CUST_ID  ECT_LNIF_CNT\n",
       "0             1             0\n",
       "1             2             0\n",
       "2             3             2\n",
       "3             4             2\n",
       "4             5             0\n",
       "...         ...           ...\n",
       "100228   102248             2\n",
       "100229   102249             0\n",
       "100230   102250             0\n",
       "100231   102251             1\n",
       "100232   102252             0\n",
       "\n",
       "[100233 rows x 2 columns]"
      ],
      "text/html": "<div>\n<style scoped>\n    .dataframe tbody tr th:only-of-type {\n        vertical-align: middle;\n    }\n\n    .dataframe tbody tr th {\n        vertical-align: top;\n    }\n\n    .dataframe thead th {\n        text-align: right;\n    }\n</style>\n<table border=\"1\" class=\"dataframe\">\n  <thead>\n    <tr style=\"text-align: right;\">\n      <th></th>\n      <th>CUST_ID</th>\n      <th>ECT_LNIF_CNT</th>\n    </tr>\n  </thead>\n  <tbody>\n    <tr>\n      <th>0</th>\n      <td>1</td>\n      <td>0</td>\n    </tr>\n    <tr>\n      <th>1</th>\n      <td>2</td>\n      <td>0</td>\n    </tr>\n    <tr>\n      <th>2</th>\n      <td>3</td>\n      <td>2</td>\n    </tr>\n    <tr>\n      <th>3</th>\n      <td>4</td>\n      <td>2</td>\n    </tr>\n    <tr>\n      <th>4</th>\n      <td>5</td>\n      <td>0</td>\n    </tr>\n    <tr>\n      <th>...</th>\n      <td>...</td>\n      <td>...</td>\n    </tr>\n    <tr>\n      <th>100228</th>\n      <td>102248</td>\n      <td>2</td>\n    </tr>\n    <tr>\n      <th>100229</th>\n      <td>102249</td>\n      <td>0</td>\n    </tr>\n    <tr>\n      <th>100230</th>\n      <td>102250</td>\n      <td>0</td>\n    </tr>\n    <tr>\n      <th>100231</th>\n      <td>102251</td>\n      <td>1</td>\n    </tr>\n    <tr>\n      <th>100232</th>\n      <td>102252</td>\n      <td>0</td>\n    </tr>\n  </tbody>\n</table>\n<p>100233 rows × 2 columns</p>\n</div>"
     },
     "metadata": {},
     "execution_count": 22
    }
   ],
   "source": [
    "df.iloc[:,[0,5]]"
   ]
  },
  {
   "source": [
    "by column name"
   ],
   "cell_type": "markdown",
   "metadata": {}
  },
  {
   "cell_type": "code",
   "execution_count": 24,
   "metadata": {},
   "outputs": [
    {
     "output_type": "execute_result",
     "data": {
      "text/plain": [
       "        CUST_ID  TOT_LNIF_AMT\n",
       "0             1          9001\n",
       "1             2         24001\n",
       "2             3         15001\n",
       "3             4          6001\n",
       "4             5         21001\n",
       "...         ...           ...\n",
       "100228   102248         75001\n",
       "100229   102249         54001\n",
       "100230   102250         27001\n",
       "100231   102251         57001\n",
       "100232   102252         18001\n",
       "\n",
       "[100233 rows x 2 columns]"
      ],
      "text/html": "<div>\n<style scoped>\n    .dataframe tbody tr th:only-of-type {\n        vertical-align: middle;\n    }\n\n    .dataframe tbody tr th {\n        vertical-align: top;\n    }\n\n    .dataframe thead th {\n        text-align: right;\n    }\n</style>\n<table border=\"1\" class=\"dataframe\">\n  <thead>\n    <tr style=\"text-align: right;\">\n      <th></th>\n      <th>CUST_ID</th>\n      <th>TOT_LNIF_AMT</th>\n    </tr>\n  </thead>\n  <tbody>\n    <tr>\n      <th>0</th>\n      <td>1</td>\n      <td>9001</td>\n    </tr>\n    <tr>\n      <th>1</th>\n      <td>2</td>\n      <td>24001</td>\n    </tr>\n    <tr>\n      <th>2</th>\n      <td>3</td>\n      <td>15001</td>\n    </tr>\n    <tr>\n      <th>3</th>\n      <td>4</td>\n      <td>6001</td>\n    </tr>\n    <tr>\n      <th>4</th>\n      <td>5</td>\n      <td>21001</td>\n    </tr>\n    <tr>\n      <th>...</th>\n      <td>...</td>\n      <td>...</td>\n    </tr>\n    <tr>\n      <th>100228</th>\n      <td>102248</td>\n      <td>75001</td>\n    </tr>\n    <tr>\n      <th>100229</th>\n      <td>102249</td>\n      <td>54001</td>\n    </tr>\n    <tr>\n      <th>100230</th>\n      <td>102250</td>\n      <td>27001</td>\n    </tr>\n    <tr>\n      <th>100231</th>\n      <td>102251</td>\n      <td>57001</td>\n    </tr>\n    <tr>\n      <th>100232</th>\n      <td>102252</td>\n      <td>18001</td>\n    </tr>\n  </tbody>\n</table>\n<p>100233 rows × 2 columns</p>\n</div>"
     },
     "metadata": {},
     "execution_count": 24
    }
   ],
   "source": [
    "df_filtered = df[['CUST_ID', 'TOT_LNIF_AMT']]\n",
    "df_filtered"
   ]
  },
  {
   "cell_type": "code",
   "execution_count": 25,
   "metadata": {},
   "outputs": [
    {
     "output_type": "execute_result",
     "data": {
      "text/plain": [
       "        CUST_ID  TOT_LNIF_AMT\n",
       "0             1          9001\n",
       "1             2         24001\n",
       "2             3         15001\n",
       "3             4          6001\n",
       "4             5         21001\n",
       "...         ...           ...\n",
       "100228   102248         75001\n",
       "100229   102249         54001\n",
       "100230   102250         27001\n",
       "100231   102251         57001\n",
       "100232   102252         18001\n",
       "\n",
       "[100233 rows x 2 columns]"
      ],
      "text/html": "<div>\n<style scoped>\n    .dataframe tbody tr th:only-of-type {\n        vertical-align: middle;\n    }\n\n    .dataframe tbody tr th {\n        vertical-align: top;\n    }\n\n    .dataframe thead th {\n        text-align: right;\n    }\n</style>\n<table border=\"1\" class=\"dataframe\">\n  <thead>\n    <tr style=\"text-align: right;\">\n      <th></th>\n      <th>CUST_ID</th>\n      <th>TOT_LNIF_AMT</th>\n    </tr>\n  </thead>\n  <tbody>\n    <tr>\n      <th>0</th>\n      <td>1</td>\n      <td>9001</td>\n    </tr>\n    <tr>\n      <th>1</th>\n      <td>2</td>\n      <td>24001</td>\n    </tr>\n    <tr>\n      <th>2</th>\n      <td>3</td>\n      <td>15001</td>\n    </tr>\n    <tr>\n      <th>3</th>\n      <td>4</td>\n      <td>6001</td>\n    </tr>\n    <tr>\n      <th>4</th>\n      <td>5</td>\n      <td>21001</td>\n    </tr>\n    <tr>\n      <th>...</th>\n      <td>...</td>\n      <td>...</td>\n    </tr>\n    <tr>\n      <th>100228</th>\n      <td>102248</td>\n      <td>75001</td>\n    </tr>\n    <tr>\n      <th>100229</th>\n      <td>102249</td>\n      <td>54001</td>\n    </tr>\n    <tr>\n      <th>100230</th>\n      <td>102250</td>\n      <td>27001</td>\n    </tr>\n    <tr>\n      <th>100231</th>\n      <td>102251</td>\n      <td>57001</td>\n    </tr>\n    <tr>\n      <th>100232</th>\n      <td>102252</td>\n      <td>18001</td>\n    </tr>\n  </tbody>\n</table>\n<p>100233 rows × 2 columns</p>\n</div>"
     },
     "metadata": {},
     "execution_count": 25
    }
   ],
   "source": [
    "df.filter(items=['CUST_ID', 'TOT_LNIF_AMT'])"
   ]
  },
  {
   "cell_type": "code",
   "execution_count": 32,
   "metadata": {},
   "outputs": [
    {
     "output_type": "execute_result",
     "data": {
      "text/plain": [
       "        TOT_LNIF_AMT  TOT_CLIF_AMT  BNK_LNIF_AMT  CPT_LNIF_AMT  CB_GUIF_AMT  \\\n",
       "0               9001          9001          9001             0       420001   \n",
       "1              24001             0         24001             0            0   \n",
       "2              15001          9001             0          3001            0   \n",
       "3               6001          3001             0          3001            0   \n",
       "4              21001         15001         21001             0            0   \n",
       "...              ...           ...           ...           ...          ...   \n",
       "100228         75001         15001         57001             0            0   \n",
       "100229         54001          9001         54001             0            0   \n",
       "100230         27001         27001         27001             0            0   \n",
       "100231         57001             0             0             0            0   \n",
       "100232         18001         18001         18001             0            0   \n",
       "\n",
       "        TOT_CRLN_AMT  TOT_REPY_AMT  STLN_REMN_AMT  LT1Y_STLN_AMT  \\\n",
       "0                  0             0              0              0   \n",
       "1                  0             0              0              0   \n",
       "2                  0             0              0              0   \n",
       "3                  0             0              0              0   \n",
       "4                  0             0        2000000              0   \n",
       "...              ...           ...            ...            ...   \n",
       "100228             0             0              0              0   \n",
       "100229             0             0              0              0   \n",
       "100230             0             0              0              0   \n",
       "100231             0             0              0              0   \n",
       "100232             0             0              0              0   \n",
       "\n",
       "        CNTT_LAMT_CNT  FYCM_PAID_AMT  MON_TLFE_AMT  CRMM_OVDU_AMT  \\\n",
       "0                   0              0         80000              0   \n",
       "1                   0         300000         40000              0   \n",
       "2                   0              0         40000              0   \n",
       "3                   0              0         80000         540000   \n",
       "4                   0         500000         80000         130000   \n",
       "...               ...            ...           ...            ...   \n",
       "100228              0         700000         20000          20000   \n",
       "100229              0         100000         80000              0   \n",
       "100230              0              0         20000              0   \n",
       "100231              0              0        180000              0   \n",
       "100232              0        2900000         40000              0   \n",
       "\n",
       "        LT1Y_MXOD_AMT  \n",
       "0                   0  \n",
       "1                   0  \n",
       "2                   0  \n",
       "3              630000  \n",
       "4               90000  \n",
       "...               ...  \n",
       "100228              0  \n",
       "100229              0  \n",
       "100230              0  \n",
       "100231              0  \n",
       "100232          60000  \n",
       "\n",
       "[100233 rows x 14 columns]"
      ],
      "text/html": "<div>\n<style scoped>\n    .dataframe tbody tr th:only-of-type {\n        vertical-align: middle;\n    }\n\n    .dataframe tbody tr th {\n        vertical-align: top;\n    }\n\n    .dataframe thead th {\n        text-align: right;\n    }\n</style>\n<table border=\"1\" class=\"dataframe\">\n  <thead>\n    <tr style=\"text-align: right;\">\n      <th></th>\n      <th>TOT_LNIF_AMT</th>\n      <th>TOT_CLIF_AMT</th>\n      <th>BNK_LNIF_AMT</th>\n      <th>CPT_LNIF_AMT</th>\n      <th>CB_GUIF_AMT</th>\n      <th>TOT_CRLN_AMT</th>\n      <th>TOT_REPY_AMT</th>\n      <th>STLN_REMN_AMT</th>\n      <th>LT1Y_STLN_AMT</th>\n      <th>CNTT_LAMT_CNT</th>\n      <th>FYCM_PAID_AMT</th>\n      <th>MON_TLFE_AMT</th>\n      <th>CRMM_OVDU_AMT</th>\n      <th>LT1Y_MXOD_AMT</th>\n    </tr>\n  </thead>\n  <tbody>\n    <tr>\n      <th>0</th>\n      <td>9001</td>\n      <td>9001</td>\n      <td>9001</td>\n      <td>0</td>\n      <td>420001</td>\n      <td>0</td>\n      <td>0</td>\n      <td>0</td>\n      <td>0</td>\n      <td>0</td>\n      <td>0</td>\n      <td>80000</td>\n      <td>0</td>\n      <td>0</td>\n    </tr>\n    <tr>\n      <th>1</th>\n      <td>24001</td>\n      <td>0</td>\n      <td>24001</td>\n      <td>0</td>\n      <td>0</td>\n      <td>0</td>\n      <td>0</td>\n      <td>0</td>\n      <td>0</td>\n      <td>0</td>\n      <td>300000</td>\n      <td>40000</td>\n      <td>0</td>\n      <td>0</td>\n    </tr>\n    <tr>\n      <th>2</th>\n      <td>15001</td>\n      <td>9001</td>\n      <td>0</td>\n      <td>3001</td>\n      <td>0</td>\n      <td>0</td>\n      <td>0</td>\n      <td>0</td>\n      <td>0</td>\n      <td>0</td>\n      <td>0</td>\n      <td>40000</td>\n      <td>0</td>\n      <td>0</td>\n    </tr>\n    <tr>\n      <th>3</th>\n      <td>6001</td>\n      <td>3001</td>\n      <td>0</td>\n      <td>3001</td>\n      <td>0</td>\n      <td>0</td>\n      <td>0</td>\n      <td>0</td>\n      <td>0</td>\n      <td>0</td>\n      <td>0</td>\n      <td>80000</td>\n      <td>540000</td>\n      <td>630000</td>\n    </tr>\n    <tr>\n      <th>4</th>\n      <td>21001</td>\n      <td>15001</td>\n      <td>21001</td>\n      <td>0</td>\n      <td>0</td>\n      <td>0</td>\n      <td>0</td>\n      <td>2000000</td>\n      <td>0</td>\n      <td>0</td>\n      <td>500000</td>\n      <td>80000</td>\n      <td>130000</td>\n      <td>90000</td>\n    </tr>\n    <tr>\n      <th>...</th>\n      <td>...</td>\n      <td>...</td>\n      <td>...</td>\n      <td>...</td>\n      <td>...</td>\n      <td>...</td>\n      <td>...</td>\n      <td>...</td>\n      <td>...</td>\n      <td>...</td>\n      <td>...</td>\n      <td>...</td>\n      <td>...</td>\n      <td>...</td>\n    </tr>\n    <tr>\n      <th>100228</th>\n      <td>75001</td>\n      <td>15001</td>\n      <td>57001</td>\n      <td>0</td>\n      <td>0</td>\n      <td>0</td>\n      <td>0</td>\n      <td>0</td>\n      <td>0</td>\n      <td>0</td>\n      <td>700000</td>\n      <td>20000</td>\n      <td>20000</td>\n      <td>0</td>\n    </tr>\n    <tr>\n      <th>100229</th>\n      <td>54001</td>\n      <td>9001</td>\n      <td>54001</td>\n      <td>0</td>\n      <td>0</td>\n      <td>0</td>\n      <td>0</td>\n      <td>0</td>\n      <td>0</td>\n      <td>0</td>\n      <td>100000</td>\n      <td>80000</td>\n      <td>0</td>\n      <td>0</td>\n    </tr>\n    <tr>\n      <th>100230</th>\n      <td>27001</td>\n      <td>27001</td>\n      <td>27001</td>\n      <td>0</td>\n      <td>0</td>\n      <td>0</td>\n      <td>0</td>\n      <td>0</td>\n      <td>0</td>\n      <td>0</td>\n      <td>0</td>\n      <td>20000</td>\n      <td>0</td>\n      <td>0</td>\n    </tr>\n    <tr>\n      <th>100231</th>\n      <td>57001</td>\n      <td>0</td>\n      <td>0</td>\n      <td>0</td>\n      <td>0</td>\n      <td>0</td>\n      <td>0</td>\n      <td>0</td>\n      <td>0</td>\n      <td>0</td>\n      <td>0</td>\n      <td>180000</td>\n      <td>0</td>\n      <td>0</td>\n    </tr>\n    <tr>\n      <th>100232</th>\n      <td>18001</td>\n      <td>18001</td>\n      <td>18001</td>\n      <td>0</td>\n      <td>0</td>\n      <td>0</td>\n      <td>0</td>\n      <td>0</td>\n      <td>0</td>\n      <td>0</td>\n      <td>2900000</td>\n      <td>40000</td>\n      <td>0</td>\n      <td>60000</td>\n    </tr>\n  </tbody>\n</table>\n<p>100233 rows × 14 columns</p>\n</div>"
     },
     "metadata": {},
     "execution_count": 32
    }
   ],
   "source": [
    "df.filter(like='AMT',axis=1)"
   ]
  },
  {
   "cell_type": "code",
   "execution_count": 37,
   "metadata": {},
   "outputs": [
    {
     "output_type": "execute_result",
     "data": {
      "text/plain": [
       "        CUST_ID  TARGET  BNK_LNIF_CNT  CPT_LNIF_CNT  SPART_LNIF_CNT  \\\n",
       "0             1       0             1             0               0   \n",
       "1             2       0             1             0               0   \n",
       "2             3       0             0             1               3   \n",
       "3             4       1             0             2               4   \n",
       "4             5       0             4             0               0   \n",
       "...         ...     ...           ...           ...             ...   \n",
       "100228   102248       0             1             0               2   \n",
       "100229   102249       0             2             0               0   \n",
       "100230   102250       0             1             0               0   \n",
       "100231   102251       0             0             0               1   \n",
       "100232   102252       0             1             0               0   \n",
       "\n",
       "        ECT_LNIF_CNT  TOT_LNIF_AMT  TOT_CLIF_AMT  BNK_LNIF_AMT  CPT_LNIF_AMT  \\\n",
       "0                  0          9001          9001          9001             0   \n",
       "1                  0         24001             0         24001             0   \n",
       "2                  2         15001          9001             0          3001   \n",
       "3                  2          6001          3001             0          3001   \n",
       "4                  0         21001         15001         21001             0   \n",
       "...              ...           ...           ...           ...           ...   \n",
       "100228             2         75001         15001         57001             0   \n",
       "100229             0         54001          9001         54001             0   \n",
       "100230             0         27001         27001         27001             0   \n",
       "100231             1         57001             0             0             0   \n",
       "100232             0         18001         18001         18001             0   \n",
       "\n",
       "        ...  CBPT_MBSP_YN  MOBL_FATY_PRC  TEL_CNTT_QTR  NUM_DAY_SUSP  \\\n",
       "0       ...             N         800000         20111             0   \n",
       "1       ...             N         500000         20143             0   \n",
       "2       ...             Y         500000         20103             0   \n",
       "3       ...             N         900000         20144             0   \n",
       "4       ...             Y         800000         20131             0   \n",
       "...     ...           ...            ...           ...           ...   \n",
       "100228  ...             N              0         20111             0   \n",
       "100229  ...             Y         900000         20134             0   \n",
       "100230  ...             N              0         20141             0   \n",
       "100231  ...             N         900000         20103             0   \n",
       "100232  ...             N         400000         20151             0   \n",
       "\n",
       "        CRMM_OVDU_AMT  TLFE_UNPD_CNT LT1Y_MXOD_AMT  PAYM_METD  LINE_STUS  \\\n",
       "0                   0              0             0          O          U   \n",
       "1                   0              0             0          O          U   \n",
       "2                   0              0             0          O          U   \n",
       "3              540000              0        630000          G          S   \n",
       "4              130000              0         90000          G          U   \n",
       "...               ...            ...           ...        ...        ...   \n",
       "100228          20000              0             0          R          U   \n",
       "100229              0              0             0          K          U   \n",
       "100230              0              0             0          O          U   \n",
       "100231              0              0             0          O          U   \n",
       "100232              0              0         60000          K          U   \n",
       "\n",
       "        MOBL_PRIN  \n",
       "0          580000  \n",
       "1           90000  \n",
       "2          120000  \n",
       "3          320000  \n",
       "4          410000  \n",
       "...           ...  \n",
       "100228          0  \n",
       "100229     180000  \n",
       "100230          0  \n",
       "100231     540000  \n",
       "100232     180000  \n",
       "\n",
       "[100233 rows x 69 columns]"
      ],
      "text/html": "<div>\n<style scoped>\n    .dataframe tbody tr th:only-of-type {\n        vertical-align: middle;\n    }\n\n    .dataframe tbody tr th {\n        vertical-align: top;\n    }\n\n    .dataframe thead th {\n        text-align: right;\n    }\n</style>\n<table border=\"1\" class=\"dataframe\">\n  <thead>\n    <tr style=\"text-align: right;\">\n      <th></th>\n      <th>CUST_ID</th>\n      <th>TARGET</th>\n      <th>BNK_LNIF_CNT</th>\n      <th>CPT_LNIF_CNT</th>\n      <th>SPART_LNIF_CNT</th>\n      <th>ECT_LNIF_CNT</th>\n      <th>TOT_LNIF_AMT</th>\n      <th>TOT_CLIF_AMT</th>\n      <th>BNK_LNIF_AMT</th>\n      <th>CPT_LNIF_AMT</th>\n      <th>...</th>\n      <th>CBPT_MBSP_YN</th>\n      <th>MOBL_FATY_PRC</th>\n      <th>TEL_CNTT_QTR</th>\n      <th>NUM_DAY_SUSP</th>\n      <th>CRMM_OVDU_AMT</th>\n      <th>TLFE_UNPD_CNT</th>\n      <th>LT1Y_MXOD_AMT</th>\n      <th>PAYM_METD</th>\n      <th>LINE_STUS</th>\n      <th>MOBL_PRIN</th>\n    </tr>\n  </thead>\n  <tbody>\n    <tr>\n      <th>0</th>\n      <td>1</td>\n      <td>0</td>\n      <td>1</td>\n      <td>0</td>\n      <td>0</td>\n      <td>0</td>\n      <td>9001</td>\n      <td>9001</td>\n      <td>9001</td>\n      <td>0</td>\n      <td>...</td>\n      <td>N</td>\n      <td>800000</td>\n      <td>20111</td>\n      <td>0</td>\n      <td>0</td>\n      <td>0</td>\n      <td>0</td>\n      <td>O</td>\n      <td>U</td>\n      <td>580000</td>\n    </tr>\n    <tr>\n      <th>1</th>\n      <td>2</td>\n      <td>0</td>\n      <td>1</td>\n      <td>0</td>\n      <td>0</td>\n      <td>0</td>\n      <td>24001</td>\n      <td>0</td>\n      <td>24001</td>\n      <td>0</td>\n      <td>...</td>\n      <td>N</td>\n      <td>500000</td>\n      <td>20143</td>\n      <td>0</td>\n      <td>0</td>\n      <td>0</td>\n      <td>0</td>\n      <td>O</td>\n      <td>U</td>\n      <td>90000</td>\n    </tr>\n    <tr>\n      <th>2</th>\n      <td>3</td>\n      <td>0</td>\n      <td>0</td>\n      <td>1</td>\n      <td>3</td>\n      <td>2</td>\n      <td>15001</td>\n      <td>9001</td>\n      <td>0</td>\n      <td>3001</td>\n      <td>...</td>\n      <td>Y</td>\n      <td>500000</td>\n      <td>20103</td>\n      <td>0</td>\n      <td>0</td>\n      <td>0</td>\n      <td>0</td>\n      <td>O</td>\n      <td>U</td>\n      <td>120000</td>\n    </tr>\n    <tr>\n      <th>3</th>\n      <td>4</td>\n      <td>1</td>\n      <td>0</td>\n      <td>2</td>\n      <td>4</td>\n      <td>2</td>\n      <td>6001</td>\n      <td>3001</td>\n      <td>0</td>\n      <td>3001</td>\n      <td>...</td>\n      <td>N</td>\n      <td>900000</td>\n      <td>20144</td>\n      <td>0</td>\n      <td>540000</td>\n      <td>0</td>\n      <td>630000</td>\n      <td>G</td>\n      <td>S</td>\n      <td>320000</td>\n    </tr>\n    <tr>\n      <th>4</th>\n      <td>5</td>\n      <td>0</td>\n      <td>4</td>\n      <td>0</td>\n      <td>0</td>\n      <td>0</td>\n      <td>21001</td>\n      <td>15001</td>\n      <td>21001</td>\n      <td>0</td>\n      <td>...</td>\n      <td>Y</td>\n      <td>800000</td>\n      <td>20131</td>\n      <td>0</td>\n      <td>130000</td>\n      <td>0</td>\n      <td>90000</td>\n      <td>G</td>\n      <td>U</td>\n      <td>410000</td>\n    </tr>\n    <tr>\n      <th>...</th>\n      <td>...</td>\n      <td>...</td>\n      <td>...</td>\n      <td>...</td>\n      <td>...</td>\n      <td>...</td>\n      <td>...</td>\n      <td>...</td>\n      <td>...</td>\n      <td>...</td>\n      <td>...</td>\n      <td>...</td>\n      <td>...</td>\n      <td>...</td>\n      <td>...</td>\n      <td>...</td>\n      <td>...</td>\n      <td>...</td>\n      <td>...</td>\n      <td>...</td>\n      <td>...</td>\n    </tr>\n    <tr>\n      <th>100228</th>\n      <td>102248</td>\n      <td>0</td>\n      <td>1</td>\n      <td>0</td>\n      <td>2</td>\n      <td>2</td>\n      <td>75001</td>\n      <td>15001</td>\n      <td>57001</td>\n      <td>0</td>\n      <td>...</td>\n      <td>N</td>\n      <td>0</td>\n      <td>20111</td>\n      <td>0</td>\n      <td>20000</td>\n      <td>0</td>\n      <td>0</td>\n      <td>R</td>\n      <td>U</td>\n      <td>0</td>\n    </tr>\n    <tr>\n      <th>100229</th>\n      <td>102249</td>\n      <td>0</td>\n      <td>2</td>\n      <td>0</td>\n      <td>0</td>\n      <td>0</td>\n      <td>54001</td>\n      <td>9001</td>\n      <td>54001</td>\n      <td>0</td>\n      <td>...</td>\n      <td>Y</td>\n      <td>900000</td>\n      <td>20134</td>\n      <td>0</td>\n      <td>0</td>\n      <td>0</td>\n      <td>0</td>\n      <td>K</td>\n      <td>U</td>\n      <td>180000</td>\n    </tr>\n    <tr>\n      <th>100230</th>\n      <td>102250</td>\n      <td>0</td>\n      <td>1</td>\n      <td>0</td>\n      <td>0</td>\n      <td>0</td>\n      <td>27001</td>\n      <td>27001</td>\n      <td>27001</td>\n      <td>0</td>\n      <td>...</td>\n      <td>N</td>\n      <td>0</td>\n      <td>20141</td>\n      <td>0</td>\n      <td>0</td>\n      <td>0</td>\n      <td>0</td>\n      <td>O</td>\n      <td>U</td>\n      <td>0</td>\n    </tr>\n    <tr>\n      <th>100231</th>\n      <td>102251</td>\n      <td>0</td>\n      <td>0</td>\n      <td>0</td>\n      <td>1</td>\n      <td>1</td>\n      <td>57001</td>\n      <td>0</td>\n      <td>0</td>\n      <td>0</td>\n      <td>...</td>\n      <td>N</td>\n      <td>900000</td>\n      <td>20103</td>\n      <td>0</td>\n      <td>0</td>\n      <td>0</td>\n      <td>0</td>\n      <td>O</td>\n      <td>U</td>\n      <td>540000</td>\n    </tr>\n    <tr>\n      <th>100232</th>\n      <td>102252</td>\n      <td>0</td>\n      <td>1</td>\n      <td>0</td>\n      <td>0</td>\n      <td>0</td>\n      <td>18001</td>\n      <td>18001</td>\n      <td>18001</td>\n      <td>0</td>\n      <td>...</td>\n      <td>N</td>\n      <td>400000</td>\n      <td>20151</td>\n      <td>0</td>\n      <td>0</td>\n      <td>0</td>\n      <td>60000</td>\n      <td>K</td>\n      <td>U</td>\n      <td>180000</td>\n    </tr>\n  </tbody>\n</table>\n<p>100233 rows × 69 columns</p>\n</div>"
     },
     "metadata": {},
     "execution_count": 37
    }
   ],
   "source": [
    "# 정규식 .. 몰라도 됨 (알면 좋은데 너무 어려움)\n",
    "df.filter(regex='T$',axis=1)\n",
    "df"
   ]
  },
  {
   "cell_type": "code",
   "execution_count": 40,
   "metadata": {},
   "outputs": [
    {
     "output_type": "execute_result",
     "data": {
      "text/plain": [
       "        CUST_ID  TARGET  BNK_LNIF_CNT  CPT_LNIF_CNT  SPART_LNIF_CNT  \\\n",
       "1             2       0             1             0               0   \n",
       "3             4       1             0             2               4   \n",
       "4             5       0             4             0               0   \n",
       "5             6       0             1             0               1   \n",
       "6             7       0             0             1               2   \n",
       "...         ...     ...           ...           ...             ...   \n",
       "100228   102248       0             1             0               2   \n",
       "100229   102249       0             2             0               0   \n",
       "100230   102250       0             1             0               0   \n",
       "100231   102251       0             0             0               1   \n",
       "100232   102252       0             1             0               0   \n",
       "\n",
       "        ECT_LNIF_CNT  TOT_LNIF_AMT  TOT_CLIF_AMT  BNK_LNIF_AMT  CPT_LNIF_AMT  \\\n",
       "1                  0         24001             0         24001             0   \n",
       "3                  2          6001          3001             0          3001   \n",
       "4                  0         21001         15001         21001             0   \n",
       "5                  1        141001         27001        111001             0   \n",
       "6                  1         12001          3001             0          9001   \n",
       "...              ...           ...           ...           ...           ...   \n",
       "100228             2         75001         15001         57001             0   \n",
       "100229             0         54001          9001         54001             0   \n",
       "100230             0         27001         27001         27001             0   \n",
       "100231             1         57001             0             0             0   \n",
       "100232             0         18001         18001         18001             0   \n",
       "\n",
       "        ...  CBPT_MBSP_YN  MOBL_FATY_PRC  TEL_CNTT_QTR  NUM_DAY_SUSP  \\\n",
       "1       ...             N         500000         20143             0   \n",
       "3       ...             N         900000         20144             0   \n",
       "4       ...             Y         800000         20131             0   \n",
       "5       ...             N         400000         20154             0   \n",
       "6       ...             N         900000         20143             0   \n",
       "...     ...           ...            ...           ...           ...   \n",
       "100228  ...             N              0         20111             0   \n",
       "100229  ...             Y         900000         20134             0   \n",
       "100230  ...             N              0         20141             0   \n",
       "100231  ...             N         900000         20103             0   \n",
       "100232  ...             N         400000         20151             0   \n",
       "\n",
       "        CRMM_OVDU_AMT  TLFE_UNPD_CNT LT1Y_MXOD_AMT  PAYM_METD  LINE_STUS  \\\n",
       "1                   0              0             0          O          U   \n",
       "3              540000              0        630000          G          S   \n",
       "4              130000              0         90000          G          U   \n",
       "5                   0              0             0          O          U   \n",
       "6              120000              0        290000          G          U   \n",
       "...               ...            ...           ...        ...        ...   \n",
       "100228          20000              0             0          R          U   \n",
       "100229              0              0             0          K          U   \n",
       "100230              0              0             0          O          U   \n",
       "100231              0              0             0          O          U   \n",
       "100232              0              0         60000          K          U   \n",
       "\n",
       "        MOBL_PRIN  \n",
       "1           90000  \n",
       "3          320000  \n",
       "4          410000  \n",
       "5          170000  \n",
       "6          720000  \n",
       "...           ...  \n",
       "100228          0  \n",
       "100229     180000  \n",
       "100230          0  \n",
       "100231     540000  \n",
       "100232     180000  \n",
       "\n",
       "[100231 rows x 69 columns]"
      ],
      "text/html": "<div>\n<style scoped>\n    .dataframe tbody tr th:only-of-type {\n        vertical-align: middle;\n    }\n\n    .dataframe tbody tr th {\n        vertical-align: top;\n    }\n\n    .dataframe thead th {\n        text-align: right;\n    }\n</style>\n<table border=\"1\" class=\"dataframe\">\n  <thead>\n    <tr style=\"text-align: right;\">\n      <th></th>\n      <th>CUST_ID</th>\n      <th>TARGET</th>\n      <th>BNK_LNIF_CNT</th>\n      <th>CPT_LNIF_CNT</th>\n      <th>SPART_LNIF_CNT</th>\n      <th>ECT_LNIF_CNT</th>\n      <th>TOT_LNIF_AMT</th>\n      <th>TOT_CLIF_AMT</th>\n      <th>BNK_LNIF_AMT</th>\n      <th>CPT_LNIF_AMT</th>\n      <th>...</th>\n      <th>CBPT_MBSP_YN</th>\n      <th>MOBL_FATY_PRC</th>\n      <th>TEL_CNTT_QTR</th>\n      <th>NUM_DAY_SUSP</th>\n      <th>CRMM_OVDU_AMT</th>\n      <th>TLFE_UNPD_CNT</th>\n      <th>LT1Y_MXOD_AMT</th>\n      <th>PAYM_METD</th>\n      <th>LINE_STUS</th>\n      <th>MOBL_PRIN</th>\n    </tr>\n  </thead>\n  <tbody>\n    <tr>\n      <th>1</th>\n      <td>2</td>\n      <td>0</td>\n      <td>1</td>\n      <td>0</td>\n      <td>0</td>\n      <td>0</td>\n      <td>24001</td>\n      <td>0</td>\n      <td>24001</td>\n      <td>0</td>\n      <td>...</td>\n      <td>N</td>\n      <td>500000</td>\n      <td>20143</td>\n      <td>0</td>\n      <td>0</td>\n      <td>0</td>\n      <td>0</td>\n      <td>O</td>\n      <td>U</td>\n      <td>90000</td>\n    </tr>\n    <tr>\n      <th>3</th>\n      <td>4</td>\n      <td>1</td>\n      <td>0</td>\n      <td>2</td>\n      <td>4</td>\n      <td>2</td>\n      <td>6001</td>\n      <td>3001</td>\n      <td>0</td>\n      <td>3001</td>\n      <td>...</td>\n      <td>N</td>\n      <td>900000</td>\n      <td>20144</td>\n      <td>0</td>\n      <td>540000</td>\n      <td>0</td>\n      <td>630000</td>\n      <td>G</td>\n      <td>S</td>\n      <td>320000</td>\n    </tr>\n    <tr>\n      <th>4</th>\n      <td>5</td>\n      <td>0</td>\n      <td>4</td>\n      <td>0</td>\n      <td>0</td>\n      <td>0</td>\n      <td>21001</td>\n      <td>15001</td>\n      <td>21001</td>\n      <td>0</td>\n      <td>...</td>\n      <td>Y</td>\n      <td>800000</td>\n      <td>20131</td>\n      <td>0</td>\n      <td>130000</td>\n      <td>0</td>\n      <td>90000</td>\n      <td>G</td>\n      <td>U</td>\n      <td>410000</td>\n    </tr>\n    <tr>\n      <th>5</th>\n      <td>6</td>\n      <td>0</td>\n      <td>1</td>\n      <td>0</td>\n      <td>1</td>\n      <td>1</td>\n      <td>141001</td>\n      <td>27001</td>\n      <td>111001</td>\n      <td>0</td>\n      <td>...</td>\n      <td>N</td>\n      <td>400000</td>\n      <td>20154</td>\n      <td>0</td>\n      <td>0</td>\n      <td>0</td>\n      <td>0</td>\n      <td>O</td>\n      <td>U</td>\n      <td>170000</td>\n    </tr>\n    <tr>\n      <th>6</th>\n      <td>7</td>\n      <td>0</td>\n      <td>0</td>\n      <td>1</td>\n      <td>2</td>\n      <td>1</td>\n      <td>12001</td>\n      <td>3001</td>\n      <td>0</td>\n      <td>9001</td>\n      <td>...</td>\n      <td>N</td>\n      <td>900000</td>\n      <td>20143</td>\n      <td>0</td>\n      <td>120000</td>\n      <td>0</td>\n      <td>290000</td>\n      <td>G</td>\n      <td>U</td>\n      <td>720000</td>\n    </tr>\n    <tr>\n      <th>...</th>\n      <td>...</td>\n      <td>...</td>\n      <td>...</td>\n      <td>...</td>\n      <td>...</td>\n      <td>...</td>\n      <td>...</td>\n      <td>...</td>\n      <td>...</td>\n      <td>...</td>\n      <td>...</td>\n      <td>...</td>\n      <td>...</td>\n      <td>...</td>\n      <td>...</td>\n      <td>...</td>\n      <td>...</td>\n      <td>...</td>\n      <td>...</td>\n      <td>...</td>\n      <td>...</td>\n    </tr>\n    <tr>\n      <th>100228</th>\n      <td>102248</td>\n      <td>0</td>\n      <td>1</td>\n      <td>0</td>\n      <td>2</td>\n      <td>2</td>\n      <td>75001</td>\n      <td>15001</td>\n      <td>57001</td>\n      <td>0</td>\n      <td>...</td>\n      <td>N</td>\n      <td>0</td>\n      <td>20111</td>\n      <td>0</td>\n      <td>20000</td>\n      <td>0</td>\n      <td>0</td>\n      <td>R</td>\n      <td>U</td>\n      <td>0</td>\n    </tr>\n    <tr>\n      <th>100229</th>\n      <td>102249</td>\n      <td>0</td>\n      <td>2</td>\n      <td>0</td>\n      <td>0</td>\n      <td>0</td>\n      <td>54001</td>\n      <td>9001</td>\n      <td>54001</td>\n      <td>0</td>\n      <td>...</td>\n      <td>Y</td>\n      <td>900000</td>\n      <td>20134</td>\n      <td>0</td>\n      <td>0</td>\n      <td>0</td>\n      <td>0</td>\n      <td>K</td>\n      <td>U</td>\n      <td>180000</td>\n    </tr>\n    <tr>\n      <th>100230</th>\n      <td>102250</td>\n      <td>0</td>\n      <td>1</td>\n      <td>0</td>\n      <td>0</td>\n      <td>0</td>\n      <td>27001</td>\n      <td>27001</td>\n      <td>27001</td>\n      <td>0</td>\n      <td>...</td>\n      <td>N</td>\n      <td>0</td>\n      <td>20141</td>\n      <td>0</td>\n      <td>0</td>\n      <td>0</td>\n      <td>0</td>\n      <td>O</td>\n      <td>U</td>\n      <td>0</td>\n    </tr>\n    <tr>\n      <th>100231</th>\n      <td>102251</td>\n      <td>0</td>\n      <td>0</td>\n      <td>0</td>\n      <td>1</td>\n      <td>1</td>\n      <td>57001</td>\n      <td>0</td>\n      <td>0</td>\n      <td>0</td>\n      <td>...</td>\n      <td>N</td>\n      <td>900000</td>\n      <td>20103</td>\n      <td>0</td>\n      <td>0</td>\n      <td>0</td>\n      <td>0</td>\n      <td>O</td>\n      <td>U</td>\n      <td>540000</td>\n    </tr>\n    <tr>\n      <th>100232</th>\n      <td>102252</td>\n      <td>0</td>\n      <td>1</td>\n      <td>0</td>\n      <td>0</td>\n      <td>0</td>\n      <td>18001</td>\n      <td>18001</td>\n      <td>18001</td>\n      <td>0</td>\n      <td>...</td>\n      <td>N</td>\n      <td>400000</td>\n      <td>20151</td>\n      <td>0</td>\n      <td>0</td>\n      <td>0</td>\n      <td>60000</td>\n      <td>K</td>\n      <td>U</td>\n      <td>180000</td>\n    </tr>\n  </tbody>\n</table>\n<p>100231 rows × 69 columns</p>\n</div>"
     },
     "metadata": {},
     "execution_count": 40
    }
   ],
   "source": [
    "df_drop = df.drop([0, 2])\n",
    "df_drop\n"
   ]
  },
  {
   "cell_type": "code",
   "execution_count": 43,
   "metadata": {},
   "outputs": [
    {
     "output_type": "execute_result",
     "data": {
      "text/plain": [
       "       age        job\n",
       "John    20    student\n",
       "Jenny   30  developer\n",
       "Nate    30    teacher"
      ],
      "text/html": "<div>\n<style scoped>\n    .dataframe tbody tr th:only-of-type {\n        vertical-align: middle;\n    }\n\n    .dataframe tbody tr th {\n        vertical-align: top;\n    }\n\n    .dataframe thead th {\n        text-align: right;\n    }\n</style>\n<table border=\"1\" class=\"dataframe\">\n  <thead>\n    <tr style=\"text-align: right;\">\n      <th></th>\n      <th>age</th>\n      <th>job</th>\n    </tr>\n  </thead>\n  <tbody>\n    <tr>\n      <th>John</th>\n      <td>20</td>\n      <td>student</td>\n    </tr>\n    <tr>\n      <th>Jenny</th>\n      <td>30</td>\n      <td>developer</td>\n    </tr>\n    <tr>\n      <th>Nate</th>\n      <td>30</td>\n      <td>teacher</td>\n    </tr>\n  </tbody>\n</table>\n</div>"
     },
     "metadata": {},
     "execution_count": 43
    }
   ],
   "source": [
    "friend_dict_list = [{'age': 20, 'job': 'student'},\n",
    "         {'age': 30, 'job': 'developer'},\n",
    "         {'age': 30, 'job': 'teacher'}]\n",
    "df1 = pd.DataFrame(friend_dict_list, index = ['John', 'Jenny', 'Nate'])\n",
    "df1.head()"
   ]
  },
  {
   "cell_type": "code",
   "execution_count": 45,
   "metadata": {},
   "outputs": [
    {
     "output_type": "execute_result",
     "data": {
      "text/plain": [
       "       age        job\n",
       "John    20    student\n",
       "Jenny   30  developer\n",
       "Nate    30    teacher"
      ],
      "text/html": "<div>\n<style scoped>\n    .dataframe tbody tr th:only-of-type {\n        vertical-align: middle;\n    }\n\n    .dataframe tbody tr th {\n        vertical-align: top;\n    }\n\n    .dataframe thead th {\n        text-align: right;\n    }\n</style>\n<table border=\"1\" class=\"dataframe\">\n  <thead>\n    <tr style=\"text-align: right;\">\n      <th></th>\n      <th>age</th>\n      <th>job</th>\n    </tr>\n  </thead>\n  <tbody>\n    <tr>\n      <th>John</th>\n      <td>20</td>\n      <td>student</td>\n    </tr>\n    <tr>\n      <th>Jenny</th>\n      <td>30</td>\n      <td>developer</td>\n    </tr>\n    <tr>\n      <th>Nate</th>\n      <td>30</td>\n      <td>teacher</td>\n    </tr>\n  </tbody>\n</table>\n</div>"
     },
     "metadata": {},
     "execution_count": 45
    }
   ],
   "source": [
    "df1.drop(['John', 'Nate'])\n",
    "df1\n"
   ]
  },
  {
   "cell_type": "code",
   "execution_count": 50,
   "metadata": {},
   "outputs": [
    {
     "output_type": "execute_result",
     "data": {
      "text/plain": [
       "       age        job\n",
       "Jenny   30  developer"
      ],
      "text/html": "<div>\n<style scoped>\n    .dataframe tbody tr th:only-of-type {\n        vertical-align: middle;\n    }\n\n    .dataframe tbody tr th {\n        vertical-align: top;\n    }\n\n    .dataframe thead th {\n        text-align: right;\n    }\n</style>\n<table border=\"1\" class=\"dataframe\">\n  <thead>\n    <tr style=\"text-align: right;\">\n      <th></th>\n      <th>age</th>\n      <th>job</th>\n    </tr>\n  </thead>\n  <tbody>\n    <tr>\n      <th>Jenny</th>\n      <td>30</td>\n      <td>developer</td>\n    </tr>\n  </tbody>\n</table>\n</div>"
     },
     "metadata": {},
     "execution_count": 50
    }
   ],
   "source": [
    "friend_dict_list = [{'age': 20, 'job': 'student'},\n",
    "         {'age': 30, 'job': 'developer'},\n",
    "         {'age': 30, 'job': 'teacher'}]\n",
    "df1 = pd.DataFrame(friend_dict_list, index = ['John', 'Jenny', 'Nate'])\n",
    "df1.drop(['John', 'Nate'], inplace = True)\n",
    "df1"
   ]
  },
  {
   "cell_type": "code",
   "execution_count": 52,
   "metadata": {},
   "outputs": [
    {
     "output_type": "execute_result",
     "data": {
      "text/plain": [
       "       age        job\n",
       "Jenny   30  developer"
      ],
      "text/html": "<div>\n<style scoped>\n    .dataframe tbody tr th:only-of-type {\n        vertical-align: middle;\n    }\n\n    .dataframe tbody tr th {\n        vertical-align: top;\n    }\n\n    .dataframe thead th {\n        text-align: right;\n    }\n</style>\n<table border=\"1\" class=\"dataframe\">\n  <thead>\n    <tr style=\"text-align: right;\">\n      <th></th>\n      <th>age</th>\n      <th>job</th>\n    </tr>\n  </thead>\n  <tbody>\n    <tr>\n      <th>Jenny</th>\n      <td>30</td>\n      <td>developer</td>\n    </tr>\n  </tbody>\n</table>\n</div>"
     },
     "metadata": {},
     "execution_count": 52
    }
   ],
   "source": [
    "friend_dict_list = [{'age': 20, 'job': 'student'},\n",
    "         {'age': 30, 'job': 'developer'},\n",
    "         {'age': 30, 'job': 'teacher'}]\n",
    "df1 = pd.DataFrame(friend_dict_list, index = ['John', 'Jenny', 'Nate'])\n",
    "df2 = df1.drop(df1.index[[0,2]])\n",
    "df2"
   ]
  },
  {
   "source": [
    "# Drop column"
   ],
   "cell_type": "markdown",
   "metadata": {}
  },
  {
   "cell_type": "code",
   "execution_count": 55,
   "metadata": {},
   "outputs": [
    {
     "output_type": "execute_result",
     "data": {
      "text/plain": [
       "    name  age        job\n",
       "0   Jone   20    student\n",
       "1  Jenny   30  developer\n",
       "2   Nate   30    teacher"
      ],
      "text/html": "<div>\n<style scoped>\n    .dataframe tbody tr th:only-of-type {\n        vertical-align: middle;\n    }\n\n    .dataframe tbody tr th {\n        vertical-align: top;\n    }\n\n    .dataframe thead th {\n        text-align: right;\n    }\n</style>\n<table border=\"1\" class=\"dataframe\">\n  <thead>\n    <tr style=\"text-align: right;\">\n      <th></th>\n      <th>name</th>\n      <th>age</th>\n      <th>job</th>\n    </tr>\n  </thead>\n  <tbody>\n    <tr>\n      <th>0</th>\n      <td>Jone</td>\n      <td>20</td>\n      <td>student</td>\n    </tr>\n    <tr>\n      <th>1</th>\n      <td>Jenny</td>\n      <td>30</td>\n      <td>developer</td>\n    </tr>\n    <tr>\n      <th>2</th>\n      <td>Nate</td>\n      <td>30</td>\n      <td>teacher</td>\n    </tr>\n  </tbody>\n</table>\n</div>"
     },
     "metadata": {},
     "execution_count": 55
    }
   ],
   "source": [
    "friend_dict_list = [{'name': 'Jone', 'age': 20, 'job': 'student'},\n",
    "         {'name': 'Jenny', 'age': 30, 'job': 'developer'},\n",
    "         {'name': 'Nate', 'age': 30, 'job': 'teacher'}]\n",
    "df1 = pd.DataFrame(friend_dict_list)\n",
    "df1"
   ]
  },
  {
   "cell_type": "code",
   "execution_count": 58,
   "metadata": {},
   "outputs": [
    {
     "output_type": "execute_result",
     "data": {
      "text/plain": [
       "    name  age        job  salary\n",
       "0   Jone   20    student       0\n",
       "1  Jenny   30  developer       0\n",
       "2   Nate   30    teacher       0"
      ],
      "text/html": "<div>\n<style scoped>\n    .dataframe tbody tr th:only-of-type {\n        vertical-align: middle;\n    }\n\n    .dataframe tbody tr th {\n        vertical-align: top;\n    }\n\n    .dataframe thead th {\n        text-align: right;\n    }\n</style>\n<table border=\"1\" class=\"dataframe\">\n  <thead>\n    <tr style=\"text-align: right;\">\n      <th></th>\n      <th>name</th>\n      <th>age</th>\n      <th>job</th>\n      <th>salary</th>\n    </tr>\n  </thead>\n  <tbody>\n    <tr>\n      <th>0</th>\n      <td>Jone</td>\n      <td>20</td>\n      <td>student</td>\n      <td>0</td>\n    </tr>\n    <tr>\n      <th>1</th>\n      <td>Jenny</td>\n      <td>30</td>\n      <td>developer</td>\n      <td>0</td>\n    </tr>\n    <tr>\n      <th>2</th>\n      <td>Nate</td>\n      <td>30</td>\n      <td>teacher</td>\n      <td>0</td>\n    </tr>\n  </tbody>\n</table>\n</div>"
     },
     "metadata": {},
     "execution_count": 58
    }
   ],
   "source": [
    "df1['salary'] = 0\n",
    "df1"
   ]
  },
  {
   "cell_type": "code",
   "execution_count": 62,
   "metadata": {},
   "outputs": [
    {
     "output_type": "execute_result",
     "data": {
      "text/plain": [
       "    name  age        job salary\n",
       "0   Jone   20    student     no\n",
       "1  Jenny   30  developer    yes\n",
       "2   Nate   30    teacher    yes"
      ],
      "text/html": "<div>\n<style scoped>\n    .dataframe tbody tr th:only-of-type {\n        vertical-align: middle;\n    }\n\n    .dataframe tbody tr th {\n        vertical-align: top;\n    }\n\n    .dataframe thead th {\n        text-align: right;\n    }\n</style>\n<table border=\"1\" class=\"dataframe\">\n  <thead>\n    <tr style=\"text-align: right;\">\n      <th></th>\n      <th>name</th>\n      <th>age</th>\n      <th>job</th>\n      <th>salary</th>\n    </tr>\n  </thead>\n  <tbody>\n    <tr>\n      <th>0</th>\n      <td>Jone</td>\n      <td>20</td>\n      <td>student</td>\n      <td>no</td>\n    </tr>\n    <tr>\n      <th>1</th>\n      <td>Jenny</td>\n      <td>30</td>\n      <td>developer</td>\n      <td>yes</td>\n    </tr>\n    <tr>\n      <th>2</th>\n      <td>Nate</td>\n      <td>30</td>\n      <td>teacher</td>\n      <td>yes</td>\n    </tr>\n  </tbody>\n</table>\n</div>"
     },
     "metadata": {},
     "execution_count": 62
    }
   ],
   "source": [
    "#numpy -> 실제 Pandas 는 numpy 위에 만들어진 도구\n",
    "#pandas 설치시 자동으로 같이 설치됨\n",
    "#np.where -> excel 의 if 문과 유사\n",
    "\n",
    "import numpy as np\n",
    "df1['salary'] = np.where(df1['job'] != 'student' , 'yes', 'no') \n",
    "df1"
   ]
  },
  {
   "cell_type": "code",
   "execution_count": 64,
   "metadata": {},
   "outputs": [
    {
     "output_type": "execute_result",
     "data": {
      "text/plain": [
       "    name  midterm  final\n",
       "0   John       95     85\n",
       "1  Jenny       85     80\n",
       "2   Nate       10     30"
      ],
      "text/html": "<div>\n<style scoped>\n    .dataframe tbody tr th:only-of-type {\n        vertical-align: middle;\n    }\n\n    .dataframe tbody tr th {\n        vertical-align: top;\n    }\n\n    .dataframe thead th {\n        text-align: right;\n    }\n</style>\n<table border=\"1\" class=\"dataframe\">\n  <thead>\n    <tr style=\"text-align: right;\">\n      <th></th>\n      <th>name</th>\n      <th>midterm</th>\n      <th>final</th>\n    </tr>\n  </thead>\n  <tbody>\n    <tr>\n      <th>0</th>\n      <td>John</td>\n      <td>95</td>\n      <td>85</td>\n    </tr>\n    <tr>\n      <th>1</th>\n      <td>Jenny</td>\n      <td>85</td>\n      <td>80</td>\n    </tr>\n    <tr>\n      <th>2</th>\n      <td>Nate</td>\n      <td>10</td>\n      <td>30</td>\n    </tr>\n  </tbody>\n</table>\n</div>"
     },
     "metadata": {},
     "execution_count": 64
    }
   ],
   "source": [
    "friend_dict_list = [{'name': 'John', 'midterm': 95, 'final': 85},\n",
    "         {'name': 'Jenny', 'midterm': 85, 'final': 80},\n",
    "         {'name': 'Nate', 'midterm': 10, 'final': 30}]\n",
    "df1 = pd.DataFrame(friend_dict_list, columns = ['name', 'midterm', 'final'])\n",
    "df1"
   ]
  },
  {
   "cell_type": "code",
   "execution_count": 70,
   "metadata": {},
   "outputs": [
    {
     "output_type": "execute_result",
     "data": {
      "text/plain": [
       "    name  midterm  final  total  average\n",
       "0   John       95     85    180     90.0\n",
       "1  Jenny       85     80    165     82.5\n",
       "2   Nate       10     30     40     20.0"
      ],
      "text/html": "<div>\n<style scoped>\n    .dataframe tbody tr th:only-of-type {\n        vertical-align: middle;\n    }\n\n    .dataframe tbody tr th {\n        vertical-align: top;\n    }\n\n    .dataframe thead th {\n        text-align: right;\n    }\n</style>\n<table border=\"1\" class=\"dataframe\">\n  <thead>\n    <tr style=\"text-align: right;\">\n      <th></th>\n      <th>name</th>\n      <th>midterm</th>\n      <th>final</th>\n      <th>total</th>\n      <th>average</th>\n    </tr>\n  </thead>\n  <tbody>\n    <tr>\n      <th>0</th>\n      <td>John</td>\n      <td>95</td>\n      <td>85</td>\n      <td>180</td>\n      <td>90.0</td>\n    </tr>\n    <tr>\n      <th>1</th>\n      <td>Jenny</td>\n      <td>85</td>\n      <td>80</td>\n      <td>165</td>\n      <td>82.5</td>\n    </tr>\n    <tr>\n      <th>2</th>\n      <td>Nate</td>\n      <td>10</td>\n      <td>30</td>\n      <td>40</td>\n      <td>20.0</td>\n    </tr>\n  </tbody>\n</table>\n</div>"
     },
     "metadata": {},
     "execution_count": 70
    }
   ],
   "source": [
    "df1['total'] = df1['midterm'] + df1['final']\n",
    "df1['average'] = (df1['midterm'] + df1['final']) / 2\n",
    "\n",
    "df1"
   ]
  },
  {
   "cell_type": "code",
   "execution_count": 75,
   "metadata": {},
   "outputs": [
    {
     "output_type": "execute_result",
     "data": {
      "text/plain": [
       "    name  midterm  final  total  average grade\n",
       "0   John       95     85    180     90.0     A\n",
       "1  Jenny       85     80    165     82.5     B\n",
       "2   Nate       10     30     40     20.0     F"
      ],
      "text/html": "<div>\n<style scoped>\n    .dataframe tbody tr th:only-of-type {\n        vertical-align: middle;\n    }\n\n    .dataframe tbody tr th {\n        vertical-align: top;\n    }\n\n    .dataframe thead th {\n        text-align: right;\n    }\n</style>\n<table border=\"1\" class=\"dataframe\">\n  <thead>\n    <tr style=\"text-align: right;\">\n      <th></th>\n      <th>name</th>\n      <th>midterm</th>\n      <th>final</th>\n      <th>total</th>\n      <th>average</th>\n      <th>grade</th>\n    </tr>\n  </thead>\n  <tbody>\n    <tr>\n      <th>0</th>\n      <td>John</td>\n      <td>95</td>\n      <td>85</td>\n      <td>180</td>\n      <td>90.0</td>\n      <td>A</td>\n    </tr>\n    <tr>\n      <th>1</th>\n      <td>Jenny</td>\n      <td>85</td>\n      <td>80</td>\n      <td>165</td>\n      <td>82.5</td>\n      <td>B</td>\n    </tr>\n    <tr>\n      <th>2</th>\n      <td>Nate</td>\n      <td>10</td>\n      <td>30</td>\n      <td>40</td>\n      <td>20.0</td>\n      <td>F</td>\n    </tr>\n  </tbody>\n</table>\n</div>"
     },
     "metadata": {},
     "execution_count": 75
    }
   ],
   "source": [
    "grades = []\n",
    "\n",
    "for row in df1['average']:\n",
    "    if row >= 90:\n",
    "        grades.append('A')\n",
    "    elif row >= 80:\n",
    "        grades.append('B')\n",
    "    elif row >= 70:\n",
    "        grades.append('C')\n",
    "    else:\n",
    "        grades.append('F')\n",
    "        \n",
    "df1['grade'] = grades\n",
    "df1\n"
   ]
  },
  {
   "cell_type": "code",
   "execution_count": 79,
   "metadata": {},
   "outputs": [
    {
     "output_type": "execute_result",
     "data": {
      "text/plain": [
       "    name  midterm  final  total  average grade  pass\n",
       "0   John       95     85    180     90.0     A  Pass\n",
       "1  Jenny       85     80    165     82.5     B  Pass\n",
       "2   Nate       10     30     40     20.0     F  Fail"
      ],
      "text/html": "<div>\n<style scoped>\n    .dataframe tbody tr th:only-of-type {\n        vertical-align: middle;\n    }\n\n    .dataframe tbody tr th {\n        vertical-align: top;\n    }\n\n    .dataframe thead th {\n        text-align: right;\n    }\n</style>\n<table border=\"1\" class=\"dataframe\">\n  <thead>\n    <tr style=\"text-align: right;\">\n      <th></th>\n      <th>name</th>\n      <th>midterm</th>\n      <th>final</th>\n      <th>total</th>\n      <th>average</th>\n      <th>grade</th>\n      <th>pass</th>\n    </tr>\n  </thead>\n  <tbody>\n    <tr>\n      <th>0</th>\n      <td>John</td>\n      <td>95</td>\n      <td>85</td>\n      <td>180</td>\n      <td>90.0</td>\n      <td>A</td>\n      <td>Pass</td>\n    </tr>\n    <tr>\n      <th>1</th>\n      <td>Jenny</td>\n      <td>85</td>\n      <td>80</td>\n      <td>165</td>\n      <td>82.5</td>\n      <td>B</td>\n      <td>Pass</td>\n    </tr>\n    <tr>\n      <th>2</th>\n      <td>Nate</td>\n      <td>10</td>\n      <td>30</td>\n      <td>40</td>\n      <td>20.0</td>\n      <td>F</td>\n      <td>Fail</td>\n    </tr>\n  </tbody>\n</table>\n</div>"
     },
     "metadata": {},
     "execution_count": 79
    }
   ],
   "source": [
    "#function 을 사용한 방법\n",
    "#apply\n",
    "\n",
    "def pass_or_fail(row):\n",
    "    #print(row)\n",
    "    if row != \"F\":\n",
    "        return 'Pass'\n",
    "    else:\n",
    "        return 'Fail'\n",
    "\n",
    "df1[\"pass\"] = df1.grade.apply(pass_or_fail)\n",
    "df1"
   ]
  },
  {
   "cell_type": "code",
   "execution_count": 61,
   "metadata": {},
   "outputs": [
    {
     "output_type": "execute_result",
     "data": {
      "text/plain": [
       "   yyyy-mm-dd\n",
       "0  2000-06-27\n",
       "1  2002-09-24\n",
       "2  2005-12-20"
      ],
      "text/html": "<div>\n<style scoped>\n    .dataframe tbody tr th:only-of-type {\n        vertical-align: middle;\n    }\n\n    .dataframe tbody tr th {\n        vertical-align: top;\n    }\n\n    .dataframe thead th {\n        text-align: right;\n    }\n</style>\n<table border=\"1\" class=\"dataframe\">\n  <thead>\n    <tr style=\"text-align: right;\">\n      <th></th>\n      <th>yyyy-mm-dd</th>\n    </tr>\n  </thead>\n  <tbody>\n    <tr>\n      <th>0</th>\n      <td>2000-06-27</td>\n    </tr>\n    <tr>\n      <th>1</th>\n      <td>2002-09-24</td>\n    </tr>\n    <tr>\n      <th>2</th>\n      <td>2005-12-20</td>\n    </tr>\n  </tbody>\n</table>\n</div>"
     },
     "metadata": {},
     "execution_count": 61
    }
   ],
   "source": [
    "date_list = [{'yyyy-mm-dd': '2000-06-27'},\n",
    "         {'yyyy-mm-dd': '2002-09-24'},\n",
    "         {'yyyy-mm-dd': '2005-12-20'}]\n",
    "df1 = pd.DataFrame(date_list, columns = ['yyyy-mm-dd'])\n",
    "df1\n",
    "\n"
   ]
  },
  {
   "cell_type": "code",
   "execution_count": 64,
   "metadata": {},
   "outputs": [
    {
     "output_type": "execute_result",
     "data": {
      "text/plain": [
       "   yyyy-mm-dd  year\n",
       "0  2000-06-27  2000\n",
       "1  2002-09-24  2002\n",
       "2  2005-12-20  2005"
      ],
      "text/html": "<div>\n<style scoped>\n    .dataframe tbody tr th:only-of-type {\n        vertical-align: middle;\n    }\n\n    .dataframe tbody tr th {\n        vertical-align: top;\n    }\n\n    .dataframe thead th {\n        text-align: right;\n    }\n</style>\n<table border=\"1\" class=\"dataframe\">\n  <thead>\n    <tr style=\"text-align: right;\">\n      <th></th>\n      <th>yyyy-mm-dd</th>\n      <th>year</th>\n    </tr>\n  </thead>\n  <tbody>\n    <tr>\n      <th>0</th>\n      <td>2000-06-27</td>\n      <td>2000</td>\n    </tr>\n    <tr>\n      <th>1</th>\n      <td>2002-09-24</td>\n      <td>2002</td>\n    </tr>\n    <tr>\n      <th>2</th>\n      <td>2005-12-20</td>\n      <td>2005</td>\n    </tr>\n  </tbody>\n</table>\n</div>"
     },
     "metadata": {},
     "execution_count": 64
    }
   ],
   "source": [
    "def extract_year(row):\n",
    "    #return row.split('-')[0]\n",
    "    return int(row[0:4])\n",
    "\n",
    "df1['year'] = df1['yyyy-mm-dd'].apply(extract_year)\n",
    "df1"
   ]
  },
  {
   "cell_type": "code",
   "execution_count": 65,
   "metadata": {},
   "outputs": [
    {
     "output_type": "execute_result",
     "data": {
      "text/plain": [
       "   yyyy-mm-dd  year  age\n",
       "0  2000-06-27  2000   20\n",
       "1  2002-09-24  2002   18\n",
       "2  2005-12-20  2005   15"
      ],
      "text/html": "<div>\n<style scoped>\n    .dataframe tbody tr th:only-of-type {\n        vertical-align: middle;\n    }\n\n    .dataframe tbody tr th {\n        vertical-align: top;\n    }\n\n    .dataframe thead th {\n        text-align: right;\n    }\n</style>\n<table border=\"1\" class=\"dataframe\">\n  <thead>\n    <tr style=\"text-align: right;\">\n      <th></th>\n      <th>yyyy-mm-dd</th>\n      <th>year</th>\n      <th>age</th>\n    </tr>\n  </thead>\n  <tbody>\n    <tr>\n      <th>0</th>\n      <td>2000-06-27</td>\n      <td>2000</td>\n      <td>20</td>\n    </tr>\n    <tr>\n      <th>1</th>\n      <td>2002-09-24</td>\n      <td>2002</td>\n      <td>18</td>\n    </tr>\n    <tr>\n      <th>2</th>\n      <td>2005-12-20</td>\n      <td>2005</td>\n      <td>15</td>\n    </tr>\n  </tbody>\n</table>\n</div>"
     },
     "metadata": {},
     "execution_count": 65
    }
   ],
   "source": [
    "def extract_year(year, current_year):\n",
    "    return current_year - int(year)\n",
    "\n",
    "df1['age'] = df1['year'].apply(extract_year, current_year=2020)\n",
    "df1"
   ]
  },
  {
   "cell_type": "code",
   "execution_count": 10,
   "metadata": {},
   "outputs": [
    {
     "output_type": "stream",
     "name": "stdout",
     "text": [
      "2000-06-27\n2002-09-24\n2005-12-20\n2000\n2002\n2005\n20\n18\n15\n-----------\n2000-06-27\n2000\n20\n2002-09-24\n2002\n18\n2005-12-20\n2005\n15\n"
     ]
    },
    {
     "output_type": "execute_result",
     "data": {
      "text/plain": [
       "0    None\n",
       "1    None\n",
       "2    None\n",
       "dtype: object"
      ]
     },
     "metadata": {},
     "execution_count": 10
    }
   ],
   "source": [
    "#df 에 apply --> row 단위 혹은 Column 단위로 넘어간다.\n",
    "\n",
    "def printaxis(row) :\n",
    "    for x in row :\n",
    "        print(x)\n",
    "\n",
    "df1.apply(printaxis, axis=0)\n",
    "print(\"-----------\")\n",
    "df1.apply(printaxis, axis=1)"
   ]
  },
  {
   "cell_type": "code",
   "execution_count": 78,
   "metadata": {},
   "outputs": [
    {
     "output_type": "execute_result",
     "data": {
      "text/plain": [
       "   yyyy-mm-dd  year  age                        introduce\n",
       "0  2000-06-27  2000   20  I was born in 2000 my age is 20\n",
       "1  2002-09-24  2002   18  I was born in 2002 my age is 18\n",
       "2  2005-12-20  2005   15  I was born in 2005 my age is 15"
      ],
      "text/html": "<div>\n<style scoped>\n    .dataframe tbody tr th:only-of-type {\n        vertical-align: middle;\n    }\n\n    .dataframe tbody tr th {\n        vertical-align: top;\n    }\n\n    .dataframe thead th {\n        text-align: right;\n    }\n</style>\n<table border=\"1\" class=\"dataframe\">\n  <thead>\n    <tr style=\"text-align: right;\">\n      <th></th>\n      <th>yyyy-mm-dd</th>\n      <th>year</th>\n      <th>age</th>\n      <th>introduce</th>\n    </tr>\n  </thead>\n  <tbody>\n    <tr>\n      <th>0</th>\n      <td>2000-06-27</td>\n      <td>2000</td>\n      <td>20</td>\n      <td>I was born in 2000 my age is 20</td>\n    </tr>\n    <tr>\n      <th>1</th>\n      <td>2002-09-24</td>\n      <td>2002</td>\n      <td>18</td>\n      <td>I was born in 2002 my age is 18</td>\n    </tr>\n    <tr>\n      <th>2</th>\n      <td>2005-12-20</td>\n      <td>2005</td>\n      <td>15</td>\n      <td>I was born in 2005 my age is 15</td>\n    </tr>\n  </tbody>\n</table>\n</div>"
     },
     "metadata": {},
     "execution_count": 78
    }
   ],
   "source": [
    "# 여러 Column 값을 활용해서 값으 계산할때\n",
    "def get_introduce2(row):\n",
    "    return \"I was born in \"+str(row.year)+\" my age is \"+str(row.age)\n",
    "\n",
    "df1[\"introduce\"] = df1.apply(get_introduce2, axis=1)\n",
    "df1"
   ]
  },
  {
   "cell_type": "code",
   "execution_count": 16,
   "metadata": {},
   "outputs": [
    {
     "output_type": "execute_result",
     "data": {
      "text/plain": [
       "   yyyy-mm-dd  year\n",
       "0  2000-06-27  2000\n",
       "1  2002-09-24  2002\n",
       "2  2005-12-20  2005"
      ],
      "text/html": "<div>\n<style scoped>\n    .dataframe tbody tr th:only-of-type {\n        vertical-align: middle;\n    }\n\n    .dataframe tbody tr th {\n        vertical-align: top;\n    }\n\n    .dataframe thead th {\n        text-align: right;\n    }\n</style>\n<table border=\"1\" class=\"dataframe\">\n  <thead>\n    <tr style=\"text-align: right;\">\n      <th></th>\n      <th>yyyy-mm-dd</th>\n      <th>year</th>\n    </tr>\n  </thead>\n  <tbody>\n    <tr>\n      <th>0</th>\n      <td>2000-06-27</td>\n      <td>2000</td>\n    </tr>\n    <tr>\n      <th>1</th>\n      <td>2002-09-24</td>\n      <td>2002</td>\n    </tr>\n    <tr>\n      <th>2</th>\n      <td>2005-12-20</td>\n      <td>2005</td>\n    </tr>\n  </tbody>\n</table>\n</div>"
     },
     "metadata": {},
     "execution_count": 16
    }
   ],
   "source": [
    "#하나의 Column 만 활용해서 값을 변환\n",
    "date_list = [{'yyyy-mm-dd': '2000-06-27'},\n",
    "         {'yyyy-mm-dd': '2002-09-24'},\n",
    "         {'yyyy-mm-dd': '2005-12-20'}]\n",
    "df = pd.DataFrame(date_list, columns = ['yyyy-mm-dd'])\n",
    "\n",
    "def extract_year(row):\n",
    "    return row.split('-')[0]\n",
    "\n",
    "df['year'] = df['yyyy-mm-dd'].map(extract_year)\n",
    "df    "
   ]
  },
  {
   "source": [
    "\n",
    "\n",
    "**apply함수**<br>\n",
    "\n",
    "커스텀 함수를 사용하기 위해 DataFrame에서 복수 개의 컬럼이 필요하다면, apply함수를 사용해야 한다. \n",
    "\n",
    "\n",
    "**map함수**<br>\n",
    "\n",
    "map함수는 DataFrame 타입이 아니라, 반드시 Series 타입에서만 사용해야 한다.\n",
    "\n",
    "\n",
    "**applymap함수**<br>\n",
    "\n",
    "DataFrame 에 적용하며, 모든 값이 해당 함수를 적용받는다."
   ],
   "cell_type": "markdown",
   "metadata": {}
  },
  {
   "cell_type": "code",
   "execution_count": 19,
   "metadata": {},
   "outputs": [
    {
     "output_type": "execute_result",
     "data": {
      "text/plain": [
       "   age        job\n",
       "0   20    student\n",
       "1   30  developer\n",
       "2   30    teacher"
      ],
      "text/html": "<div>\n<style scoped>\n    .dataframe tbody tr th:only-of-type {\n        vertical-align: middle;\n    }\n\n    .dataframe tbody tr th {\n        vertical-align: top;\n    }\n\n    .dataframe thead th {\n        text-align: right;\n    }\n</style>\n<table border=\"1\" class=\"dataframe\">\n  <thead>\n    <tr style=\"text-align: right;\">\n      <th></th>\n      <th>age</th>\n      <th>job</th>\n    </tr>\n  </thead>\n  <tbody>\n    <tr>\n      <th>0</th>\n      <td>20</td>\n      <td>student</td>\n    </tr>\n    <tr>\n      <th>1</th>\n      <td>30</td>\n      <td>developer</td>\n    </tr>\n    <tr>\n      <th>2</th>\n      <td>30</td>\n      <td>teacher</td>\n    </tr>\n  </tbody>\n</table>\n</div>"
     },
     "metadata": {},
     "execution_count": 19
    }
   ],
   "source": [
    "job_list = [{'age': 20, 'job': 'student'},\n",
    "         {'age': 30, 'job': 'developer'},\n",
    "         {'age': 30, 'job': 'teacher'}]\n",
    "df = pd.DataFrame(job_list)\n",
    "df "
   ]
  },
  {
   "cell_type": "code",
   "execution_count": 20,
   "metadata": {},
   "outputs": [
    {
     "output_type": "execute_result",
     "data": {
      "text/plain": [
       "   age  job\n",
       "0   20    1\n",
       "1   30    2\n",
       "2   30    3"
      ],
      "text/html": "<div>\n<style scoped>\n    .dataframe tbody tr th:only-of-type {\n        vertical-align: middle;\n    }\n\n    .dataframe tbody tr th {\n        vertical-align: top;\n    }\n\n    .dataframe thead th {\n        text-align: right;\n    }\n</style>\n<table border=\"1\" class=\"dataframe\">\n  <thead>\n    <tr style=\"text-align: right;\">\n      <th></th>\n      <th>age</th>\n      <th>job</th>\n    </tr>\n  </thead>\n  <tbody>\n    <tr>\n      <th>0</th>\n      <td>20</td>\n      <td>1</td>\n    </tr>\n    <tr>\n      <th>1</th>\n      <td>30</td>\n      <td>2</td>\n    </tr>\n    <tr>\n      <th>2</th>\n      <td>30</td>\n      <td>3</td>\n    </tr>\n  </tbody>\n</table>\n</div>"
     },
     "metadata": {},
     "execution_count": 20
    }
   ],
   "source": [
    "df.job = df.job.map({\"student\":1,\"developer\":2,\"teacher\":3})\n",
    "df"
   ]
  },
  {
   "cell_type": "code",
   "execution_count": 21,
   "metadata": {},
   "outputs": [
    {
     "output_type": "execute_result",
     "data": {
      "text/plain": [
       "     x    y\n",
       "0  5.5 -5.6\n",
       "1 -5.2  5.5\n",
       "2 -1.6 -4.5"
      ],
      "text/html": "<div>\n<style scoped>\n    .dataframe tbody tr th:only-of-type {\n        vertical-align: middle;\n    }\n\n    .dataframe tbody tr th {\n        vertical-align: top;\n    }\n\n    .dataframe thead th {\n        text-align: right;\n    }\n</style>\n<table border=\"1\" class=\"dataframe\">\n  <thead>\n    <tr style=\"text-align: right;\">\n      <th></th>\n      <th>x</th>\n      <th>y</th>\n    </tr>\n  </thead>\n  <tbody>\n    <tr>\n      <th>0</th>\n      <td>5.5</td>\n      <td>-5.6</td>\n    </tr>\n    <tr>\n      <th>1</th>\n      <td>-5.2</td>\n      <td>5.5</td>\n    </tr>\n    <tr>\n      <th>2</th>\n      <td>-1.6</td>\n      <td>-4.5</td>\n    </tr>\n  </tbody>\n</table>\n</div>"
     },
     "metadata": {},
     "execution_count": 21
    }
   ],
   "source": [
    "x_y = [{'x': 5.5, 'y': -5.6},\n",
    "         {'x': -5.2, 'y': 5.5},\n",
    "         {'x': -1.6, 'y': -4.5}]\n",
    "df = pd.DataFrame(x_y)\n",
    "df"
   ]
  },
  {
   "cell_type": "code",
   "execution_count": 23,
   "metadata": {},
   "outputs": [
    {
     "output_type": "execute_result",
     "data": {
      "text/plain": [
       "     x    y\n",
       "0  6.0 -6.0\n",
       "1 -5.0  6.0\n",
       "2 -2.0 -4.0"
      ],
      "text/html": "<div>\n<style scoped>\n    .dataframe tbody tr th:only-of-type {\n        vertical-align: middle;\n    }\n\n    .dataframe tbody tr th {\n        vertical-align: top;\n    }\n\n    .dataframe thead th {\n        text-align: right;\n    }\n</style>\n<table border=\"1\" class=\"dataframe\">\n  <thead>\n    <tr style=\"text-align: right;\">\n      <th></th>\n      <th>x</th>\n      <th>y</th>\n    </tr>\n  </thead>\n  <tbody>\n    <tr>\n      <th>0</th>\n      <td>6.0</td>\n      <td>-6.0</td>\n    </tr>\n    <tr>\n      <th>1</th>\n      <td>-5.0</td>\n      <td>6.0</td>\n    </tr>\n    <tr>\n      <th>2</th>\n      <td>-2.0</td>\n      <td>-4.0</td>\n    </tr>\n  </tbody>\n</table>\n</div>"
     },
     "metadata": {},
     "execution_count": 23
    }
   ],
   "source": [
    "import numpy as np\n",
    "df = df.applymap(np.around)\n",
    "df"
   ]
  },
  {
   "source": [
    "# Group By"
   ],
   "cell_type": "markdown",
   "metadata": {}
  },
  {
   "cell_type": "code",
   "execution_count": 2,
   "metadata": {},
   "outputs": [
    {
     "output_type": "execute_result",
     "data": {
      "text/plain": [
       "  group  value_1   value_2\n",
       "0  grpa        0 -0.337860\n",
       "1  grpa        1 -0.061224\n",
       "2  grpa        2 -0.088279\n",
       "3  grpb        3  0.329610\n",
       "4  grpb        4  0.158617\n",
       "5  grpb        5  1.197707"
      ],
      "text/html": "<div>\n<style scoped>\n    .dataframe tbody tr th:only-of-type {\n        vertical-align: middle;\n    }\n\n    .dataframe tbody tr th {\n        vertical-align: top;\n    }\n\n    .dataframe thead th {\n        text-align: right;\n    }\n</style>\n<table border=\"1\" class=\"dataframe\">\n  <thead>\n    <tr style=\"text-align: right;\">\n      <th></th>\n      <th>group</th>\n      <th>value_1</th>\n      <th>value_2</th>\n    </tr>\n  </thead>\n  <tbody>\n    <tr>\n      <th>0</th>\n      <td>grpa</td>\n      <td>0</td>\n      <td>-0.337860</td>\n    </tr>\n    <tr>\n      <th>1</th>\n      <td>grpa</td>\n      <td>1</td>\n      <td>-0.061224</td>\n    </tr>\n    <tr>\n      <th>2</th>\n      <td>grpa</td>\n      <td>2</td>\n      <td>-0.088279</td>\n    </tr>\n    <tr>\n      <th>3</th>\n      <td>grpb</td>\n      <td>3</td>\n      <td>0.329610</td>\n    </tr>\n    <tr>\n      <th>4</th>\n      <td>grpb</td>\n      <td>4</td>\n      <td>0.158617</td>\n    </tr>\n    <tr>\n      <th>5</th>\n      <td>grpb</td>\n      <td>5</td>\n      <td>1.197707</td>\n    </tr>\n  </tbody>\n</table>\n</div>"
     },
     "metadata": {},
     "execution_count": 2
    }
   ],
   "source": [
    "\n",
    "# Importing common libraries\n",
    "\n",
    "import numpy as np\n",
    "import pandas as pd\n",
    "\n",
    "# sample DataFrame\n",
    "df = pd.DataFrame({'group': ['grpa', 'grpa', 'grpa', 'grpb', 'grpb', 'grpb'], \n",
    "                  'value_1': np.arange(6), \n",
    "                 'value_2': np.random.randn(6)})\n",
    "\n",
    "df\n"
   ]
  },
  {
   "cell_type": "code",
   "execution_count": 12,
   "metadata": {},
   "outputs": [
    {
     "output_type": "execute_result",
     "data": {
      "text/plain": [
       "<pandas.core.groupby.generic.DataFrameGroupBy object at 0x0FF53190>"
      ]
     },
     "metadata": {},
     "execution_count": 12
    }
   ],
   "source": [
    "grouped = df.groupby('group')\n",
    "grouped"
   ]
  },
  {
   "cell_type": "code",
   "execution_count": 13,
   "metadata": {},
   "outputs": [
    {
     "output_type": "execute_result",
     "data": {
      "text/plain": [
       "       value_1  value_2\n",
       "group                  \n",
       "grpa         3        3\n",
       "grpb         3        3"
      ],
      "text/html": "<div>\n<style scoped>\n    .dataframe tbody tr th:only-of-type {\n        vertical-align: middle;\n    }\n\n    .dataframe tbody tr th {\n        vertical-align: top;\n    }\n\n    .dataframe thead th {\n        text-align: right;\n    }\n</style>\n<table border=\"1\" class=\"dataframe\">\n  <thead>\n    <tr style=\"text-align: right;\">\n      <th></th>\n      <th>value_1</th>\n      <th>value_2</th>\n    </tr>\n    <tr>\n      <th>group</th>\n      <th></th>\n      <th></th>\n    </tr>\n  </thead>\n  <tbody>\n    <tr>\n      <th>grpa</th>\n      <td>3</td>\n      <td>3</td>\n    </tr>\n    <tr>\n      <th>grpb</th>\n      <td>3</td>\n      <td>3</td>\n    </tr>\n  </tbody>\n</table>\n</div>"
     },
     "metadata": {},
     "execution_count": 13
    }
   ],
   "source": [
    "grouped.count()"
   ]
  },
  {
   "cell_type": "code",
   "execution_count": 14,
   "metadata": {},
   "outputs": [
    {
     "output_type": "execute_result",
     "data": {
      "text/plain": [
       "       value_1   value_2\n",
       "group                   \n",
       "grpa         3 -0.487363\n",
       "grpb        12  1.685933"
      ],
      "text/html": "<div>\n<style scoped>\n    .dataframe tbody tr th:only-of-type {\n        vertical-align: middle;\n    }\n\n    .dataframe tbody tr th {\n        vertical-align: top;\n    }\n\n    .dataframe thead th {\n        text-align: right;\n    }\n</style>\n<table border=\"1\" class=\"dataframe\">\n  <thead>\n    <tr style=\"text-align: right;\">\n      <th></th>\n      <th>value_1</th>\n      <th>value_2</th>\n    </tr>\n    <tr>\n      <th>group</th>\n      <th></th>\n      <th></th>\n    </tr>\n  </thead>\n  <tbody>\n    <tr>\n      <th>grpa</th>\n      <td>3</td>\n      <td>-0.487363</td>\n    </tr>\n    <tr>\n      <th>grpb</th>\n      <td>12</td>\n      <td>1.685933</td>\n    </tr>\n  </tbody>\n</table>\n</div>"
     },
     "metadata": {},
     "execution_count": 14
    }
   ],
   "source": [
    "grouped.sum()"
   ]
  },
  {
   "cell_type": "code",
   "execution_count": 11,
   "metadata": {},
   "outputs": [
    {
     "output_type": "execute_result",
     "data": {
      "text/plain": [
       "  group  value_1   value_2\n",
       "0  grpa        3 -0.487363\n",
       "1  grpb       12  1.685933"
      ],
      "text/html": "<div>\n<style scoped>\n    .dataframe tbody tr th:only-of-type {\n        vertical-align: middle;\n    }\n\n    .dataframe tbody tr th {\n        vertical-align: top;\n    }\n\n    .dataframe thead th {\n        text-align: right;\n    }\n</style>\n<table border=\"1\" class=\"dataframe\">\n  <thead>\n    <tr style=\"text-align: right;\">\n      <th></th>\n      <th>group</th>\n      <th>value_1</th>\n      <th>value_2</th>\n    </tr>\n  </thead>\n  <tbody>\n    <tr>\n      <th>0</th>\n      <td>grpa</td>\n      <td>3</td>\n      <td>-0.487363</td>\n    </tr>\n    <tr>\n      <th>1</th>\n      <td>grpb</td>\n      <td>12</td>\n      <td>1.685933</td>\n    </tr>\n  </tbody>\n</table>\n</div>"
     },
     "metadata": {},
     "execution_count": 11
    }
   ],
   "source": [
    "grouped1 = df.groupby('group', as_index=False)\n",
    "grouped1.sum()"
   ]
  },
  {
   "cell_type": "code",
   "execution_count": 44,
   "metadata": {},
   "outputs": [
    {
     "output_type": "execute_result",
     "data": {
      "text/plain": [
       "       count\n",
       "group       \n",
       "grpa       3\n",
       "grpb       3"
      ],
      "text/html": "<div>\n<style scoped>\n    .dataframe tbody tr th:only-of-type {\n        vertical-align: middle;\n    }\n\n    .dataframe tbody tr th {\n        vertical-align: top;\n    }\n\n    .dataframe thead th {\n        text-align: right;\n    }\n</style>\n<table border=\"1\" class=\"dataframe\">\n  <thead>\n    <tr style=\"text-align: right;\">\n      <th></th>\n      <th>count</th>\n    </tr>\n    <tr>\n      <th>group</th>\n      <th></th>\n    </tr>\n  </thead>\n  <tbody>\n    <tr>\n      <th>grpa</th>\n      <td>3</td>\n    </tr>\n    <tr>\n      <th>grpb</th>\n      <td>3</td>\n    </tr>\n  </tbody>\n</table>\n</div>"
     },
     "metadata": {},
     "execution_count": 44
    }
   ],
   "source": [
    "pd.DataFrame({\"count\" : grouped.count()['value_2']}) # DataFrame "
   ]
  },
  {
   "cell_type": "code",
   "execution_count": 30,
   "metadata": {},
   "outputs": [
    {
     "output_type": "execute_result",
     "data": {
      "text/plain": [
       "       value_1   value_2\n",
       "group                   \n",
       "grpa         3 -0.781858\n",
       "grpb        12  1.394314"
      ],
      "text/html": "<div>\n<style scoped>\n    .dataframe tbody tr th:only-of-type {\n        vertical-align: middle;\n    }\n\n    .dataframe tbody tr th {\n        vertical-align: top;\n    }\n\n    .dataframe thead th {\n        text-align: right;\n    }\n</style>\n<table border=\"1\" class=\"dataframe\">\n  <thead>\n    <tr style=\"text-align: right;\">\n      <th></th>\n      <th>value_1</th>\n      <th>value_2</th>\n    </tr>\n    <tr>\n      <th>group</th>\n      <th></th>\n      <th></th>\n    </tr>\n  </thead>\n  <tbody>\n    <tr>\n      <th>grpa</th>\n      <td>3</td>\n      <td>-0.781858</td>\n    </tr>\n    <tr>\n      <th>grpb</th>\n      <td>12</td>\n      <td>1.394314</td>\n    </tr>\n  </tbody>\n</table>\n</div>"
     },
     "metadata": {},
     "execution_count": 30
    }
   ],
   "source": [
    "grouped.sum()"
   ]
  },
  {
   "cell_type": "code",
   "execution_count": 31,
   "metadata": {},
   "outputs": [
    {
     "output_type": "execute_result",
     "data": {
      "text/plain": [
       "       value_1   value_2\n",
       "group                   \n",
       "grpa         0 -1.298272\n",
       "grpb         3 -0.147728"
      ],
      "text/html": "<div>\n<style scoped>\n    .dataframe tbody tr th:only-of-type {\n        vertical-align: middle;\n    }\n\n    .dataframe tbody tr th {\n        vertical-align: top;\n    }\n\n    .dataframe thead th {\n        text-align: right;\n    }\n</style>\n<table border=\"1\" class=\"dataframe\">\n  <thead>\n    <tr style=\"text-align: right;\">\n      <th></th>\n      <th>value_1</th>\n      <th>value_2</th>\n    </tr>\n    <tr>\n      <th>group</th>\n      <th></th>\n      <th></th>\n    </tr>\n  </thead>\n  <tbody>\n    <tr>\n      <th>grpa</th>\n      <td>0</td>\n      <td>-1.298272</td>\n    </tr>\n    <tr>\n      <th>grpb</th>\n      <td>3</td>\n      <td>-0.147728</td>\n    </tr>\n  </tbody>\n</table>\n</div>"
     },
     "metadata": {},
     "execution_count": 31
    }
   ],
   "source": [
    "grouped.min()"
   ]
  },
  {
   "cell_type": "code",
   "execution_count": 32,
   "metadata": {},
   "outputs": [
    {
     "output_type": "execute_result",
     "data": {
      "text/plain": [
       "       value_1   value_2\n",
       "group                   \n",
       "grpa         2  0.390226\n",
       "grpb         5  0.886899"
      ],
      "text/html": "<div>\n<style scoped>\n    .dataframe tbody tr th:only-of-type {\n        vertical-align: middle;\n    }\n\n    .dataframe tbody tr th {\n        vertical-align: top;\n    }\n\n    .dataframe thead th {\n        text-align: right;\n    }\n</style>\n<table border=\"1\" class=\"dataframe\">\n  <thead>\n    <tr style=\"text-align: right;\">\n      <th></th>\n      <th>value_1</th>\n      <th>value_2</th>\n    </tr>\n    <tr>\n      <th>group</th>\n      <th></th>\n      <th></th>\n    </tr>\n  </thead>\n  <tbody>\n    <tr>\n      <th>grpa</th>\n      <td>2</td>\n      <td>0.390226</td>\n    </tr>\n    <tr>\n      <th>grpb</th>\n      <td>5</td>\n      <td>0.886899</td>\n    </tr>\n  </tbody>\n</table>\n</div>"
     },
     "metadata": {},
     "execution_count": 32
    }
   ],
   "source": [
    "grouped.max()"
   ]
  },
  {
   "cell_type": "code",
   "execution_count": 35,
   "metadata": {},
   "outputs": [
    {
     "output_type": "execute_result",
     "data": {
      "text/plain": [
       "       value_1   value_2\n",
       "group                   \n",
       "grpa         1 -0.260619\n",
       "grpb         4  0.464771"
      ],
      "text/html": "<div>\n<style scoped>\n    .dataframe tbody tr th:only-of-type {\n        vertical-align: middle;\n    }\n\n    .dataframe tbody tr th {\n        vertical-align: top;\n    }\n\n    .dataframe thead th {\n        text-align: right;\n    }\n</style>\n<table border=\"1\" class=\"dataframe\">\n  <thead>\n    <tr style=\"text-align: right;\">\n      <th></th>\n      <th>value_1</th>\n      <th>value_2</th>\n    </tr>\n    <tr>\n      <th>group</th>\n      <th></th>\n      <th></th>\n    </tr>\n  </thead>\n  <tbody>\n    <tr>\n      <th>grpa</th>\n      <td>1</td>\n      <td>-0.260619</td>\n    </tr>\n    <tr>\n      <th>grpb</th>\n      <td>4</td>\n      <td>0.464771</td>\n    </tr>\n  </tbody>\n</table>\n</div>"
     },
     "metadata": {},
     "execution_count": 35
    }
   ],
   "source": [
    "grouped.mean() #평균값"
   ]
  },
  {
   "cell_type": "code",
   "execution_count": 36,
   "metadata": {},
   "outputs": [
    {
     "output_type": "execute_result",
     "data": {
      "text/plain": [
       "       value_1   value_2\n",
       "group                   \n",
       "grpa         1  0.126189\n",
       "grpb         4  0.655143"
      ],
      "text/html": "<div>\n<style scoped>\n    .dataframe tbody tr th:only-of-type {\n        vertical-align: middle;\n    }\n\n    .dataframe tbody tr th {\n        vertical-align: top;\n    }\n\n    .dataframe thead th {\n        text-align: right;\n    }\n</style>\n<table border=\"1\" class=\"dataframe\">\n  <thead>\n    <tr style=\"text-align: right;\">\n      <th></th>\n      <th>value_1</th>\n      <th>value_2</th>\n    </tr>\n    <tr>\n      <th>group</th>\n      <th></th>\n      <th></th>\n    </tr>\n  </thead>\n  <tbody>\n    <tr>\n      <th>grpa</th>\n      <td>1</td>\n      <td>0.126189</td>\n    </tr>\n    <tr>\n      <th>grpb</th>\n      <td>4</td>\n      <td>0.655143</td>\n    </tr>\n  </tbody>\n</table>\n</div>"
     },
     "metadata": {},
     "execution_count": 36
    }
   ],
   "source": [
    "grouped.median() #중위값"
   ]
  },
  {
   "cell_type": "code",
   "execution_count": 38,
   "metadata": {},
   "outputs": [
    {
     "output_type": "execute_result",
     "data": {
      "text/plain": [
       "       value_1   value_2\n",
       "group                   \n",
       "grpa       1.0  0.908279\n",
       "grpb       1.0  0.542950"
      ],
      "text/html": "<div>\n<style scoped>\n    .dataframe tbody tr th:only-of-type {\n        vertical-align: middle;\n    }\n\n    .dataframe tbody tr th {\n        vertical-align: top;\n    }\n\n    .dataframe thead th {\n        text-align: right;\n    }\n</style>\n<table border=\"1\" class=\"dataframe\">\n  <thead>\n    <tr style=\"text-align: right;\">\n      <th></th>\n      <th>value_1</th>\n      <th>value_2</th>\n    </tr>\n    <tr>\n      <th>group</th>\n      <th></th>\n      <th></th>\n    </tr>\n  </thead>\n  <tbody>\n    <tr>\n      <th>grpa</th>\n      <td>1.0</td>\n      <td>0.908279</td>\n    </tr>\n    <tr>\n      <th>grpb</th>\n      <td>1.0</td>\n      <td>0.542950</td>\n    </tr>\n  </tbody>\n</table>\n</div>"
     },
     "metadata": {},
     "execution_count": 38
    }
   ],
   "source": [
    "grouped.std() #표준편차"
   ]
  },
  {
   "cell_type": "code",
   "execution_count": 39,
   "metadata": {},
   "outputs": [
    {
     "output_type": "execute_result",
     "data": {
      "text/plain": [
       "       value_1   value_2\n",
       "group                   \n",
       "grpa         1  0.824972\n",
       "grpb         1  0.294795"
      ],
      "text/html": "<div>\n<style scoped>\n    .dataframe tbody tr th:only-of-type {\n        vertical-align: middle;\n    }\n\n    .dataframe tbody tr th {\n        vertical-align: top;\n    }\n\n    .dataframe thead th {\n        text-align: right;\n    }\n</style>\n<table border=\"1\" class=\"dataframe\">\n  <thead>\n    <tr style=\"text-align: right;\">\n      <th></th>\n      <th>value_1</th>\n      <th>value_2</th>\n    </tr>\n    <tr>\n      <th>group</th>\n      <th></th>\n      <th></th>\n    </tr>\n  </thead>\n  <tbody>\n    <tr>\n      <th>grpa</th>\n      <td>1</td>\n      <td>0.824972</td>\n    </tr>\n    <tr>\n      <th>grpb</th>\n      <td>1</td>\n      <td>0.294795</td>\n    </tr>\n  </tbody>\n</table>\n</div>"
     },
     "metadata": {},
     "execution_count": 39
    }
   ],
   "source": [
    "grouped.var() #분산"
   ]
  },
  {
   "cell_type": "code",
   "execution_count": 40,
   "metadata": {},
   "outputs": [
    {
     "output_type": "execute_result",
     "data": {
      "text/plain": [
       "      value_1                                    value_2                      \\\n",
       "        count mean  std  min  25%  50%  75%  max   count      mean       std   \n",
       "group                                                                          \n",
       "grpa      3.0  1.0  1.0  0.0  0.5  1.0  1.5  2.0     3.0 -0.260619  0.908279   \n",
       "grpb      3.0  4.0  1.0  3.0  3.5  4.0  4.5  5.0     3.0  0.464771  0.542950   \n",
       "\n",
       "                                                         \n",
       "            min       25%       50%       75%       max  \n",
       "group                                                    \n",
       "grpa  -1.298272 -0.586042  0.126189  0.258207  0.390226  \n",
       "grpb  -0.147728  0.253707  0.655143  0.771021  0.886899  "
      ],
      "text/html": "<div>\n<style scoped>\n    .dataframe tbody tr th:only-of-type {\n        vertical-align: middle;\n    }\n\n    .dataframe tbody tr th {\n        vertical-align: top;\n    }\n\n    .dataframe thead tr th {\n        text-align: left;\n    }\n\n    .dataframe thead tr:last-of-type th {\n        text-align: right;\n    }\n</style>\n<table border=\"1\" class=\"dataframe\">\n  <thead>\n    <tr>\n      <th></th>\n      <th colspan=\"8\" halign=\"left\">value_1</th>\n      <th colspan=\"8\" halign=\"left\">value_2</th>\n    </tr>\n    <tr>\n      <th></th>\n      <th>count</th>\n      <th>mean</th>\n      <th>std</th>\n      <th>min</th>\n      <th>25%</th>\n      <th>50%</th>\n      <th>75%</th>\n      <th>max</th>\n      <th>count</th>\n      <th>mean</th>\n      <th>std</th>\n      <th>min</th>\n      <th>25%</th>\n      <th>50%</th>\n      <th>75%</th>\n      <th>max</th>\n    </tr>\n    <tr>\n      <th>group</th>\n      <th></th>\n      <th></th>\n      <th></th>\n      <th></th>\n      <th></th>\n      <th></th>\n      <th></th>\n      <th></th>\n      <th></th>\n      <th></th>\n      <th></th>\n      <th></th>\n      <th></th>\n      <th></th>\n      <th></th>\n      <th></th>\n    </tr>\n  </thead>\n  <tbody>\n    <tr>\n      <th>grpa</th>\n      <td>3.0</td>\n      <td>1.0</td>\n      <td>1.0</td>\n      <td>0.0</td>\n      <td>0.5</td>\n      <td>1.0</td>\n      <td>1.5</td>\n      <td>2.0</td>\n      <td>3.0</td>\n      <td>-0.260619</td>\n      <td>0.908279</td>\n      <td>-1.298272</td>\n      <td>-0.586042</td>\n      <td>0.126189</td>\n      <td>0.258207</td>\n      <td>0.390226</td>\n    </tr>\n    <tr>\n      <th>grpb</th>\n      <td>3.0</td>\n      <td>4.0</td>\n      <td>1.0</td>\n      <td>3.0</td>\n      <td>3.5</td>\n      <td>4.0</td>\n      <td>4.5</td>\n      <td>5.0</td>\n      <td>3.0</td>\n      <td>0.464771</td>\n      <td>0.542950</td>\n      <td>-0.147728</td>\n      <td>0.253707</td>\n      <td>0.655143</td>\n      <td>0.771021</td>\n      <td>0.886899</td>\n    </tr>\n  </tbody>\n</table>\n</div>"
     },
     "metadata": {},
     "execution_count": 40
    }
   ],
   "source": [
    "grouped.describe()"
   ]
  },
  {
   "cell_type": "code",
   "execution_count": 42,
   "metadata": {},
   "outputs": [
    {
     "output_type": "execute_result",
     "data": {
      "text/plain": [
       "group              grpa      grpb\n",
       "value_1 count  3.000000  3.000000\n",
       "        mean   1.000000  4.000000\n",
       "        std    1.000000  1.000000\n",
       "        min    0.000000  3.000000\n",
       "        25%    0.500000  3.500000\n",
       "        50%    1.000000  4.000000\n",
       "        75%    1.500000  4.500000\n",
       "        max    2.000000  5.000000\n",
       "value_2 count  3.000000  3.000000\n",
       "        mean  -0.260619  0.464771\n",
       "        std    0.908279  0.542950\n",
       "        min   -1.298272 -0.147728\n",
       "        25%   -0.586042  0.253707\n",
       "        50%    0.126189  0.655143\n",
       "        75%    0.258207  0.771021\n",
       "        max    0.390226  0.886899"
      ],
      "text/html": "<div>\n<style scoped>\n    .dataframe tbody tr th:only-of-type {\n        vertical-align: middle;\n    }\n\n    .dataframe tbody tr th {\n        vertical-align: top;\n    }\n\n    .dataframe thead th {\n        text-align: right;\n    }\n</style>\n<table border=\"1\" class=\"dataframe\">\n  <thead>\n    <tr style=\"text-align: right;\">\n      <th></th>\n      <th>group</th>\n      <th>grpa</th>\n      <th>grpb</th>\n    </tr>\n  </thead>\n  <tbody>\n    <tr>\n      <th rowspan=\"8\" valign=\"top\">value_1</th>\n      <th>count</th>\n      <td>3.000000</td>\n      <td>3.000000</td>\n    </tr>\n    <tr>\n      <th>mean</th>\n      <td>1.000000</td>\n      <td>4.000000</td>\n    </tr>\n    <tr>\n      <th>std</th>\n      <td>1.000000</td>\n      <td>1.000000</td>\n    </tr>\n    <tr>\n      <th>min</th>\n      <td>0.000000</td>\n      <td>3.000000</td>\n    </tr>\n    <tr>\n      <th>25%</th>\n      <td>0.500000</td>\n      <td>3.500000</td>\n    </tr>\n    <tr>\n      <th>50%</th>\n      <td>1.000000</td>\n      <td>4.000000</td>\n    </tr>\n    <tr>\n      <th>75%</th>\n      <td>1.500000</td>\n      <td>4.500000</td>\n    </tr>\n    <tr>\n      <th>max</th>\n      <td>2.000000</td>\n      <td>5.000000</td>\n    </tr>\n    <tr>\n      <th rowspan=\"8\" valign=\"top\">value_2</th>\n      <th>count</th>\n      <td>3.000000</td>\n      <td>3.000000</td>\n    </tr>\n    <tr>\n      <th>mean</th>\n      <td>-0.260619</td>\n      <td>0.464771</td>\n    </tr>\n    <tr>\n      <th>std</th>\n      <td>0.908279</td>\n      <td>0.542950</td>\n    </tr>\n    <tr>\n      <th>min</th>\n      <td>-1.298272</td>\n      <td>-0.147728</td>\n    </tr>\n    <tr>\n      <th>25%</th>\n      <td>-0.586042</td>\n      <td>0.253707</td>\n    </tr>\n    <tr>\n      <th>50%</th>\n      <td>0.126189</td>\n      <td>0.655143</td>\n    </tr>\n    <tr>\n      <th>75%</th>\n      <td>0.258207</td>\n      <td>0.771021</td>\n    </tr>\n    <tr>\n      <th>max</th>\n      <td>0.390226</td>\n      <td>0.886899</td>\n    </tr>\n  </tbody>\n</table>\n</div>"
     },
     "metadata": {},
     "execution_count": 42
    }
   ],
   "source": [
    "grouped.describe().T"
   ]
  },
  {
   "source": [
    "<h1><p style=\"color:red\">Homework</p></h1>\n",
    "\n",
    "## 본인이 현재 하는 업무와 연관된 Excel 하나를 반출 \n",
    "## 반출시 개인정보는 삭제 (계좌번호, 이름 등등), 빅식별화 수행\n",
    "## 건수를 1,000 건정도로 한정\n",
    "## 반출된 자료를 기반으로 오늘 배운 내용을 전부 수행"
   ],
   "cell_type": "markdown",
   "metadata": {}
  },
  {
   "source": [
    "# Concatenation & merge "
   ],
   "cell_type": "markdown",
   "metadata": {}
  },
  {
   "cell_type": "code",
   "execution_count": 26,
   "metadata": {},
   "outputs": [
    {
     "output_type": "execute_result",
     "data": {
      "text/plain": [
       "   item no. category name\n",
       "0         1       채소   당근\n",
       "1         2       채소    콩\n",
       "2         3       과일   사과\n",
       "3         4       채소   감자\n",
       "4         5       과일   포도"
      ],
      "text/html": "<div>\n<style scoped>\n    .dataframe tbody tr th:only-of-type {\n        vertical-align: middle;\n    }\n\n    .dataframe tbody tr th {\n        vertical-align: top;\n    }\n\n    .dataframe thead th {\n        text-align: right;\n    }\n</style>\n<table border=\"1\" class=\"dataframe\">\n  <thead>\n    <tr style=\"text-align: right;\">\n      <th></th>\n      <th>item no.</th>\n      <th>category</th>\n      <th>name</th>\n    </tr>\n  </thead>\n  <tbody>\n    <tr>\n      <th>0</th>\n      <td>1</td>\n      <td>채소</td>\n      <td>당근</td>\n    </tr>\n    <tr>\n      <th>1</th>\n      <td>2</td>\n      <td>채소</td>\n      <td>콩</td>\n    </tr>\n    <tr>\n      <th>2</th>\n      <td>3</td>\n      <td>과일</td>\n      <td>사과</td>\n    </tr>\n    <tr>\n      <th>3</th>\n      <td>4</td>\n      <td>채소</td>\n      <td>감자</td>\n    </tr>\n    <tr>\n      <th>4</th>\n      <td>5</td>\n      <td>과일</td>\n      <td>포도</td>\n    </tr>\n  </tbody>\n</table>\n</div>"
     },
     "metadata": {},
     "execution_count": 26
    }
   ],
   "source": [
    "import pandas as pd\n",
    "dataflair={\n",
    "    'item no.':[1,2,3,4,5],\n",
    "    'category':['채소','채소','과일','채소','과일'],\n",
    "    'name':['당근','콩','사과','감자','포도']\n",
    "}\n",
    "data1=pd.DataFrame(dataflair,columns=['item no.','category','name'])\n",
    "data1"
   ]
  },
  {
   "cell_type": "code",
   "execution_count": 24,
   "metadata": {},
   "outputs": [
    {
     "output_type": "execute_result",
     "data": {
      "text/plain": [
       "   item no. category name\n",
       "0         4       채소   호박\n",
       "1         5       과일   망고\n",
       "2         6       과일    배\n",
       "3         7       채소   배추\n",
       "4         8       과일   수박"
      ],
      "text/html": "<div>\n<style scoped>\n    .dataframe tbody tr th:only-of-type {\n        vertical-align: middle;\n    }\n\n    .dataframe tbody tr th {\n        vertical-align: top;\n    }\n\n    .dataframe thead th {\n        text-align: right;\n    }\n</style>\n<table border=\"1\" class=\"dataframe\">\n  <thead>\n    <tr style=\"text-align: right;\">\n      <th></th>\n      <th>item no.</th>\n      <th>category</th>\n      <th>name</th>\n    </tr>\n  </thead>\n  <tbody>\n    <tr>\n      <th>0</th>\n      <td>4</td>\n      <td>채소</td>\n      <td>호박</td>\n    </tr>\n    <tr>\n      <th>1</th>\n      <td>5</td>\n      <td>과일</td>\n      <td>망고</td>\n    </tr>\n    <tr>\n      <th>2</th>\n      <td>6</td>\n      <td>과일</td>\n      <td>배</td>\n    </tr>\n    <tr>\n      <th>3</th>\n      <td>7</td>\n      <td>채소</td>\n      <td>배추</td>\n    </tr>\n    <tr>\n      <th>4</th>\n      <td>8</td>\n      <td>과일</td>\n      <td>수박</td>\n    </tr>\n  </tbody>\n</table>\n</div>"
     },
     "metadata": {},
     "execution_count": 24
    }
   ],
   "source": [
    "dataflair2={\n",
    "    'item no.':[4,5,6,7,8],\n",
    "    'category':['채소','과일','과일','채소','과일'],\n",
    "    'name':['호박','망고','배','배추','수박']\n",
    "}\n",
    "data2=pd.DataFrame(dataflair2,columns=['item no.','category','name'])\n",
    "data2"
   ]
  },
  {
   "cell_type": "code",
   "execution_count": 14,
   "metadata": {},
   "outputs": [
    {
     "output_type": "execute_result",
     "data": {
      "text/plain": [
       "   item no.  price\n",
       "0         1     12\n",
       "1         2     23\n",
       "2         3     98\n",
       "3         4     15\n",
       "4         5     88\n",
       "5         6     24\n",
       "6         7     67\n",
       "7         8     58\n",
       "8         9     26\n",
       "9        10     96"
      ],
      "text/html": "<div>\n<style scoped>\n    .dataframe tbody tr th:only-of-type {\n        vertical-align: middle;\n    }\n\n    .dataframe tbody tr th {\n        vertical-align: top;\n    }\n\n    .dataframe thead th {\n        text-align: right;\n    }\n</style>\n<table border=\"1\" class=\"dataframe\">\n  <thead>\n    <tr style=\"text-align: right;\">\n      <th></th>\n      <th>item no.</th>\n      <th>price</th>\n    </tr>\n  </thead>\n  <tbody>\n    <tr>\n      <th>0</th>\n      <td>1</td>\n      <td>12</td>\n    </tr>\n    <tr>\n      <th>1</th>\n      <td>2</td>\n      <td>23</td>\n    </tr>\n    <tr>\n      <th>2</th>\n      <td>3</td>\n      <td>98</td>\n    </tr>\n    <tr>\n      <th>3</th>\n      <td>4</td>\n      <td>15</td>\n    </tr>\n    <tr>\n      <th>4</th>\n      <td>5</td>\n      <td>88</td>\n    </tr>\n    <tr>\n      <th>5</th>\n      <td>6</td>\n      <td>24</td>\n    </tr>\n    <tr>\n      <th>6</th>\n      <td>7</td>\n      <td>67</td>\n    </tr>\n    <tr>\n      <th>7</th>\n      <td>8</td>\n      <td>58</td>\n    </tr>\n    <tr>\n      <th>8</th>\n      <td>9</td>\n      <td>26</td>\n    </tr>\n    <tr>\n      <th>9</th>\n      <td>10</td>\n      <td>96</td>\n    </tr>\n  </tbody>\n</table>\n</div>"
     },
     "metadata": {},
     "execution_count": 14
    }
   ],
   "source": [
    "dataflair3={\n",
    "    'item no.':[1,2,3,4,5,6,7,8,9,10],\n",
    "    'price':[12,23,98,15,88,24,67,58,26,96]\n",
    "}\n",
    "data3=pd.DataFrame(dataflair3,columns=['item no.','price'])\n",
    "data3"
   ]
  },
  {
   "cell_type": "code",
   "execution_count": 19,
   "metadata": {},
   "outputs": [
    {
     "output_type": "execute_result",
     "data": {
      "text/plain": [
       "   item no. category name\n",
       "0         1       채소   당근\n",
       "1         2       채소    콩\n",
       "2         3       과일   사과\n",
       "3         4       과일   감자\n",
       "4         5       과일   포도\n",
       "0         4       채소   호박\n",
       "1         5       과일   망고\n",
       "2         6       과일    배\n",
       "3         7       채소   배추\n",
       "4         8       과일   수박"
      ],
      "text/html": "<div>\n<style scoped>\n    .dataframe tbody tr th:only-of-type {\n        vertical-align: middle;\n    }\n\n    .dataframe tbody tr th {\n        vertical-align: top;\n    }\n\n    .dataframe thead th {\n        text-align: right;\n    }\n</style>\n<table border=\"1\" class=\"dataframe\">\n  <thead>\n    <tr style=\"text-align: right;\">\n      <th></th>\n      <th>item no.</th>\n      <th>category</th>\n      <th>name</th>\n    </tr>\n  </thead>\n  <tbody>\n    <tr>\n      <th>0</th>\n      <td>1</td>\n      <td>채소</td>\n      <td>당근</td>\n    </tr>\n    <tr>\n      <th>1</th>\n      <td>2</td>\n      <td>채소</td>\n      <td>콩</td>\n    </tr>\n    <tr>\n      <th>2</th>\n      <td>3</td>\n      <td>과일</td>\n      <td>사과</td>\n    </tr>\n    <tr>\n      <th>3</th>\n      <td>4</td>\n      <td>과일</td>\n      <td>감자</td>\n    </tr>\n    <tr>\n      <th>4</th>\n      <td>5</td>\n      <td>과일</td>\n      <td>포도</td>\n    </tr>\n    <tr>\n      <th>0</th>\n      <td>4</td>\n      <td>채소</td>\n      <td>호박</td>\n    </tr>\n    <tr>\n      <th>1</th>\n      <td>5</td>\n      <td>과일</td>\n      <td>망고</td>\n    </tr>\n    <tr>\n      <th>2</th>\n      <td>6</td>\n      <td>과일</td>\n      <td>배</td>\n    </tr>\n    <tr>\n      <th>3</th>\n      <td>7</td>\n      <td>채소</td>\n      <td>배추</td>\n    </tr>\n    <tr>\n      <th>4</th>\n      <td>8</td>\n      <td>과일</td>\n      <td>수박</td>\n    </tr>\n  </tbody>\n</table>\n</div>"
     },
     "metadata": {},
     "execution_count": 19
    }
   ],
   "source": [
    "data_all=pd.concat([data1,data2])\n",
    "data_all\n"
   ]
  },
  {
   "cell_type": "code",
   "execution_count": 20,
   "metadata": {},
   "outputs": [
    {
     "output_type": "execute_result",
     "data": {
      "text/plain": [
       "   item no. category name  item no. category name\n",
       "0         1       채소   당근         4       채소   호박\n",
       "1         2       채소    콩         5       과일   망고\n",
       "2         3       과일   사과         6       과일    배\n",
       "3         4       과일   감자         7       채소   배추\n",
       "4         5       과일   포도         8       과일   수박"
      ],
      "text/html": "<div>\n<style scoped>\n    .dataframe tbody tr th:only-of-type {\n        vertical-align: middle;\n    }\n\n    .dataframe tbody tr th {\n        vertical-align: top;\n    }\n\n    .dataframe thead th {\n        text-align: right;\n    }\n</style>\n<table border=\"1\" class=\"dataframe\">\n  <thead>\n    <tr style=\"text-align: right;\">\n      <th></th>\n      <th>item no.</th>\n      <th>category</th>\n      <th>name</th>\n      <th>item no.</th>\n      <th>category</th>\n      <th>name</th>\n    </tr>\n  </thead>\n  <tbody>\n    <tr>\n      <th>0</th>\n      <td>1</td>\n      <td>채소</td>\n      <td>당근</td>\n      <td>4</td>\n      <td>채소</td>\n      <td>호박</td>\n    </tr>\n    <tr>\n      <th>1</th>\n      <td>2</td>\n      <td>채소</td>\n      <td>콩</td>\n      <td>5</td>\n      <td>과일</td>\n      <td>망고</td>\n    </tr>\n    <tr>\n      <th>2</th>\n      <td>3</td>\n      <td>과일</td>\n      <td>사과</td>\n      <td>6</td>\n      <td>과일</td>\n      <td>배</td>\n    </tr>\n    <tr>\n      <th>3</th>\n      <td>4</td>\n      <td>과일</td>\n      <td>감자</td>\n      <td>7</td>\n      <td>채소</td>\n      <td>배추</td>\n    </tr>\n    <tr>\n      <th>4</th>\n      <td>5</td>\n      <td>과일</td>\n      <td>포도</td>\n      <td>8</td>\n      <td>과일</td>\n      <td>수박</td>\n    </tr>\n  </tbody>\n</table>\n</div>"
     },
     "metadata": {},
     "execution_count": 20
    }
   ],
   "source": [
    "pd.concat([data1,data2], axis=1)"
   ]
  },
  {
   "cell_type": "code",
   "execution_count": 21,
   "metadata": {},
   "outputs": [
    {
     "output_type": "execute_result",
     "data": {
      "text/plain": [
       "   item no. category name  price\n",
       "0         1       채소   당근     12\n",
       "1         2       채소    콩     23\n",
       "2         3       과일   사과     98\n",
       "3         4       과일   감자     15\n",
       "4         4       채소   호박     15\n",
       "5         5       과일   포도     88\n",
       "6         5       과일   망고     88\n",
       "7         6       과일    배     24\n",
       "8         7       채소   배추     67\n",
       "9         8       과일   수박     58"
      ],
      "text/html": "<div>\n<style scoped>\n    .dataframe tbody tr th:only-of-type {\n        vertical-align: middle;\n    }\n\n    .dataframe tbody tr th {\n        vertical-align: top;\n    }\n\n    .dataframe thead th {\n        text-align: right;\n    }\n</style>\n<table border=\"1\" class=\"dataframe\">\n  <thead>\n    <tr style=\"text-align: right;\">\n      <th></th>\n      <th>item no.</th>\n      <th>category</th>\n      <th>name</th>\n      <th>price</th>\n    </tr>\n  </thead>\n  <tbody>\n    <tr>\n      <th>0</th>\n      <td>1</td>\n      <td>채소</td>\n      <td>당근</td>\n      <td>12</td>\n    </tr>\n    <tr>\n      <th>1</th>\n      <td>2</td>\n      <td>채소</td>\n      <td>콩</td>\n      <td>23</td>\n    </tr>\n    <tr>\n      <th>2</th>\n      <td>3</td>\n      <td>과일</td>\n      <td>사과</td>\n      <td>98</td>\n    </tr>\n    <tr>\n      <th>3</th>\n      <td>4</td>\n      <td>과일</td>\n      <td>감자</td>\n      <td>15</td>\n    </tr>\n    <tr>\n      <th>4</th>\n      <td>4</td>\n      <td>채소</td>\n      <td>호박</td>\n      <td>15</td>\n    </tr>\n    <tr>\n      <th>5</th>\n      <td>5</td>\n      <td>과일</td>\n      <td>포도</td>\n      <td>88</td>\n    </tr>\n    <tr>\n      <th>6</th>\n      <td>5</td>\n      <td>과일</td>\n      <td>망고</td>\n      <td>88</td>\n    </tr>\n    <tr>\n      <th>7</th>\n      <td>6</td>\n      <td>과일</td>\n      <td>배</td>\n      <td>24</td>\n    </tr>\n    <tr>\n      <th>8</th>\n      <td>7</td>\n      <td>채소</td>\n      <td>배추</td>\n      <td>67</td>\n    </tr>\n    <tr>\n      <th>9</th>\n      <td>8</td>\n      <td>과일</td>\n      <td>수박</td>\n      <td>58</td>\n    </tr>\n  </tbody>\n</table>\n</div>"
     },
     "metadata": {},
     "execution_count": 21
    }
   ],
   "source": [
    "pd.merge(data_all, data3, on='item no.')"
   ]
  },
  {
   "cell_type": "code",
   "execution_count": 27,
   "metadata": {},
   "outputs": [
    {
     "output_type": "execute_result",
     "data": {
      "text/plain": [
       "   item no. category name_x name_y\n",
       "0         4       채소     감자     호박\n",
       "1         5       과일     포도     망고"
      ],
      "text/html": "<div>\n<style scoped>\n    .dataframe tbody tr th:only-of-type {\n        vertical-align: middle;\n    }\n\n    .dataframe tbody tr th {\n        vertical-align: top;\n    }\n\n    .dataframe thead th {\n        text-align: right;\n    }\n</style>\n<table border=\"1\" class=\"dataframe\">\n  <thead>\n    <tr style=\"text-align: right;\">\n      <th></th>\n      <th>item no.</th>\n      <th>category</th>\n      <th>name_x</th>\n      <th>name_y</th>\n    </tr>\n  </thead>\n  <tbody>\n    <tr>\n      <th>0</th>\n      <td>4</td>\n      <td>채소</td>\n      <td>감자</td>\n      <td>호박</td>\n    </tr>\n    <tr>\n      <th>1</th>\n      <td>5</td>\n      <td>과일</td>\n      <td>포도</td>\n      <td>망고</td>\n    </tr>\n  </tbody>\n</table>\n</div>"
     },
     "metadata": {},
     "execution_count": 27
    }
   ],
   "source": [
    " pd.merge(data1,data2,on=['item no.','category'])"
   ]
  },
  {
   "cell_type": "code",
   "execution_count": 29,
   "metadata": {},
   "outputs": [
    {
     "output_type": "execute_result",
     "data": {
      "text/plain": [
       "   item no. category_x name_x category_y name_y\n",
       "0         1         채소     당근        NaN    NaN\n",
       "1         2         채소      콩        NaN    NaN\n",
       "2         3         과일     사과        NaN    NaN\n",
       "3         4         채소     감자         채소     호박\n",
       "4         5         과일     포도         과일     망고\n",
       "5         6        NaN    NaN         과일      배\n",
       "6         7        NaN    NaN         채소     배추\n",
       "7         8        NaN    NaN         과일     수박"
      ],
      "text/html": "<div>\n<style scoped>\n    .dataframe tbody tr th:only-of-type {\n        vertical-align: middle;\n    }\n\n    .dataframe tbody tr th {\n        vertical-align: top;\n    }\n\n    .dataframe thead th {\n        text-align: right;\n    }\n</style>\n<table border=\"1\" class=\"dataframe\">\n  <thead>\n    <tr style=\"text-align: right;\">\n      <th></th>\n      <th>item no.</th>\n      <th>category_x</th>\n      <th>name_x</th>\n      <th>category_y</th>\n      <th>name_y</th>\n    </tr>\n  </thead>\n  <tbody>\n    <tr>\n      <th>0</th>\n      <td>1</td>\n      <td>채소</td>\n      <td>당근</td>\n      <td>NaN</td>\n      <td>NaN</td>\n    </tr>\n    <tr>\n      <th>1</th>\n      <td>2</td>\n      <td>채소</td>\n      <td>콩</td>\n      <td>NaN</td>\n      <td>NaN</td>\n    </tr>\n    <tr>\n      <th>2</th>\n      <td>3</td>\n      <td>과일</td>\n      <td>사과</td>\n      <td>NaN</td>\n      <td>NaN</td>\n    </tr>\n    <tr>\n      <th>3</th>\n      <td>4</td>\n      <td>채소</td>\n      <td>감자</td>\n      <td>채소</td>\n      <td>호박</td>\n    </tr>\n    <tr>\n      <th>4</th>\n      <td>5</td>\n      <td>과일</td>\n      <td>포도</td>\n      <td>과일</td>\n      <td>망고</td>\n    </tr>\n    <tr>\n      <th>5</th>\n      <td>6</td>\n      <td>NaN</td>\n      <td>NaN</td>\n      <td>과일</td>\n      <td>배</td>\n    </tr>\n    <tr>\n      <th>6</th>\n      <td>7</td>\n      <td>NaN</td>\n      <td>NaN</td>\n      <td>채소</td>\n      <td>배추</td>\n    </tr>\n    <tr>\n      <th>7</th>\n      <td>8</td>\n      <td>NaN</td>\n      <td>NaN</td>\n      <td>과일</td>\n      <td>수박</td>\n    </tr>\n  </tbody>\n</table>\n</div>"
     },
     "metadata": {},
     "execution_count": 29
    }
   ],
   "source": [
    "pd.merge(data1,data2, on='item no.', how='outer')"
   ]
  },
  {
   "cell_type": "code",
   "execution_count": 30,
   "metadata": {},
   "outputs": [
    {
     "output_type": "execute_result",
     "data": {
      "text/plain": [
       "   item no. category_x name_x category_y name_y\n",
       "0         4         채소     감자         채소     호박\n",
       "1         5         과일     포도         과일     망고"
      ],
      "text/html": "<div>\n<style scoped>\n    .dataframe tbody tr th:only-of-type {\n        vertical-align: middle;\n    }\n\n    .dataframe tbody tr th {\n        vertical-align: top;\n    }\n\n    .dataframe thead th {\n        text-align: right;\n    }\n</style>\n<table border=\"1\" class=\"dataframe\">\n  <thead>\n    <tr style=\"text-align: right;\">\n      <th></th>\n      <th>item no.</th>\n      <th>category_x</th>\n      <th>name_x</th>\n      <th>category_y</th>\n      <th>name_y</th>\n    </tr>\n  </thead>\n  <tbody>\n    <tr>\n      <th>0</th>\n      <td>4</td>\n      <td>채소</td>\n      <td>감자</td>\n      <td>채소</td>\n      <td>호박</td>\n    </tr>\n    <tr>\n      <th>1</th>\n      <td>5</td>\n      <td>과일</td>\n      <td>포도</td>\n      <td>과일</td>\n      <td>망고</td>\n    </tr>\n  </tbody>\n</table>\n</div>"
     },
     "metadata": {},
     "execution_count": 30
    }
   ],
   "source": [
    "pd.merge(data1,data2, on='item no.', how='inner')"
   ]
  },
  {
   "cell_type": "code",
   "execution_count": 31,
   "metadata": {},
   "outputs": [
    {
     "output_type": "execute_result",
     "data": {
      "text/plain": [
       "   item no. category_x name_x category_y name_y\n",
       "0         4         채소     감자         채소     호박\n",
       "1         5         과일     포도         과일     망고\n",
       "2         6        NaN    NaN         과일      배\n",
       "3         7        NaN    NaN         채소     배추\n",
       "4         8        NaN    NaN         과일     수박"
      ],
      "text/html": "<div>\n<style scoped>\n    .dataframe tbody tr th:only-of-type {\n        vertical-align: middle;\n    }\n\n    .dataframe tbody tr th {\n        vertical-align: top;\n    }\n\n    .dataframe thead th {\n        text-align: right;\n    }\n</style>\n<table border=\"1\" class=\"dataframe\">\n  <thead>\n    <tr style=\"text-align: right;\">\n      <th></th>\n      <th>item no.</th>\n      <th>category_x</th>\n      <th>name_x</th>\n      <th>category_y</th>\n      <th>name_y</th>\n    </tr>\n  </thead>\n  <tbody>\n    <tr>\n      <th>0</th>\n      <td>4</td>\n      <td>채소</td>\n      <td>감자</td>\n      <td>채소</td>\n      <td>호박</td>\n    </tr>\n    <tr>\n      <th>1</th>\n      <td>5</td>\n      <td>과일</td>\n      <td>포도</td>\n      <td>과일</td>\n      <td>망고</td>\n    </tr>\n    <tr>\n      <th>2</th>\n      <td>6</td>\n      <td>NaN</td>\n      <td>NaN</td>\n      <td>과일</td>\n      <td>배</td>\n    </tr>\n    <tr>\n      <th>3</th>\n      <td>7</td>\n      <td>NaN</td>\n      <td>NaN</td>\n      <td>채소</td>\n      <td>배추</td>\n    </tr>\n    <tr>\n      <th>4</th>\n      <td>8</td>\n      <td>NaN</td>\n      <td>NaN</td>\n      <td>과일</td>\n      <td>수박</td>\n    </tr>\n  </tbody>\n</table>\n</div>"
     },
     "metadata": {},
     "execution_count": 31
    }
   ],
   "source": [
    "pd.merge(data1,data2, on='item no.', how='right')"
   ]
  },
  {
   "cell_type": "code",
   "execution_count": 32,
   "metadata": {},
   "outputs": [
    {
     "output_type": "execute_result",
     "data": {
      "text/plain": [
       "   item no. category_x name_x category_y name_y\n",
       "0         1         채소     당근        NaN    NaN\n",
       "1         2         채소      콩        NaN    NaN\n",
       "2         3         과일     사과        NaN    NaN\n",
       "3         4         채소     감자         채소     호박\n",
       "4         5         과일     포도         과일     망고"
      ],
      "text/html": "<div>\n<style scoped>\n    .dataframe tbody tr th:only-of-type {\n        vertical-align: middle;\n    }\n\n    .dataframe tbody tr th {\n        vertical-align: top;\n    }\n\n    .dataframe thead th {\n        text-align: right;\n    }\n</style>\n<table border=\"1\" class=\"dataframe\">\n  <thead>\n    <tr style=\"text-align: right;\">\n      <th></th>\n      <th>item no.</th>\n      <th>category_x</th>\n      <th>name_x</th>\n      <th>category_y</th>\n      <th>name_y</th>\n    </tr>\n  </thead>\n  <tbody>\n    <tr>\n      <th>0</th>\n      <td>1</td>\n      <td>채소</td>\n      <td>당근</td>\n      <td>NaN</td>\n      <td>NaN</td>\n    </tr>\n    <tr>\n      <th>1</th>\n      <td>2</td>\n      <td>채소</td>\n      <td>콩</td>\n      <td>NaN</td>\n      <td>NaN</td>\n    </tr>\n    <tr>\n      <th>2</th>\n      <td>3</td>\n      <td>과일</td>\n      <td>사과</td>\n      <td>NaN</td>\n      <td>NaN</td>\n    </tr>\n    <tr>\n      <th>3</th>\n      <td>4</td>\n      <td>채소</td>\n      <td>감자</td>\n      <td>채소</td>\n      <td>호박</td>\n    </tr>\n    <tr>\n      <th>4</th>\n      <td>5</td>\n      <td>과일</td>\n      <td>포도</td>\n      <td>과일</td>\n      <td>망고</td>\n    </tr>\n  </tbody>\n</table>\n</div>"
     },
     "metadata": {},
     "execution_count": 32
    }
   ],
   "source": [
    "pd.merge(data1,data2, on='item no.', how='left')"
   ]
  },
  {
   "source": [
    "# Drop Duplicate"
   ],
   "cell_type": "markdown",
   "metadata": {}
  },
  {
   "cell_type": "code",
   "execution_count": 33,
   "metadata": {},
   "outputs": [
    {
     "output_type": "execute_result",
     "data": {
      "text/plain": [
       "        name             major     sex\n",
       "0       John  Computer Science    male\n",
       "1       Nate  Computer Science    male\n",
       "2    Abraham           Physics    male\n",
       "3      Brian        Psychology    male\n",
       "4      Janny         Economics  female\n",
       "5       Yuna         Economics  female\n",
       "6   Jeniffer  Computer Science  female\n",
       "7     Edward  Computer Science    male\n",
       "8       Zara        Psychology  female\n",
       "9      Wendy         Economics  female\n",
       "10      Sera        Psychology  female\n",
       "11      John  Computer Science    male"
      ],
      "text/html": "<div>\n<style scoped>\n    .dataframe tbody tr th:only-of-type {\n        vertical-align: middle;\n    }\n\n    .dataframe tbody tr th {\n        vertical-align: top;\n    }\n\n    .dataframe thead th {\n        text-align: right;\n    }\n</style>\n<table border=\"1\" class=\"dataframe\">\n  <thead>\n    <tr style=\"text-align: right;\">\n      <th></th>\n      <th>name</th>\n      <th>major</th>\n      <th>sex</th>\n    </tr>\n  </thead>\n  <tbody>\n    <tr>\n      <th>0</th>\n      <td>John</td>\n      <td>Computer Science</td>\n      <td>male</td>\n    </tr>\n    <tr>\n      <th>1</th>\n      <td>Nate</td>\n      <td>Computer Science</td>\n      <td>male</td>\n    </tr>\n    <tr>\n      <th>2</th>\n      <td>Abraham</td>\n      <td>Physics</td>\n      <td>male</td>\n    </tr>\n    <tr>\n      <th>3</th>\n      <td>Brian</td>\n      <td>Psychology</td>\n      <td>male</td>\n    </tr>\n    <tr>\n      <th>4</th>\n      <td>Janny</td>\n      <td>Economics</td>\n      <td>female</td>\n    </tr>\n    <tr>\n      <th>5</th>\n      <td>Yuna</td>\n      <td>Economics</td>\n      <td>female</td>\n    </tr>\n    <tr>\n      <th>6</th>\n      <td>Jeniffer</td>\n      <td>Computer Science</td>\n      <td>female</td>\n    </tr>\n    <tr>\n      <th>7</th>\n      <td>Edward</td>\n      <td>Computer Science</td>\n      <td>male</td>\n    </tr>\n    <tr>\n      <th>8</th>\n      <td>Zara</td>\n      <td>Psychology</td>\n      <td>female</td>\n    </tr>\n    <tr>\n      <th>9</th>\n      <td>Wendy</td>\n      <td>Economics</td>\n      <td>female</td>\n    </tr>\n    <tr>\n      <th>10</th>\n      <td>Sera</td>\n      <td>Psychology</td>\n      <td>female</td>\n    </tr>\n    <tr>\n      <th>11</th>\n      <td>John</td>\n      <td>Computer Science</td>\n      <td>male</td>\n    </tr>\n  </tbody>\n</table>\n</div>"
     },
     "metadata": {},
     "execution_count": 33
    }
   ],
   "source": [
    "student_list = [{'name': 'John', 'major': \"Computer Science\", 'sex': \"male\"},\n",
    "                {'name': 'Nate', 'major': \"Computer Science\", 'sex': \"male\"},\n",
    "                {'name': 'Abraham', 'major': \"Physics\", 'sex': \"male\"},\n",
    "                {'name': 'Brian', 'major': \"Psychology\", 'sex': \"male\"},\n",
    "                {'name': 'Janny', 'major': \"Economics\", 'sex': \"female\"},\n",
    "                {'name': 'Yuna', 'major': \"Economics\", 'sex': \"female\"},\n",
    "                {'name': 'Jeniffer', 'major': \"Computer Science\", 'sex': \"female\"},\n",
    "                {'name': 'Edward', 'major': \"Computer Science\", 'sex': \"male\"},\n",
    "                {'name': 'Zara', 'major': \"Psychology\", 'sex': \"female\"},\n",
    "                {'name': 'Wendy', 'major': \"Economics\", 'sex': \"female\"},\n",
    "                {'name': 'Sera', 'major': \"Psychology\", 'sex': \"female\"},\n",
    "                {'name': 'John', 'major': \"Computer Science\", 'sex': \"male\"},\n",
    "         ]\n",
    "df = pd.DataFrame(student_list, columns = ['name', 'major', 'sex'])\n",
    "df"
   ]
  },
  {
   "source": [
    "# check if there is duplicated row\n",
    "df.duplicated()"
   ],
   "cell_type": "code",
   "metadata": {},
   "execution_count": 34,
   "outputs": [
    {
     "output_type": "execute_result",
     "data": {
      "text/plain": [
       "0     False\n",
       "1     False\n",
       "2     False\n",
       "3     False\n",
       "4     False\n",
       "5     False\n",
       "6     False\n",
       "7     False\n",
       "8     False\n",
       "9     False\n",
       "10    False\n",
       "11     True\n",
       "dtype: bool"
      ]
     },
     "metadata": {},
     "execution_count": 34
    }
   ]
  },
  {
   "cell_type": "code",
   "execution_count": 35,
   "metadata": {},
   "outputs": [
    {
     "output_type": "execute_result",
     "data": {
      "text/plain": [
       "        name             major     sex\n",
       "0       John  Computer Science    male\n",
       "1       Nate  Computer Science    male\n",
       "2    Abraham           Physics    male\n",
       "3      Brian        Psychology    male\n",
       "4      Janny         Economics  female\n",
       "5       Yuna         Economics  female\n",
       "6   Jeniffer  Computer Science  female\n",
       "7     Edward  Computer Science    male\n",
       "8       Zara        Psychology  female\n",
       "9      Wendy         Economics  female\n",
       "10      Sera        Psychology  female"
      ],
      "text/html": "<div>\n<style scoped>\n    .dataframe tbody tr th:only-of-type {\n        vertical-align: middle;\n    }\n\n    .dataframe tbody tr th {\n        vertical-align: top;\n    }\n\n    .dataframe thead th {\n        text-align: right;\n    }\n</style>\n<table border=\"1\" class=\"dataframe\">\n  <thead>\n    <tr style=\"text-align: right;\">\n      <th></th>\n      <th>name</th>\n      <th>major</th>\n      <th>sex</th>\n    </tr>\n  </thead>\n  <tbody>\n    <tr>\n      <th>0</th>\n      <td>John</td>\n      <td>Computer Science</td>\n      <td>male</td>\n    </tr>\n    <tr>\n      <th>1</th>\n      <td>Nate</td>\n      <td>Computer Science</td>\n      <td>male</td>\n    </tr>\n    <tr>\n      <th>2</th>\n      <td>Abraham</td>\n      <td>Physics</td>\n      <td>male</td>\n    </tr>\n    <tr>\n      <th>3</th>\n      <td>Brian</td>\n      <td>Psychology</td>\n      <td>male</td>\n    </tr>\n    <tr>\n      <th>4</th>\n      <td>Janny</td>\n      <td>Economics</td>\n      <td>female</td>\n    </tr>\n    <tr>\n      <th>5</th>\n      <td>Yuna</td>\n      <td>Economics</td>\n      <td>female</td>\n    </tr>\n    <tr>\n      <th>6</th>\n      <td>Jeniffer</td>\n      <td>Computer Science</td>\n      <td>female</td>\n    </tr>\n    <tr>\n      <th>7</th>\n      <td>Edward</td>\n      <td>Computer Science</td>\n      <td>male</td>\n    </tr>\n    <tr>\n      <th>8</th>\n      <td>Zara</td>\n      <td>Psychology</td>\n      <td>female</td>\n    </tr>\n    <tr>\n      <th>9</th>\n      <td>Wendy</td>\n      <td>Economics</td>\n      <td>female</td>\n    </tr>\n    <tr>\n      <th>10</th>\n      <td>Sera</td>\n      <td>Psychology</td>\n      <td>female</td>\n    </tr>\n  </tbody>\n</table>\n</div>"
     },
     "metadata": {},
     "execution_count": 35
    }
   ],
   "source": [
    "df = df.drop_duplicates()\n",
    "df"
   ]
  },
  {
   "cell_type": "code",
   "execution_count": 36,
   "metadata": {},
   "outputs": [
    {
     "output_type": "execute_result",
     "data": {
      "text/plain": [
       "        name             major     sex\n",
       "0       John  Computer Science    male\n",
       "1       Nate  Computer Science    male\n",
       "2    Abraham           Physics    male\n",
       "3      Brian        Psychology    male\n",
       "4      Janny         Economics  female\n",
       "5       Yuna         Economics  female\n",
       "6   Jeniffer  Computer Science  female\n",
       "7     Edward  Computer Science    male\n",
       "8       Zara        Psychology  female\n",
       "9      Wendy         Economics  female\n",
       "10      Nate              None    male\n",
       "11      John  Computer Science    None"
      ],
      "text/html": "<div>\n<style scoped>\n    .dataframe tbody tr th:only-of-type {\n        vertical-align: middle;\n    }\n\n    .dataframe tbody tr th {\n        vertical-align: top;\n    }\n\n    .dataframe thead th {\n        text-align: right;\n    }\n</style>\n<table border=\"1\" class=\"dataframe\">\n  <thead>\n    <tr style=\"text-align: right;\">\n      <th></th>\n      <th>name</th>\n      <th>major</th>\n      <th>sex</th>\n    </tr>\n  </thead>\n  <tbody>\n    <tr>\n      <th>0</th>\n      <td>John</td>\n      <td>Computer Science</td>\n      <td>male</td>\n    </tr>\n    <tr>\n      <th>1</th>\n      <td>Nate</td>\n      <td>Computer Science</td>\n      <td>male</td>\n    </tr>\n    <tr>\n      <th>2</th>\n      <td>Abraham</td>\n      <td>Physics</td>\n      <td>male</td>\n    </tr>\n    <tr>\n      <th>3</th>\n      <td>Brian</td>\n      <td>Psychology</td>\n      <td>male</td>\n    </tr>\n    <tr>\n      <th>4</th>\n      <td>Janny</td>\n      <td>Economics</td>\n      <td>female</td>\n    </tr>\n    <tr>\n      <th>5</th>\n      <td>Yuna</td>\n      <td>Economics</td>\n      <td>female</td>\n    </tr>\n    <tr>\n      <th>6</th>\n      <td>Jeniffer</td>\n      <td>Computer Science</td>\n      <td>female</td>\n    </tr>\n    <tr>\n      <th>7</th>\n      <td>Edward</td>\n      <td>Computer Science</td>\n      <td>male</td>\n    </tr>\n    <tr>\n      <th>8</th>\n      <td>Zara</td>\n      <td>Psychology</td>\n      <td>female</td>\n    </tr>\n    <tr>\n      <th>9</th>\n      <td>Wendy</td>\n      <td>Economics</td>\n      <td>female</td>\n    </tr>\n    <tr>\n      <th>10</th>\n      <td>Nate</td>\n      <td>None</td>\n      <td>male</td>\n    </tr>\n    <tr>\n      <th>11</th>\n      <td>John</td>\n      <td>Computer Science</td>\n      <td>None</td>\n    </tr>\n  </tbody>\n</table>\n</div>"
     },
     "metadata": {},
     "execution_count": 36
    }
   ],
   "source": [
    "student_list = [{'name': 'John', 'major': \"Computer Science\", 'sex': \"male\"},\n",
    "                {'name': 'Nate', 'major': \"Computer Science\", 'sex': \"male\"},\n",
    "                {'name': 'Abraham', 'major': \"Physics\", 'sex': \"male\"},\n",
    "                {'name': 'Brian', 'major': \"Psychology\", 'sex': \"male\"},\n",
    "                {'name': 'Janny', 'major': \"Economics\", 'sex': \"female\"},\n",
    "                {'name': 'Yuna', 'major': \"Economics\", 'sex': \"female\"},\n",
    "                {'name': 'Jeniffer', 'major': \"Computer Science\", 'sex': \"female\"},\n",
    "                {'name': 'Edward', 'major': \"Computer Science\", 'sex': \"male\"},\n",
    "                {'name': 'Zara', 'major': \"Psychology\", 'sex': \"female\"},\n",
    "                {'name': 'Wendy', 'major': \"Economics\", 'sex': \"female\"},\n",
    "                {'name': 'Nate', 'major': None, 'sex': \"male\"},\n",
    "                {'name': 'John', 'major': \"Computer Science\", 'sex': None},\n",
    "         ]\n",
    "df = pd.DataFrame(student_list, columns = ['name', 'major', 'sex'])\n",
    "df"
   ]
  },
  {
   "cell_type": "code",
   "execution_count": 37,
   "metadata": {},
   "outputs": [
    {
     "output_type": "execute_result",
     "data": {
      "text/plain": [
       "0     False\n",
       "1     False\n",
       "2     False\n",
       "3     False\n",
       "4     False\n",
       "5     False\n",
       "6     False\n",
       "7     False\n",
       "8     False\n",
       "9     False\n",
       "10     True\n",
       "11     True\n",
       "dtype: bool"
      ]
     },
     "metadata": {},
     "execution_count": 37
    }
   ],
   "source": [
    "df.duplicated(['name'])"
   ]
  },
  {
   "cell_type": "code",
   "execution_count": 42,
   "metadata": {},
   "outputs": [
    {
     "output_type": "execute_result",
     "data": {
      "text/plain": [
       "        name             major     sex\n",
       "2    Abraham           Physics    male\n",
       "3      Brian        Psychology    male\n",
       "4      Janny         Economics  female\n",
       "5       Yuna         Economics  female\n",
       "6   Jeniffer  Computer Science  female\n",
       "7     Edward  Computer Science    male\n",
       "8       Zara        Psychology  female\n",
       "9      Wendy         Economics  female\n",
       "10      Nate              None    male\n",
       "11      John  Computer Science    None"
      ],
      "text/html": "<div>\n<style scoped>\n    .dataframe tbody tr th:only-of-type {\n        vertical-align: middle;\n    }\n\n    .dataframe tbody tr th {\n        vertical-align: top;\n    }\n\n    .dataframe thead th {\n        text-align: right;\n    }\n</style>\n<table border=\"1\" class=\"dataframe\">\n  <thead>\n    <tr style=\"text-align: right;\">\n      <th></th>\n      <th>name</th>\n      <th>major</th>\n      <th>sex</th>\n    </tr>\n  </thead>\n  <tbody>\n    <tr>\n      <th>2</th>\n      <td>Abraham</td>\n      <td>Physics</td>\n      <td>male</td>\n    </tr>\n    <tr>\n      <th>3</th>\n      <td>Brian</td>\n      <td>Psychology</td>\n      <td>male</td>\n    </tr>\n    <tr>\n      <th>4</th>\n      <td>Janny</td>\n      <td>Economics</td>\n      <td>female</td>\n    </tr>\n    <tr>\n      <th>5</th>\n      <td>Yuna</td>\n      <td>Economics</td>\n      <td>female</td>\n    </tr>\n    <tr>\n      <th>6</th>\n      <td>Jeniffer</td>\n      <td>Computer Science</td>\n      <td>female</td>\n    </tr>\n    <tr>\n      <th>7</th>\n      <td>Edward</td>\n      <td>Computer Science</td>\n      <td>male</td>\n    </tr>\n    <tr>\n      <th>8</th>\n      <td>Zara</td>\n      <td>Psychology</td>\n      <td>female</td>\n    </tr>\n    <tr>\n      <th>9</th>\n      <td>Wendy</td>\n      <td>Economics</td>\n      <td>female</td>\n    </tr>\n    <tr>\n      <th>10</th>\n      <td>Nate</td>\n      <td>None</td>\n      <td>male</td>\n    </tr>\n    <tr>\n      <th>11</th>\n      <td>John</td>\n      <td>Computer Science</td>\n      <td>None</td>\n    </tr>\n  </tbody>\n</table>\n</div>"
     },
     "metadata": {},
     "execution_count": 42
    }
   ],
   "source": [
    "df1 = df.drop_duplicates(['name'], keep='last')\n",
    "df1"
   ]
  },
  {
   "source": [
    "# how to manage None value?"
   ],
   "cell_type": "markdown",
   "metadata": {}
  },
  {
   "cell_type": "code",
   "execution_count": 54,
   "metadata": {},
   "outputs": [
    {
     "output_type": "execute_result",
     "data": {
      "text/plain": [
       "      name      job   age\n",
       "0     John  teacher  40.0\n",
       "1     Nate  teacher  35.0\n",
       "2     Yuna  teacher  37.0\n",
       "3  Abraham  student  10.0\n",
       "4    Brian  student  12.0\n",
       "5    Janny  student  11.0\n",
       "6     Nate  teacher   NaN\n",
       "7     John  student   NaN"
      ],
      "text/html": "<div>\n<style scoped>\n    .dataframe tbody tr th:only-of-type {\n        vertical-align: middle;\n    }\n\n    .dataframe tbody tr th {\n        vertical-align: top;\n    }\n\n    .dataframe thead th {\n        text-align: right;\n    }\n</style>\n<table border=\"1\" class=\"dataframe\">\n  <thead>\n    <tr style=\"text-align: right;\">\n      <th></th>\n      <th>name</th>\n      <th>job</th>\n      <th>age</th>\n    </tr>\n  </thead>\n  <tbody>\n    <tr>\n      <th>0</th>\n      <td>John</td>\n      <td>teacher</td>\n      <td>40.0</td>\n    </tr>\n    <tr>\n      <th>1</th>\n      <td>Nate</td>\n      <td>teacher</td>\n      <td>35.0</td>\n    </tr>\n    <tr>\n      <th>2</th>\n      <td>Yuna</td>\n      <td>teacher</td>\n      <td>37.0</td>\n    </tr>\n    <tr>\n      <th>3</th>\n      <td>Abraham</td>\n      <td>student</td>\n      <td>10.0</td>\n    </tr>\n    <tr>\n      <th>4</th>\n      <td>Brian</td>\n      <td>student</td>\n      <td>12.0</td>\n    </tr>\n    <tr>\n      <th>5</th>\n      <td>Janny</td>\n      <td>student</td>\n      <td>11.0</td>\n    </tr>\n    <tr>\n      <th>6</th>\n      <td>Nate</td>\n      <td>teacher</td>\n      <td>NaN</td>\n    </tr>\n    <tr>\n      <th>7</th>\n      <td>John</td>\n      <td>student</td>\n      <td>NaN</td>\n    </tr>\n  </tbody>\n</table>\n</div>"
     },
     "metadata": {},
     "execution_count": 54
    }
   ],
   "source": [
    "school_id_list = [{'name': 'John', 'job': \"teacher\", 'age': 40},\n",
    "                {'name': 'Nate', 'job': \"teacher\", 'age': 35},\n",
    "                {'name': 'Yuna', 'job': \"teacher\", 'age': 37},\n",
    "                {'name': 'Abraham', 'job': \"student\", 'age': 10},\n",
    "                {'name': 'Brian', 'job': \"student\", 'age': 12},\n",
    "                {'name': 'Janny', 'job': \"student\", 'age': 11},\n",
    "                {'name': 'Nate', 'job': \"teacher\", 'age': None},\n",
    "                {'name': 'John', 'job': \"student\", 'age': None}\n",
    "         ]\n",
    "df = pd.DataFrame(school_id_list, columns = ['name', 'job', 'age'])\n",
    "df"
   ]
  },
  {
   "cell_type": "code",
   "execution_count": 44,
   "metadata": {},
   "outputs": [
    {
     "output_type": "stream",
     "name": "stdout",
     "text": [
      "<class 'pandas.core.frame.DataFrame'>\nRangeIndex: 8 entries, 0 to 7\nData columns (total 3 columns):\n #   Column  Non-Null Count  Dtype  \n---  ------  --------------  -----  \n 0   name    8 non-null      object \n 1   job     8 non-null      object \n 2   age     6 non-null      float64\ndtypes: float64(1), object(2)\nmemory usage: 192.0+ bytes\n"
     ]
    }
   ],
   "source": [
    "# how to check if there is Null or NaN\n",
    "df.info()"
   ]
  },
  {
   "cell_type": "code",
   "execution_count": 45,
   "metadata": {},
   "outputs": [
    {
     "output_type": "execute_result",
     "data": {
      "text/plain": [
       "    name    job    age\n",
       "0  False  False  False\n",
       "1  False  False  False\n",
       "2  False  False  False\n",
       "3  False  False  False\n",
       "4  False  False  False\n",
       "5  False  False  False\n",
       "6  False  False   True\n",
       "7  False  False   True"
      ],
      "text/html": "<div>\n<style scoped>\n    .dataframe tbody tr th:only-of-type {\n        vertical-align: middle;\n    }\n\n    .dataframe tbody tr th {\n        vertical-align: top;\n    }\n\n    .dataframe thead th {\n        text-align: right;\n    }\n</style>\n<table border=\"1\" class=\"dataframe\">\n  <thead>\n    <tr style=\"text-align: right;\">\n      <th></th>\n      <th>name</th>\n      <th>job</th>\n      <th>age</th>\n    </tr>\n  </thead>\n  <tbody>\n    <tr>\n      <th>0</th>\n      <td>False</td>\n      <td>False</td>\n      <td>False</td>\n    </tr>\n    <tr>\n      <th>1</th>\n      <td>False</td>\n      <td>False</td>\n      <td>False</td>\n    </tr>\n    <tr>\n      <th>2</th>\n      <td>False</td>\n      <td>False</td>\n      <td>False</td>\n    </tr>\n    <tr>\n      <th>3</th>\n      <td>False</td>\n      <td>False</td>\n      <td>False</td>\n    </tr>\n    <tr>\n      <th>4</th>\n      <td>False</td>\n      <td>False</td>\n      <td>False</td>\n    </tr>\n    <tr>\n      <th>5</th>\n      <td>False</td>\n      <td>False</td>\n      <td>False</td>\n    </tr>\n    <tr>\n      <th>6</th>\n      <td>False</td>\n      <td>False</td>\n      <td>True</td>\n    </tr>\n    <tr>\n      <th>7</th>\n      <td>False</td>\n      <td>False</td>\n      <td>True</td>\n    </tr>\n  </tbody>\n</table>\n</div>"
     },
     "metadata": {},
     "execution_count": 45
    }
   ],
   "source": [
    "df.isna()"
   ]
  },
  {
   "cell_type": "code",
   "execution_count": 46,
   "metadata": {},
   "outputs": [
    {
     "output_type": "execute_result",
     "data": {
      "text/plain": [
       "    name    job    age\n",
       "0  False  False  False\n",
       "1  False  False  False\n",
       "2  False  False  False\n",
       "3  False  False  False\n",
       "4  False  False  False\n",
       "5  False  False  False\n",
       "6  False  False   True\n",
       "7  False  False   True"
      ],
      "text/html": "<div>\n<style scoped>\n    .dataframe tbody tr th:only-of-type {\n        vertical-align: middle;\n    }\n\n    .dataframe tbody tr th {\n        vertical-align: top;\n    }\n\n    .dataframe thead th {\n        text-align: right;\n    }\n</style>\n<table border=\"1\" class=\"dataframe\">\n  <thead>\n    <tr style=\"text-align: right;\">\n      <th></th>\n      <th>name</th>\n      <th>job</th>\n      <th>age</th>\n    </tr>\n  </thead>\n  <tbody>\n    <tr>\n      <th>0</th>\n      <td>False</td>\n      <td>False</td>\n      <td>False</td>\n    </tr>\n    <tr>\n      <th>1</th>\n      <td>False</td>\n      <td>False</td>\n      <td>False</td>\n    </tr>\n    <tr>\n      <th>2</th>\n      <td>False</td>\n      <td>False</td>\n      <td>False</td>\n    </tr>\n    <tr>\n      <th>3</th>\n      <td>False</td>\n      <td>False</td>\n      <td>False</td>\n    </tr>\n    <tr>\n      <th>4</th>\n      <td>False</td>\n      <td>False</td>\n      <td>False</td>\n    </tr>\n    <tr>\n      <th>5</th>\n      <td>False</td>\n      <td>False</td>\n      <td>False</td>\n    </tr>\n    <tr>\n      <th>6</th>\n      <td>False</td>\n      <td>False</td>\n      <td>True</td>\n    </tr>\n    <tr>\n      <th>7</th>\n      <td>False</td>\n      <td>False</td>\n      <td>True</td>\n    </tr>\n  </tbody>\n</table>\n</div>"
     },
     "metadata": {},
     "execution_count": 46
    }
   ],
   "source": [
    "df.isnull()"
   ]
  },
  {
   "cell_type": "code",
   "execution_count": 47,
   "metadata": {},
   "outputs": [
    {
     "output_type": "execute_result",
     "data": {
      "text/plain": [
       "      name      job   age\n",
       "0     John  teacher  40.0\n",
       "1     Nate  teacher  35.0\n",
       "2     Yuna  teacher  37.0\n",
       "3  Abraham  student  10.0\n",
       "4    Brian  student  12.0\n",
       "5    Janny  student  11.0\n",
       "6     Nate  teacher   0.0\n",
       "7     John  student   0.0"
      ],
      "text/html": "<div>\n<style scoped>\n    .dataframe tbody tr th:only-of-type {\n        vertical-align: middle;\n    }\n\n    .dataframe tbody tr th {\n        vertical-align: top;\n    }\n\n    .dataframe thead th {\n        text-align: right;\n    }\n</style>\n<table border=\"1\" class=\"dataframe\">\n  <thead>\n    <tr style=\"text-align: right;\">\n      <th></th>\n      <th>name</th>\n      <th>job</th>\n      <th>age</th>\n    </tr>\n  </thead>\n  <tbody>\n    <tr>\n      <th>0</th>\n      <td>John</td>\n      <td>teacher</td>\n      <td>40.0</td>\n    </tr>\n    <tr>\n      <th>1</th>\n      <td>Nate</td>\n      <td>teacher</td>\n      <td>35.0</td>\n    </tr>\n    <tr>\n      <th>2</th>\n      <td>Yuna</td>\n      <td>teacher</td>\n      <td>37.0</td>\n    </tr>\n    <tr>\n      <th>3</th>\n      <td>Abraham</td>\n      <td>student</td>\n      <td>10.0</td>\n    </tr>\n    <tr>\n      <th>4</th>\n      <td>Brian</td>\n      <td>student</td>\n      <td>12.0</td>\n    </tr>\n    <tr>\n      <th>5</th>\n      <td>Janny</td>\n      <td>student</td>\n      <td>11.0</td>\n    </tr>\n    <tr>\n      <th>6</th>\n      <td>Nate</td>\n      <td>teacher</td>\n      <td>0.0</td>\n    </tr>\n    <tr>\n      <th>7</th>\n      <td>John</td>\n      <td>student</td>\n      <td>0.0</td>\n    </tr>\n  </tbody>\n</table>\n</div>"
     },
     "metadata": {},
     "execution_count": 47
    }
   ],
   "source": [
    "tmp = df\n",
    "tmp[\"age\"] = tmp[\"age\"].fillna(0)\n",
    "tmp"
   ]
  },
  {
   "cell_type": "code",
   "execution_count": 56,
   "metadata": {},
   "outputs": [
    {
     "output_type": "execute_result",
     "data": {
      "text/plain": [
       "      name      job   age\n",
       "0     John  teacher  40.0\n",
       "1     Nate  teacher  35.0\n",
       "2     Yuna  teacher  37.0\n",
       "3  Abraham  student  10.0\n",
       "4    Brian  student  12.0\n",
       "5    Janny  student  11.0\n",
       "6     Nate  teacher  37.0\n",
       "7     John  student  11.0"
      ],
      "text/html": "<div>\n<style scoped>\n    .dataframe tbody tr th:only-of-type {\n        vertical-align: middle;\n    }\n\n    .dataframe tbody tr th {\n        vertical-align: top;\n    }\n\n    .dataframe thead th {\n        text-align: right;\n    }\n</style>\n<table border=\"1\" class=\"dataframe\">\n  <thead>\n    <tr style=\"text-align: right;\">\n      <th></th>\n      <th>name</th>\n      <th>job</th>\n      <th>age</th>\n    </tr>\n  </thead>\n  <tbody>\n    <tr>\n      <th>0</th>\n      <td>John</td>\n      <td>teacher</td>\n      <td>40.0</td>\n    </tr>\n    <tr>\n      <th>1</th>\n      <td>Nate</td>\n      <td>teacher</td>\n      <td>35.0</td>\n    </tr>\n    <tr>\n      <th>2</th>\n      <td>Yuna</td>\n      <td>teacher</td>\n      <td>37.0</td>\n    </tr>\n    <tr>\n      <th>3</th>\n      <td>Abraham</td>\n      <td>student</td>\n      <td>10.0</td>\n    </tr>\n    <tr>\n      <th>4</th>\n      <td>Brian</td>\n      <td>student</td>\n      <td>12.0</td>\n    </tr>\n    <tr>\n      <th>5</th>\n      <td>Janny</td>\n      <td>student</td>\n      <td>11.0</td>\n    </tr>\n    <tr>\n      <th>6</th>\n      <td>Nate</td>\n      <td>teacher</td>\n      <td>37.0</td>\n    </tr>\n    <tr>\n      <th>7</th>\n      <td>John</td>\n      <td>student</td>\n      <td>11.0</td>\n    </tr>\n  </tbody>\n</table>\n</div>"
     },
     "metadata": {},
     "execution_count": 56
    }
   ],
   "source": [
    "school_id_list = [{'name': 'John', 'job': \"teacher\", 'age': 40},\n",
    "                {'name': 'Nate', 'job': \"teacher\", 'age': 35},\n",
    "                {'name': 'Yuna', 'job': \"teacher\", 'age': 37},\n",
    "                {'name': 'Abraham', 'job': \"student\", 'age': 10},\n",
    "                {'name': 'Brian', 'job': \"student\", 'age': 12},\n",
    "                {'name': 'Janny', 'job': \"student\", 'age': 11},\n",
    "                {'name': 'Nate', 'job': \"teacher\", 'age': None},\n",
    "                {'name': 'John', 'job': \"student\", 'age': None}\n",
    "         ]\n",
    "df = pd.DataFrame(school_id_list, columns = ['name', 'job', 'age'])\n",
    "\n",
    "df[\"age\"].fillna(df.groupby(\"job\")[\"age\"].transform(\"median\"), inplace=True)\n",
    "df "
   ]
  },
  {
   "cell_type": "code",
   "execution_count": 57,
   "metadata": {},
   "outputs": [],
   "source": [
    "job_list = [{'name': 'John', 'job': \"teacher\"},\n",
    "                {'name': 'Nate', 'job': \"teacher\"},\n",
    "                {'name': 'Fred', 'job': \"teacher\"},\n",
    "                {'name': 'Abraham', 'job': \"student\"},\n",
    "                {'name': 'Brian', 'job': \"student\"},\n",
    "                {'name': 'Janny', 'job': \"developer\"},\n",
    "                {'name': 'Nate', 'job': \"teacher\"},\n",
    "                {'name': 'Obrian', 'job': \"dentist\"},\n",
    "                {'name': 'Yuna', 'job': \"teacher\"},\n",
    "                {'name': 'Rob', 'job': \"lawyer\"},\n",
    "                {'name': 'Brian', 'job': \"student\"},\n",
    "                {'name': 'Matt', 'job': \"student\"},\n",
    "                {'name': 'Wendy', 'job': \"banker\"},\n",
    "                {'name': 'Edward', 'job': \"teacher\"},\n",
    "                {'name': 'Ian', 'job': \"teacher\"},\n",
    "                {'name': 'Chris', 'job': \"banker\"},\n",
    "                {'name': 'Philip', 'job': \"lawyer\"},\n",
    "                {'name': 'Janny', 'job': \"basketball player\"},\n",
    "                {'name': 'Gwen', 'job': \"teacher\"},\n",
    "                {'name': 'Jessy', 'job': \"student\"}\n",
    "         ]\n",
    "df = pd.DataFrame(job_list, columns = ['name', 'job'])"
   ]
  },
  {
   "cell_type": "code",
   "execution_count": 58,
   "metadata": {},
   "outputs": [
    {
     "output_type": "execute_result",
     "data": {
      "text/plain": [
       "array(['teacher', 'student', 'developer', 'dentist', 'lawyer', 'banker',\n",
       "       'basketball player'], dtype=object)"
      ]
     },
     "metadata": {},
     "execution_count": 58
    }
   ],
   "source": [
    "#df[\"job\"].unique()\n",
    "df.job.unique()"
   ]
  },
  {
   "cell_type": "code",
   "execution_count": 60,
   "metadata": {},
   "outputs": [
    {
     "output_type": "execute_result",
     "data": {
      "text/plain": [
       "teacher              8\n",
       "student              5\n",
       "lawyer               2\n",
       "banker               2\n",
       "dentist              1\n",
       "basketball player    1\n",
       "developer            1\n",
       "Name: job, dtype: int64"
      ]
     },
     "metadata": {},
     "execution_count": 60
    }
   ],
   "source": [
    "#df[\"job\"].value_counts()\n",
    "df.job.value_counts()\n"
   ]
  },
  {
   "cell_type": "code",
   "execution_count": 82,
   "metadata": {},
   "outputs": [
    {
     "output_type": "execute_result",
     "data": {
      "text/plain": [
       "       name                job\n",
       "3   Abraham            student\n",
       "4     Brian            student\n",
       "10    Brian            student\n",
       "15    Chris             banker\n",
       "13   Edward            teacher\n",
       "2      Fred            teacher\n",
       "18     Gwen            teacher\n",
       "14      Ian            teacher\n",
       "17    Janny  basketball player\n",
       "5     Janny          developer\n",
       "19    Jessy            student\n",
       "0      John            teacher\n",
       "11     Matt            student\n",
       "1      Nate            teacher\n",
       "6      Nate            teacher\n",
       "7    Obrian            dentist\n",
       "16   Philip             lawyer\n",
       "9       Rob             lawyer\n",
       "12    Wendy             banker\n",
       "8      Yuna            teacher"
      ],
      "text/html": "<div>\n<style scoped>\n    .dataframe tbody tr th:only-of-type {\n        vertical-align: middle;\n    }\n\n    .dataframe tbody tr th {\n        vertical-align: top;\n    }\n\n    .dataframe thead th {\n        text-align: right;\n    }\n</style>\n<table border=\"1\" class=\"dataframe\">\n  <thead>\n    <tr style=\"text-align: right;\">\n      <th></th>\n      <th>name</th>\n      <th>job</th>\n    </tr>\n  </thead>\n  <tbody>\n    <tr>\n      <th>3</th>\n      <td>Abraham</td>\n      <td>student</td>\n    </tr>\n    <tr>\n      <th>4</th>\n      <td>Brian</td>\n      <td>student</td>\n    </tr>\n    <tr>\n      <th>10</th>\n      <td>Brian</td>\n      <td>student</td>\n    </tr>\n    <tr>\n      <th>15</th>\n      <td>Chris</td>\n      <td>banker</td>\n    </tr>\n    <tr>\n      <th>13</th>\n      <td>Edward</td>\n      <td>teacher</td>\n    </tr>\n    <tr>\n      <th>2</th>\n      <td>Fred</td>\n      <td>teacher</td>\n    </tr>\n    <tr>\n      <th>18</th>\n      <td>Gwen</td>\n      <td>teacher</td>\n    </tr>\n    <tr>\n      <th>14</th>\n      <td>Ian</td>\n      <td>teacher</td>\n    </tr>\n    <tr>\n      <th>17</th>\n      <td>Janny</td>\n      <td>basketball player</td>\n    </tr>\n    <tr>\n      <th>5</th>\n      <td>Janny</td>\n      <td>developer</td>\n    </tr>\n    <tr>\n      <th>19</th>\n      <td>Jessy</td>\n      <td>student</td>\n    </tr>\n    <tr>\n      <th>0</th>\n      <td>John</td>\n      <td>teacher</td>\n    </tr>\n    <tr>\n      <th>11</th>\n      <td>Matt</td>\n      <td>student</td>\n    </tr>\n    <tr>\n      <th>1</th>\n      <td>Nate</td>\n      <td>teacher</td>\n    </tr>\n    <tr>\n      <th>6</th>\n      <td>Nate</td>\n      <td>teacher</td>\n    </tr>\n    <tr>\n      <th>7</th>\n      <td>Obrian</td>\n      <td>dentist</td>\n    </tr>\n    <tr>\n      <th>16</th>\n      <td>Philip</td>\n      <td>lawyer</td>\n    </tr>\n    <tr>\n      <th>9</th>\n      <td>Rob</td>\n      <td>lawyer</td>\n    </tr>\n    <tr>\n      <th>12</th>\n      <td>Wendy</td>\n      <td>banker</td>\n    </tr>\n    <tr>\n      <th>8</th>\n      <td>Yuna</td>\n      <td>teacher</td>\n    </tr>\n  </tbody>\n</table>\n</div>"
     },
     "metadata": {},
     "execution_count": 82
    }
   ],
   "source": [
    "df.sort_values(by=['name', 'job'])"
   ]
  }
 ]
}